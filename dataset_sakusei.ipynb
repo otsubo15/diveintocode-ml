{
 "cells": [
  {
   "cell_type": "code",
   "execution_count": 1,
   "outputs": [
    {
     "ename": "ModuleNotFoundError",
     "evalue": "No module named 'cv2'",
     "output_type": "error",
     "traceback": [
      "\u001B[1;31m---------------------------------------------------------------------------\u001B[0m",
      "\u001B[1;31mModuleNotFoundError\u001B[0m                       Traceback (most recent call last)",
      "\u001B[1;32m<ipython-input-1-cd8a51c467ef>\u001B[0m in \u001B[0;36m<module>\u001B[1;34m\u001B[0m\n\u001B[0;32m     16\u001B[0m \u001B[1;32mimport\u001B[0m \u001B[0mre\u001B[0m\u001B[1;33m\u001B[0m\u001B[1;33m\u001B[0m\u001B[0m\n\u001B[0;32m     17\u001B[0m \u001B[1;32mimport\u001B[0m \u001B[0mmatplotlib\u001B[0m\u001B[1;33m.\u001B[0m\u001B[0mpyplot\u001B[0m \u001B[1;32mas\u001B[0m \u001B[0mplt\u001B[0m\u001B[1;33m\u001B[0m\u001B[1;33m\u001B[0m\u001B[0m\n\u001B[1;32m---> 18\u001B[1;33m \u001B[1;32mimport\u001B[0m \u001B[0mcv2\u001B[0m\u001B[1;33m\u001B[0m\u001B[1;33m\u001B[0m\u001B[0m\n\u001B[0m\u001B[0;32m     19\u001B[0m \u001B[1;32mfrom\u001B[0m \u001B[0mPIL\u001B[0m \u001B[1;32mimport\u001B[0m \u001B[0mImage\u001B[0m\u001B[1;33m\u001B[0m\u001B[1;33m\u001B[0m\u001B[0m\n\u001B[0;32m     20\u001B[0m \u001B[0mget_ipython\u001B[0m\u001B[1;33m(\u001B[0m\u001B[1;33m)\u001B[0m\u001B[1;33m.\u001B[0m\u001B[0mrun_line_magic\u001B[0m\u001B[1;33m(\u001B[0m\u001B[1;34m'matplotlib'\u001B[0m\u001B[1;33m,\u001B[0m \u001B[1;34m'inline'\u001B[0m\u001B[1;33m)\u001B[0m\u001B[1;33m\u001B[0m\u001B[1;33m\u001B[0m\u001B[0m\n",
      "\u001B[1;31mModuleNotFoundError\u001B[0m: No module named 'cv2'"
     ]
    }
   ],
   "source": [
    "###################\n",
    "#インポート\n",
    "###################\n",
    "\n",
    "from tensorflow.keras.preprocessing.image import ImageDataGenerator\n",
    "import matplotlib.pyplot as plt\n",
    "from keras.models import Sequential\n",
    "from keras.layers import Dense, Flatten, Conv2D, MaxPooling2D\n",
    "from keras import optimizers\n",
    "from keras.preprocessing.image import load_img, img_to_array\n",
    "from PIL import Image\n",
    "import numpy as np\n",
    "import numpy  as np\n",
    "import os\n",
    "import glob\n",
    "import re\n",
    "import matplotlib.pyplot as plt\n",
    "import cv2\n",
    "from PIL import Image\n",
    "%matplotlib inline\n",
    "import glob\n",
    "import numpy as np"
   ],
   "metadata": {
    "collapsed": false,
    "pycharm": {
     "name": "#%%\n"
    }
   }
  },
  {
   "cell_type": "code",
   "source": [
    "###################\n",
    "# 問題1 自作データセットでの分類の学習\n",
    "###################\n",
    "\n",
    "# 基本的なグローバル変数を定義\n",
    "EPOCHS = 15\n",
    "IMG_HEIGHT = 150\n",
    "IMG_WIDTH = 150\n",
    "\n",
    "# 画像パス\n",
    "image_path_list = glob.glob(r'sprint18_images\\cat\\*')+glob.glob(r'sprint18_images\\dog\\*')\n",
    "\n",
    "# 説明変数と目的変数格納用変数\n",
    "X = []\n",
    "y = []\n",
    "\n",
    "# 画像パスでループ\n",
    "for image_path in image_path_list:\n",
    "    # 正解ラベルを格納\n",
    "    if image_path.find('dog')!=-1:\n",
    "        y.append([0])\n",
    "    else:\n",
    "        y.append([1])\n",
    "    # 画像データを格納\n",
    "    image = load_img(image_path, grayscale=False, color_mode='rgb', target_size=(IMG_HEIGHT,IMG_WIDTH))\n",
    "    image_array = img_to_array(image) / 255\n",
    "    X.append(image_array)\n",
    "\n",
    "# numpy配列化\n",
    "X = np.array(X)\n",
    "y = np.array(y)"
   ],
   "metadata": {
    "collapsed": false,
    "pycharm": {
     "name": "#%%\n"
    }
   },
   "execution_count": null,
   "outputs": []
  },
  {
   "cell_type": "code",
   "execution_count": null,
   "outputs": [],
   "source": [
    "# 配列の形確認\n",
    "X.shape,y.shape"
   ],
   "metadata": {
    "collapsed": false,
    "pycharm": {
     "name": "#%%\n"
    }
   }
  },
  {
   "cell_type": "code",
   "execution_count": null,
   "outputs": [],
   "source": [
    "# モデル定義\n",
    "model = Sequential([\n",
    "    Conv2D(16, 3, activation='relu', input_shape=(IMG_HEIGHT, IMG_WIDTH ,3)),\n",
    "    MaxPooling2D(),\n",
    "    Conv2D(32, 3, activation='relu'),\n",
    "    MaxPooling2D(),\n",
    "    Conv2D(64, 3, activation='relu'),\n",
    "    MaxPooling2D(),\n",
    "    Flatten(),\n",
    "    Dense(512, activation='relu'),\n",
    "    Dense(1, activation='sigmoid')\n",
    "])\n",
    "# コンパイル\n",
    "model.compile(loss=\"binary_crossentropy\", optimizer=optimizers.Adam(lr=0.001), metrics=[\"accuracy\"])"
   ],
   "metadata": {
    "collapsed": false,
    "pycharm": {
     "name": "#%%\n"
    }
   }
  },
  {
   "cell_type": "code",
   "execution_count": null,
   "outputs": [],
   "source": [
    "# 学習\n",
    "model.fit(X,y, epochs=EPOCHS)"
   ],
   "metadata": {
    "collapsed": false,
    "pycharm": {
     "name": "#%%\n"
    }
   }
  },
  {
   "cell_type": "code",
   "execution_count": null,
   "outputs": [],
   "source": [
    "# 予測\n",
    "np.where(model.predict(X)<=0.5,1,0)"
   ],
   "metadata": {
    "collapsed": false,
    "pycharm": {
     "name": "#%%\n"
    }
   }
  },
  {
   "cell_type": "code",
   "source": [
    "###################\n",
    "# 問題2　分類データセットに対するデータ拡張\n",
    "###################\n",
    "\n",
    "# ImageDataGeneratorのインスタンス化\n",
    "image_generator = ImageDataGenerator(\n",
    "    rescale=1./255,\n",
    "    width_shift_range = 0.1\n",
    ")"
   ],
   "metadata": {
    "collapsed": false,
    "pycharm": {
     "name": "#%%\n"
    }
   },
   "execution_count": null,
   "outputs": []
  },
  {
   "cell_type": "code",
   "execution_count": null,
   "outputs": [],
   "source": [
    "# ジェネレータ定義\n",
    "gen_train = image_generator.flow_from_directory(\n",
    "    batch_size=1,\n",
    "    directory='./sprint18_images/',\n",
    "    classes = ['dog', 'cat'],\n",
    "    target_size=(IMG_HEIGHT, IMG_WIDTH),\n",
    "    class_mode='binary'\n",
    ")"
   ],
   "metadata": {
    "collapsed": false,
    "pycharm": {
     "name": "#%%\n"
    }
   }
  },
  {
   "cell_type": "code",
   "execution_count": null,
   "outputs": [],
   "source": [
    "# 呼び出し確認\n",
    "image, label = next(gen_train)\n",
    "\n",
    "# shape確認\n",
    "print(image.shape, label)\n",
    "\n",
    "# 描画\n",
    "plt.imshow(image[0])"
   ],
   "metadata": {
    "collapsed": false,
    "pycharm": {
     "name": "#%%\n"
    }
   }
  },
  {
   "cell_type": "code",
   "execution_count": null,
   "outputs": [],
   "source": [
    "# モデル定義\n",
    "model = Sequential([\n",
    "    Conv2D(16, 3, activation='relu', input_shape=(IMG_HEIGHT, IMG_WIDTH ,3)),\n",
    "    MaxPooling2D(),\n",
    "    Conv2D(32, 3, activation='relu'),\n",
    "    MaxPooling2D(),\n",
    "    Conv2D(64, 3, activation='relu'),\n",
    "    MaxPooling2D(),\n",
    "    Flatten(),\n",
    "    Dense(512, activation='relu'),\n",
    "    Dense(1, activation='sigmoid')\n",
    "])\n",
    "# コンパイル\n",
    "model.compile(loss=\"binary_crossentropy\", optimizer=optimizers.Adam(lr=0.001), metrics=[\"accuracy\"])"
   ],
   "metadata": {
    "collapsed": false,
    "pycharm": {
     "name": "#%%\n"
    }
   }
  },
  {
   "cell_type": "code",
   "execution_count": null,
   "outputs": [],
   "source": [
    "# 学習\n",
    "model.fit_generator(generator=gen_train, epochs=EPOCHS ,steps_per_epoch=10)"
   ],
   "metadata": {
    "collapsed": false,
    "pycharm": {
     "name": "#%%\n"
    }
   }
  },
  {
   "cell_type": "code",
   "execution_count": null,
   "outputs": [],
   "source": [
    "# 予測\n",
    "np.where(model.predict(X)<=0.5,1,0)"
   ],
   "metadata": {
    "collapsed": false,
    "pycharm": {
     "name": "#%%\n"
    }
   }
  },
  {
   "cell_type": "code",
   "source": [
    "###################\n",
    "# 問題3　物体検出データセットの用意\n",
    "###################\n",
    "\n",
    "# 基本的なグローバル変数を定義\n",
    "BOX_COLOR = (255, 0, 0)\n",
    "TEXT_COLOR = (255, 255, 255)"
   ],
   "metadata": {
    "collapsed": false,
    "pycharm": {
     "name": "#%%\n"
    }
   },
   "execution_count": null,
   "outputs": []
  },
  {
   "cell_type": "code",
   "execution_count": null,
   "outputs": [],
   "source": [
    "## BBoxを描画する関数の定義\n",
    "def visualize_bbox(img, bbox, class_id, class_idx_to_name, color=BOX_COLOR, thickness=2):\n",
    "    \"\"\"BBox描画\n",
    "    Parameters\n",
    "    -------------\n",
    "    img : 画像\n",
    "    bbox : BBox座標\n",
    "    class_id : クラスラベル\n",
    "    class_idx_to_name : クラスラベルの名前\n",
    "    color=BOX_COLOR : BBoxの線色\n",
    "    thickness : BBoxの線太さ\n",
    "    \"\"\"\n",
    "    x_min, y_min, x_max,  y_max = bbox\n",
    "    x_min, y_min, x_max,  y_max = int(x_min), int(y_min), int(x_max),  int(y_max)\n",
    "    cv2.rectangle(img, (x_min, y_min), (x_max, y_max), color=color, thickness=thickness)\n",
    "    class_name = class_idx_to_name[class_id]\n",
    "    ((text_width, text_height), _) = cv2.getTextSize(class_name, cv2.FONT_HERSHEY_SIMPLEX, 0.3, 1)\n",
    "    cv2.rectangle(img, (x_min, y_min - int(1.3 * text_height)), (x_min + text_width, y_min), BOX_COLOR, -1)\n",
    "    cv2.putText(img, class_name, (x_min, y_min - int(0.3 * text_height)), cv2.FONT_HERSHEY_SIMPLEX, 0.3,TEXT_COLOR, lineType=cv2.LINE_AA)\n",
    "    return img\n",
    "\n",
    "def visualize(annotations, category_id_to_name):\n",
    "    \"\"\"複数のBBoxにも対応できる関数\n",
    "    Parameters\n",
    "    ----------------\n",
    "    annotations : 画像とBBoxの情報\n",
    "    category_id_to_name : クラスラベルとクラスラベルの名前\n",
    "    \"\"\"\n",
    "    img = annotations['image'].copy()\n",
    "    for idx, bbox in enumerate(annotations['bboxes']):\n",
    "        img = visualize_bbox(img, bbox, annotations['category_id'][idx], category_id_to_name)\n",
    "    plt.figure(figsize=(7, 7))\n",
    "    plt.imshow(img)"
   ],
   "metadata": {
    "collapsed": false,
    "pycharm": {
     "name": "#%%\n"
    }
   }
  },
  {
   "cell_type": "code",
   "execution_count": null,
   "outputs": [],
   "source": [
    "annotations = {'image': X[0], 'bboxes': [[10,20,120,140]], 'category_id': y[0]}\n",
    "img = visualize(annotations,{0: 'dog', 1: 'cat'})"
   ],
   "metadata": {
    "collapsed": false,
    "pycharm": {
     "name": "#%%\n"
    }
   }
  },
  {
   "cell_type": "code",
   "execution_count": null,
   "outputs": [],
   "source": [
    "annotations = {'image': X[5], 'bboxes': [[50,10,130,130]], 'category_id': y[5]}\n",
    "img = visualize(annotations,{0: 'dog', 1: 'cat'})"
   ],
   "metadata": {
    "collapsed": false,
    "pycharm": {
     "name": "#%%\n"
    }
   }
  },
  {
   "cell_type": "code",
   "source": [
    "###################\n",
    "# 問題4　物体検出データセットに対するデータ拡張\n",
    "###################\n",
    "\n",
    "\n",
    "# ライブラリの読み込み\n",
    "import albumentations as A"
   ],
   "metadata": {
    "collapsed": false,
    "pycharm": {
     "name": "#%%\n"
    }
   },
   "execution_count": null,
   "outputs": []
  },
  {
   "cell_type": "code",
   "execution_count": null,
   "outputs": [],
   "source": [
    "# albumentations用にピクセル数を画像に対する割合に変更\n",
    "annotations = {'image': X[5], 'bboxes': [[50/IMG_WIDTH,10/IMG_HEIGHT,130/IMG_WIDTH,130/IMG_HEIGHT]], 'category_id': y[5]}"
   ],
   "metadata": {
    "collapsed": false,
    "pycharm": {
     "name": "#%%\n"
    }
   }
  },
  {
   "cell_type": "code",
   "execution_count": null,
   "outputs": [],
   "source": [
    "# データ拡張\n",
    "aug = A.Compose([\n",
    "    A.RandomCrop(width=100, height=100),\n",
    "    A.RandomBrightnessContrast(p=0.2),\n",
    "], bbox_params=A.BboxParams(format='albumentations',label_fields=['category_id']))\n",
    "augmented = aug(**annotations)"
   ],
   "metadata": {
    "collapsed": false,
    "pycharm": {
     "name": "#%%\n"
    }
   }
  },
  {
   "cell_type": "code",
   "execution_count": null,
   "outputs": [],
   "source": [
    "# 拡張後も割合で帰ってくるので、描画用に元に戻す\n",
    "augmented['bboxes'] = [[\n",
    "    augmented['bboxes'][0][0]*augmented['image'].shape[0],\n",
    "    augmented['bboxes'][0][1]*augmented['image'].shape[1],\n",
    "    augmented['bboxes'][0][2]*augmented['image'].shape[0],\n",
    "    augmented['bboxes'][0][3]*augmented['image'].shape[1]\n",
    "]]"
   ],
   "metadata": {
    "collapsed": false,
    "pycharm": {
     "name": "#%%\n"
    }
   }
  },
  {
   "cell_type": "code",
   "execution_count": null,
   "outputs": [],
   "source": [
    "# 描画\n",
    "visualize(augmented,{0: 'dog', 1: 'cat'})"
   ],
   "metadata": {
    "collapsed": false,
    "pycharm": {
     "name": "#%%\n"
    }
   }
  }
 ],
 "metadata": {
  "kernelspec": {
   "display_name": "Python 3",
   "language": "python",
   "name": "python3"
  },
  "language_info": {
   "codemirror_mode": {
    "name": "ipython",
    "version": 2
   },
   "file_extension": ".py",
   "mimetype": "text/x-python",
   "name": "python",
   "nbconvert_exporter": "python",
   "pygments_lexer": "ipython2",
   "version": "2.7.6"
  }
 },
 "nbformat": 4,
 "nbformat_minor": 0
}