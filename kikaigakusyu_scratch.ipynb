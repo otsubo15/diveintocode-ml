{
 "cells": [
  {
   "cell_type": "markdown",
   "metadata": {},
   "source": [
    "# 機械学習スクラッチ入門"
   ]
  },
  {
   "cell_type": "markdown",
   "metadata": {},
   "source": [
    "### 【問題1】train_test_split のスクラッチ"
   ]
  },
  {
   "cell_type": "code",
   "execution_count": 1,
   "metadata": {},
   "outputs": [],
   "source": [
    "import numpy as np\n",
    "import random\n",
    "\n",
    "def scratch_train_test_split(X, y, train_size=0.8):\n",
    "    \"\"\"検証データを分割する。\n",
    "    Parameters\n",
    "    ----------\n",
    "    X : ndarray\n",
    "      訓練データ (n_samples, n_features)\n",
    "    y : ndarray\n",
    "      正解値 (n_samples,)\n",
    "    train_size : float\n",
    "      何割をtrainとするか指定 (0 < train_size < 1)\n",
    "    Returns\n",
    "    -------\n",
    "    X_train : ndarray\n",
    "      訓練データ (n_samples, n_features)\n",
    "    X_test : ndarray\n",
    "      検証データ (n_samples, n_features)\n",
    "    y_train : ndarray\n",
    "      訓練データの正解値 (n_samples,)\n",
    "    y_test : ndarray\n",
    "      検証データの正解値 (n_samples,)\n",
    "    \"\"\"\n",
    "    # ここにコードを書く\n",
    "    \n",
    "    #Xをランダムにシャッフルする\n",
    "    rng = np.random.default_rng()\n",
    "    np.random.seed(42)\n",
    "    rng.shuffle(X)\n",
    "    \n",
    "#     print(X)\n",
    "    #yをランダムにシャッフルする\n",
    "    rng.shuffle(y)\n",
    "#     print(y)\n",
    "    \n",
    "    #Xの行数を数える\n",
    "    X.shape[0]\n",
    "#     print(\"Xの行数:{}\".format(X.shape[0]))\n",
    "    \n",
    "    #Xの列数を数える(列で分割するときに使う)\n",
    "    #X.shape[1]\n",
    "           \n",
    "    #yの行数を数える\n",
    "    y.shape[0]\n",
    "#     print(\"Xの行数:{}\".format(y.shape[0]))\n",
    "    \n",
    "    #yの列数を数える(列で分割するときに使う)\n",
    "    #y.shape[1]\n",
    "    \n",
    "    #Xの分割位置を決める\n",
    "    sp_X = X.shape[0] * train_size\n",
    "#     print(\"Xの分割位置:{}\".format(int(sp_X)))\n",
    "    #yの分割位置を決める\n",
    "    sp_y = y.shape[0] * train_size\n",
    "#     print(\"yの分割位置:{}\".format(int(sp_y)))\n",
    "    \n",
    "    X_train = X[0:int(sp_X)]\n",
    "    X_test = X[int(sp_X):]\n",
    "    y_train = y[0:int(sp_y)]\n",
    "    y_test =  y[int(sp_y):]\n",
    "    \n",
    "    \n",
    "\n",
    "    return X_train, X_test, y_train, y_test"
   ]
  },
  {
   "cell_type": "code",
   "execution_count": 2,
   "metadata": {},
   "outputs": [
    {
     "name": "stdout",
     "output_type": "stream",
     "text": [
      "X_train:\n",
      "[[-4.1013   -4.353   ]\n",
      " [ 0.56421   0.72888 ]\n",
      " [-2.9452   -1.8219  ]\n",
      " [-3.5944   -4.0112  ]\n",
      " [-3.1625   -3.9606  ]\n",
      " [-6.6797    0.67661 ]\n",
      " [-0.61251  -0.75345 ]\n",
      " [ 1.3763    1.3347  ]\n",
      " [-0.65259   9.3444  ]\n",
      " [ 0.96765   7.8929  ]\n",
      " [ 0.58619   0.37158 ]\n",
      " [ 0.5461    5.8245  ]\n",
      " [ 0.50214  -0.31818 ]\n",
      " [-3.0603   -3.6461  ]\n",
      " [ 0.14654  -0.28733 ]\n",
      " [-2.1086    8.3428  ]\n",
      " [-0.57242  -2.9915  ]\n",
      " [-2.5677   13.1779  ]\n",
      " [-0.9888    4.5718  ]\n",
      " [-1.4621   -2.4586  ]\n",
      " [-0.73535  -2.2718  ]\n",
      " [-0.44699  -2.8073  ]\n",
      " [-1.9948   -1.3927  ]\n",
      " [-3.1108    0.15394 ]\n",
      " [ 0.057313  5.4681  ]\n",
      " [ 0.96765  10.083   ]\n",
      " [-2.234    -2.5323  ]\n",
      " [ 0.10645   1.9242  ]\n",
      " [ 0.35084  -0.031994]\n",
      " [ 1.4771    3.4896  ]\n",
      " [-0.12243   9.0162  ]\n",
      " [ 1.1319    2.4023  ]]\n",
      "X_test:\n",
      "[[-0.60216  8.4636 ]\n",
      " [-2.353   -0.72261]\n",
      " [ 0.86291  2.3946 ]\n",
      " [-2.9362   2.5462 ]\n",
      " [-1.281   15.6824 ]\n",
      " [ 0.59912  5.3524 ]\n",
      " [-0.80647 -2.2135 ]\n",
      " [ 0.6017   4.3439 ]]\n",
      "y_train:\n",
      "[0 0 0 1 0 0 1 1 1 0 0 1 0 1 1 1 1 1 0 0 1 1 0 1 0 0 0 0 1 1 0 1]\n",
      "y_test:\n",
      "[1 1 1 1 0 0 0 0]\n"
     ]
    }
   ],
   "source": [
    "import numpy as np\n",
    "import random\n",
    "\n",
    "X = np.array([\n",
    "    [-0.44699 , -2.8073  ],[-1.4621  , -2.4586  ],\n",
    "    [ 0.10645 ,  1.9242  ],[-3.5944  , -4.0112  ],\n",
    "    [-0.9888  ,  4.5718  ],[-3.1625  , -3.9606  ],\n",
    "    [ 0.56421 ,  0.72888 ],[-0.60216 ,  8.4636  ],\n",
    "    [-0.61251 , -0.75345 ],[-0.73535 , -2.2718  ],\n",
    "    [-0.80647 , -2.2135  ],[ 0.86291 ,  2.3946  ],\n",
    "    [-3.1108  ,  0.15394 ],[-2.9362  ,  2.5462  ],\n",
    "    [-0.57242 , -2.9915  ],[ 1.4771  ,  3.4896  ],\n",
    "    [ 0.58619 ,  0.37158 ],[ 0.6017  ,  4.3439  ],\n",
    "    [-2.1086  ,  8.3428  ],[-4.1013  , -4.353   ],\n",
    "    [-1.9948  , -1.3927  ],[ 0.35084 , -0.031994],\n",
    "    [ 0.96765 ,  7.8929  ],[-1.281   , 15.6824  ],\n",
    "    [ 0.96765 , 10.083   ],[ 1.3763  ,  1.3347  ],\n",
    "    [-2.234   , -2.5323  ],[-2.9452  , -1.8219  ],\n",
    "    [ 0.14654 , -0.28733 ],[ 0.5461  ,  5.8245  ],\n",
    "    [-0.65259 ,  9.3444  ],[ 0.59912 ,  5.3524  ],\n",
    "    [ 0.50214 , -0.31818 ],[-3.0603  , -3.6461  ],\n",
    "    [-6.6797  ,  0.67661 ],[-2.353   , -0.72261 ],\n",
    "    [ 1.1319  ,  2.4023  ],[-0.12243 ,  9.0162  ],\n",
    "    [-2.5677  , 13.1779  ],[ 0.057313,  5.4681  ],\n",
    "])\n",
    "y = np.array([0, 0, 0, 0, 0, 0, 0, 0, 0, 0, 0, 0, 0, 0, 0, 0, 0, 0, 0, 0, 1, 1,\n",
    "       1, 1, 1, 1, 1, 1, 1, 1, 1, 1, 1, 1, 1, 1, 1, 1, 1, 1])\n",
    "\n",
    "# rng = np.random.default_rng()\n",
    "# np.random.seed(42)\n",
    "# rng.shuffle(X)\n",
    "# print(arr)\n",
    "#X.shape[0]\n",
    "\n",
    "\n",
    "X_train, X_test, y_train, y_test = scratch_train_test_split(X, y, train_size=0.8)\n",
    "print(\"X_train:\\n{}\".format(X_train))\n",
    "print(\"X_test:\\n{}\".format(X_test))\n",
    "print(\"y_train:\\n{}\".format(y_train))\n",
    "print(\"y_test:\\n{}\".format(y_test))\n"
   ]
  },
  {
   "cell_type": "code",
   "execution_count": 3,
   "metadata": {},
   "outputs": [
    {
     "name": "stdout",
     "output_type": "stream",
     "text": [
      "[[ 0.6017    4.3439  ]\n",
      " [-0.61251  -0.75345 ]\n",
      " [ 0.96765  10.083   ]\n",
      " [ 0.96765   7.8929  ]\n",
      " [-3.0603   -3.6461  ]\n",
      " [ 1.1319    2.4023  ]\n",
      " [ 0.86291   2.3946  ]\n",
      " [-0.65259   9.3444  ]\n",
      " [-2.5677   13.1779  ]\n",
      " [ 0.057313  5.4681  ]\n",
      " [-4.1013   -4.353   ]\n",
      " [-2.353    -0.72261 ]\n",
      " [-6.6797    0.67661 ]\n",
      " [ 0.5461    5.8245  ]\n",
      " [ 0.56421   0.72888 ]\n",
      " [ 1.4771    3.4896  ]\n",
      " [-0.44699  -2.8073  ]\n",
      " [-2.9452   -1.8219  ]\n",
      " [-0.12243   9.0162  ]\n",
      " [-1.281    15.6824  ]\n",
      " [-3.5944   -4.0112  ]\n",
      " [-2.9362    2.5462  ]\n",
      " [-3.1108    0.15394 ]\n",
      " [-0.60216   8.4636  ]\n",
      " [ 0.58619   0.37158 ]\n",
      " [-1.9948   -1.3927  ]\n",
      " [-0.9888    4.5718  ]\n",
      " [-0.73535  -2.2718  ]\n",
      " [ 1.3763    1.3347  ]\n",
      " [ 0.14654  -0.28733 ]\n",
      " [ 0.35084  -0.031994]\n",
      " [-0.80647  -2.2135  ]] [[-1.4621  -2.4586 ]\n",
      " [-0.57242 -2.9915 ]\n",
      " [-2.1086   8.3428 ]\n",
      " [-2.234   -2.5323 ]\n",
      " [-3.1625  -3.9606 ]\n",
      " [ 0.50214 -0.31818]\n",
      " [ 0.59912  5.3524 ]\n",
      " [ 0.10645  1.9242 ]] [0 1 0 0 1 1 1 1 1 0 0 1 0 1 0 1 1 0 0 0 1 1 1 1 0 0 0 1 1 1 1 0] [0 1 1 0 0 0 0 0]\n"
     ]
    }
   ],
   "source": [
    "#scikit-learnの train_test_split を使ったテスト\n",
    "\n",
    "import numpy as np\n",
    "from sklearn.model_selection import train_test_split\n",
    "\n",
    "X_train, X_test, y_train, y_test = train_test_split(X, y, test_size=0.2)\n",
    "print(X_train, X_test, y_train, y_test)"
   ]
  },
  {
   "cell_type": "markdown",
   "metadata": {},
   "source": [
    "### 【問題2】 分類問題を解くコードの作成"
   ]
  },
  {
   "cell_type": "code",
   "execution_count": 4,
   "metadata": {},
   "outputs": [],
   "source": [
    "\n",
    "#------irisデータセット---------\n",
    "\n",
    "# 使用するライブラリーをインポート\n",
    "import matplotlib.pyplot as plt\n",
    "%matplotlib inline\n",
    "import numpy as np\n",
    "import pandas as pd\n",
    "import seaborn as sns #バイオリン図で必要になる（seaborn ライブラリーの violinplot メソッド）\n",
    "\n",
    "from sklearn.datasets import load_iris\n"
   ]
  },
  {
   "cell_type": "code",
   "execution_count": 5,
   "metadata": {},
   "outputs": [
    {
     "name": "stdout",
     "output_type": "stream",
     "text": [
      "    sepal_length  sepal_width  petal_length  petal_width\n",
      "50           7.0          3.2           4.7          1.4\n",
      "51           6.4          3.2           4.5          1.5\n",
      "52           6.9          3.1           4.9          1.5\n",
      "53           5.5          2.3           4.0          1.3\n",
      "54           6.5          2.8           4.6          1.5\n",
      "50    1\n",
      "51    1\n",
      "52    1\n",
      "53    1\n",
      "54    1\n",
      "Name: Species, dtype: int32\n"
     ]
    }
   ],
   "source": [
    "# アイリスデータを抽出と前処理\n",
    "iris_dataset = load_iris()\n",
    "# .data 部分を抽出し、カラム名も指定する。\n",
    "X = pd.DataFrame(iris_dataset.data, columns=[\"sepal_length\", \"sepal_width\", \"petal_length\", \"petal_width\"])\n",
    "# .target 部分を抽出し、カラム名も指定する。\n",
    "y = pd.DataFrame(iris_dataset.target, columns=[\"Species\"])\n",
    "# .concatを使用してXとyを列方向で結合する。\n",
    "df = pd.concat([X, y], axis=1)\n",
    "\n",
    "# .queryで　virgicolor　と　virginica　行抽出\n",
    "df_selected = df.query(\"Species == [1, 2]\")\n",
    "df_selected.head()\n",
    "\n",
    "X = df_selected.loc[:, [\"sepal_length\", \"sepal_width\", \"petal_length\", \"petal_width\"]]\n",
    "y = df_selected.loc[:, \"Species\"]\n",
    "\n",
    "#前処理したデータ\n",
    "print(X.head())\n",
    "print(y.head())"
   ]
  },
  {
   "cell_type": "code",
   "execution_count": 6,
   "metadata": {},
   "outputs": [],
   "source": [
    "######################################\n",
    "#ロジスティック回帰による分類\n",
    "######################################"
   ]
  },
  {
   "cell_type": "code",
   "execution_count": 7,
   "metadata": {},
   "outputs": [
    {
     "name": "stdout",
     "output_type": "stream",
     "text": [
      "・ロジスティック回帰\n",
      "\n",
      "irisデータセット　y_test_pred:[0 0 1 0 0 1 1 1]\n"
     ]
    }
   ],
   "source": [
    "\n",
    "#　library\n",
    "import numpy as np\n",
    "from sklearn.linear_model import SGDClassifier\n",
    "from sklearn.preprocessing import StandardScaler\n",
    "from sklearn.pipeline import make_pipeline\n",
    "\n",
    "#訓練用データのデータを用意\n",
    "X = X_train\n",
    "y = y_train\n",
    "\n",
    "#ロジスティック回帰(SGDClassifier)クラスをインスタンス化\n",
    "clf = make_pipeline(StandardScaler(),SGDClassifier(loss = 'log', max_iter=1000, tol=1e-3))#★☆★☆公式HPの見方教えて\n",
    "\n",
    "#訓練用データで学習\n",
    "clf.fit(X, y)\n",
    "\n",
    "#検証データ(X_test_transform)を引数としてクラスラベル予測データを出力\n",
    "y_test_pred = clf.predict(X_test)#clf.predict(特徴量ndarray)で予測データを作成\n",
    "\n",
    "print(\"・ロジスティック回帰\\n\")\n",
    "print(\"irisデータセット　y_test_pred:{}\".format(y_test_pred))"
   ]
  },
  {
   "cell_type": "code",
   "execution_count": 8,
   "metadata": {},
   "outputs": [],
   "source": [
    "######################################\n",
    "#SVM\n",
    "######################################"
   ]
  },
  {
   "cell_type": "code",
   "execution_count": 9,
   "metadata": {},
   "outputs": [
    {
     "name": "stdout",
     "output_type": "stream",
     "text": [
      "・SVM\n",
      "\n",
      "irisデータセット　y_test_pred:[1 1 1 1 1 1 0 1]\n"
     ]
    }
   ],
   "source": [
    "\n",
    "#　library\n",
    "from sklearn.pipeline import make_pipeline\n",
    "from sklearn.preprocessing import StandardScaler\n",
    "from sklearn.svm import SVC\n",
    "\n",
    "\n",
    "#訓練用データのデータを用意\n",
    "X = X_train\n",
    "y = y_train\n",
    "\n",
    "#clfを変数としてmake_pipelineクラスをインスタンス化\n",
    "clf = make_pipeline(StandardScaler(), SVC(gamma='auto'))\n",
    "\n",
    "#SVMメソッドで学習\n",
    "clf.fit(X, y)\n",
    "\n",
    "#検証データ(X_test_transform)を引数としてクラスラベル予測データを出力\n",
    "y_test_pred = clf.predict(X_test)\n",
    "\n",
    "#クラスラベル予測データを出力\n",
    "print(\"・SVM\\n\")\n",
    "print(\"irisデータセット　y_test_pred:{}\".format(y_test_pred))"
   ]
  },
  {
   "cell_type": "code",
   "execution_count": 10,
   "metadata": {},
   "outputs": [],
   "source": [
    "######################################\n",
    "#決定木\n",
    "######################################"
   ]
  },
  {
   "cell_type": "code",
   "execution_count": 11,
   "metadata": {},
   "outputs": [
    {
     "name": "stdout",
     "output_type": "stream",
     "text": [
      "・決定木\n",
      "\n",
      "irisデータセット　y_test_pred:[0 1 1 0 1 0 0 1]\n"
     ]
    }
   ],
   "source": [
    "\n",
    "#　library\n",
    "from sklearn.model_selection import cross_val_score\n",
    "from sklearn.tree import DecisionTreeClassifier\n",
    "\n",
    "#訓練用データのデータを用意\n",
    "X = X_train\n",
    "y = y_train\n",
    "\n",
    "#clfを変数としてDecisionTreeClassifierクラスをインスタンス化\n",
    "clf = DecisionTreeClassifier(random_state=0)\n",
    "\n",
    "#決定木メソッドで学習\n",
    "clf = clf.fit(X, y)\n",
    "\n",
    "#検証データ(X_test_transform)を引数としてクラスラベル予測データを出力\n",
    "y_test_pred = clf.predict(X_test)\n",
    "\n",
    "#クラスラベル予測データを出力\n",
    "print(\"・決定木\\n\")\n",
    "print(\"irisデータセット　y_test_pred:{}\".format(y_test_pred))\n"
   ]
  },
  {
   "cell_type": "code",
   "execution_count": 12,
   "metadata": {},
   "outputs": [
    {
     "name": "stdout",
     "output_type": "stream",
     "text": [
      "(500, 2)\n",
      "(500,)\n"
     ]
    }
   ],
   "source": [
    "###################\n",
    "#シンプルデータセット1\n",
    "###################\n",
    "\n",
    "import numpy as np\n",
    "np.random.seed(seed=0)\n",
    "n_samples = 500\n",
    "f0 = [-1, 2]\n",
    "f1 = [2, -1]\n",
    "cov = [[1.0,0.8], [0.8, 1.0]]\n",
    "f0 = np.random.multivariate_normal(f0, cov, n_samples // 2)\n",
    "f1 = np.random.multivariate_normal(f1, cov, n_samples // 2)\n",
    "X = np.concatenate([f0, f1])\n",
    "y = np.concatenate([\n",
    "    np.full(n_samples // 2, 1),\n",
    "    np.full(n_samples // 2, -1)\n",
    "])\n",
    "\n",
    "print(X.shape)\n",
    "print(y.shape)"
   ]
  },
  {
   "cell_type": "code",
   "execution_count": 13,
   "metadata": {},
   "outputs": [],
   "source": [
    "######################################\n",
    "#ロジスティック回帰による分類\n",
    "######################################"
   ]
  },
  {
   "cell_type": "code",
   "execution_count": 14,
   "metadata": {},
   "outputs": [
    {
     "name": "stdout",
     "output_type": "stream",
     "text": [
      "・ロジスティック回帰\n",
      "\n",
      "シンプルデータセット1作成コード　y_test_pred:[1 1 0 1 1 1 1 1]\n"
     ]
    }
   ],
   "source": [
    "\n",
    "#訓練用データのデータを用意\n",
    "X = X_train\n",
    "y = y_train\n",
    "\n",
    "#ロジスティック回帰(SGDClassifier)クラスをインスタンス化\n",
    "clf = make_pipeline(StandardScaler(),SGDClassifier(loss = 'log', max_iter=1000, tol=1e-3))#★☆★☆公式HPの見方教えて\n",
    "\n",
    "#訓練用データで学習\n",
    "clf.fit(X, y)\n",
    "\n",
    "#検証データ(X_test_transform)を引数としてクラスラベル予測データを出力\n",
    "y_test_pred = clf.predict(X_test)#clf.predict(特徴量ndarray)で予測データを作成\n",
    "\n",
    "print(\"・ロジスティック回帰\\n\")\n",
    "print(\"シンプルデータセット1作成コード　y_test_pred:{}\".format(y_test_pred))"
   ]
  },
  {
   "cell_type": "code",
   "execution_count": 15,
   "metadata": {},
   "outputs": [],
   "source": [
    "######################################\n",
    "#SVM\n",
    "######################################"
   ]
  },
  {
   "cell_type": "code",
   "execution_count": 16,
   "metadata": {},
   "outputs": [
    {
     "name": "stdout",
     "output_type": "stream",
     "text": [
      "・SVM\n",
      "\n",
      "シンプルデータセット1　y_test_pred:[1 1 1 1 1 1 0 1]\n"
     ]
    }
   ],
   "source": [
    "\n",
    "#　library\n",
    "from sklearn.pipeline import make_pipeline\n",
    "from sklearn.preprocessing import StandardScaler\n",
    "from sklearn.svm import SVC\n",
    "\n",
    "\n",
    "#訓練用データのデータを用意\n",
    "X = X_train\n",
    "y = y_train\n",
    "\n",
    "#clfを変数としてmake_pipelineクラスをインスタンス化\n",
    "clf = make_pipeline(StandardScaler(), SVC(gamma='auto'))\n",
    "\n",
    "#SVMメソッドで学習\n",
    "clf.fit(X, y)\n",
    "\n",
    "#検証データ(X_test_transform)を引数としてクラスラベル予測データを出力\n",
    "y_test_pred = clf.predict(X_test)\n",
    "\n",
    "#クラスラベル予測データを出力\n",
    "print(\"・SVM\\n\")\n",
    "print(\"シンプルデータセット1　y_test_pred:{}\".format(y_test_pred))"
   ]
  },
  {
   "cell_type": "code",
   "execution_count": 17,
   "metadata": {},
   "outputs": [],
   "source": [
    "######################################\n",
    "#決定木\n",
    "######################################"
   ]
  },
  {
   "cell_type": "code",
   "execution_count": 18,
   "metadata": {},
   "outputs": [
    {
     "name": "stdout",
     "output_type": "stream",
     "text": [
      "・決定木\n",
      "\n",
      "シンプルデータセット1　y_test_pred:[0 1 1 0 1 0 0 1]\n"
     ]
    }
   ],
   "source": [
    "\n",
    "#　library\n",
    "from sklearn.model_selection import cross_val_score\n",
    "from sklearn.tree import DecisionTreeClassifier\n",
    "\n",
    "#訓練用データのデータを用意\n",
    "X = X_train\n",
    "y = y_train\n",
    "\n",
    "#clfを変数としてDecisionTreeClassifierクラスをインスタンス化\n",
    "clf = DecisionTreeClassifier(random_state=0)\n",
    "\n",
    "#決定木メソッドで学習\n",
    "clf = clf.fit(X, y)\n",
    "\n",
    "#検証データ(X_test_transform)を引数としてクラスラベル予測データを出力\n",
    "y_test_pred = clf.predict(X_test)\n",
    "\n",
    "#クラスラベル予測データを出力\n",
    "print(\"・決定木\\n\")\n",
    "print(\"シンプルデータセット1　y_test_pred:{}\".format(y_test_pred))"
   ]
  },
  {
   "cell_type": "code",
   "execution_count": 19,
   "metadata": {},
   "outputs": [
    {
     "name": "stdout",
     "output_type": "stream",
     "text": [
      "(40, 2)\n",
      "(40,)\n"
     ]
    }
   ],
   "source": [
    "###################\n",
    "#シンプルデータセット2作成コード\n",
    "###################\n",
    "\n",
    "X = np.array([\n",
    "    [-0.44699 , -2.8073  ],[-1.4621  , -2.4586  ],\n",
    "    [ 0.10645 ,  1.9242  ],[-3.5944  , -4.0112  ],\n",
    "    [-0.9888  ,  4.5718  ],[-3.1625  , -3.9606  ],\n",
    "    [ 0.56421 ,  0.72888 ],[-0.60216 ,  8.4636  ],\n",
    "    [-0.61251 , -0.75345 ],[-0.73535 , -2.2718  ],\n",
    "    [-0.80647 , -2.2135  ],[ 0.86291 ,  2.3946  ],\n",
    "    [-3.1108  ,  0.15394 ],[-2.9362  ,  2.5462  ],\n",
    "    [-0.57242 , -2.9915  ],[ 1.4771  ,  3.4896  ],\n",
    "    [ 0.58619 ,  0.37158 ],[ 0.6017  ,  4.3439  ],\n",
    "    [-2.1086  ,  8.3428  ],[-4.1013  , -4.353   ],\n",
    "    [-1.9948  , -1.3927  ],[ 0.35084 , -0.031994],\n",
    "    [ 0.96765 ,  7.8929  ],[-1.281   , 15.6824  ],\n",
    "    [ 0.96765 , 10.083   ],[ 1.3763  ,  1.3347  ],\n",
    "    [-2.234   , -2.5323  ],[-2.9452  , -1.8219  ],\n",
    "    [ 0.14654 , -0.28733 ],[ 0.5461  ,  5.8245  ],\n",
    "    [-0.65259 ,  9.3444  ],[ 0.59912 ,  5.3524  ],\n",
    "    [ 0.50214 , -0.31818 ],[-3.0603  , -3.6461  ],\n",
    "    [-6.6797  ,  0.67661 ],[-2.353   , -0.72261 ],\n",
    "    [ 1.1319  ,  2.4023  ],[-0.12243 ,  9.0162  ],\n",
    "    [-2.5677  , 13.1779  ],[ 0.057313,  5.4681  ],\n",
    "])\n",
    "y = np.array([0, 0, 0, 0, 0, 0, 0, 0, 0, 0, 0, 0, 0, 0, 0, 0, 0, 0, 0, 0, 1, 1,\n",
    "       1, 1, 1, 1, 1, 1, 1, 1, 1, 1, 1, 1, 1, 1, 1, 1, 1, 1])\n",
    "\n",
    "print(X.shape)\n",
    "print(y.shape)"
   ]
  },
  {
   "cell_type": "code",
   "execution_count": 20,
   "metadata": {},
   "outputs": [],
   "source": [
    "######################################\n",
    "#ロジスティック回帰による分類\n",
    "######################################"
   ]
  },
  {
   "cell_type": "code",
   "execution_count": 50,
   "metadata": {},
   "outputs": [
    {
     "name": "stderr",
     "output_type": "stream",
     "text": [
      "C:\\Users\\Owner\\anaconda3\\lib\\site-packages\\sklearn\\utils\\validation.py:72: DataConversionWarning: A column-vector y was passed when a 1d array was expected. Please change the shape of y to (n_samples, ), for example using ravel().\n",
      "  return f(**kwargs)\n"
     ]
    },
    {
     "name": "stdout",
     "output_type": "stream",
     "text": [
      "・ロジスティック回帰\n",
      "\n",
      "シンプルデータセット2作成コード　y_test_pred:[115000 115000 190000 127000 115000 190000 180000 126000 236000 127000\n",
      " 180000 190000 126000 190000 190000 110000 190000 190000 190000 170000\n",
      " 170000 190000 180000 180000 190000 180000 127000 190000 180000 127000\n",
      " 190000 127000 190000 236000 115000 126000 180000 190000 110000 170000\n",
      " 115000 170000 190000 127000 100000 190000 190000 170000 190000 110000\n",
      " 115000 190000 127000 190000 180000 126000 110000 190000 190000 180000\n",
      " 127000 190000 190000 122000 190000 170000 110000 126000 180000 180000\n",
      " 190000 115000 180000 190000 126000 127000 190000 115000 170000 190000\n",
      " 110000 170000 170000 190000 190000 126000 170000 180000 190000 190000\n",
      " 110000 190000 126000 180000 126000 116500 190000 190000 190000 190000\n",
      " 190000 190000 190000 190000 127000 126000 170000 138887 170000 115000\n",
      " 126000 190000 115000 115000 190000 190000 170000 190000 190000 115000\n",
      " 190000 170000 190000 126000 190000 180000 190000 180000 127000 115000\n",
      " 127000 163500 180000 115000 190000 100000 190000 190000 190000 110000\n",
      " 170000 115000 115000 115000 170000 190000 190000 116500 180000 190000\n",
      " 190000 170000 180000 127000 127000 180000 190000 170000 190000 115000\n",
      " 115000 180000  94000 170000 190000 127000 180000 190000 190000 180000\n",
      " 190000 190000 126000 180000 170000 180000 126000 126000 170000 190000\n",
      " 170000 126000 116500 115000 115000 170000 190000 126000 115000 190000\n",
      " 170000 170000 126000 122000 190000 115000 127000 190000 110000 115000\n",
      " 180000 170000 110000 110000 110000 122000 180000 190000 190000 180000\n",
      " 190000 190000 190000 170000 190000 190000 115000 110000 190000 190000\n",
      " 190000 115000 127000 126000 127000 190000 126000 190000 190000 180000\n",
      " 127000 190000 110000 170000 115000 190000 180000 180000 170000 126000\n",
      " 180000 190000 110000 115000 190000 190000 141500 190000 115000 180000\n",
      " 236000 126000  94000 110000 110000 190000 190000 115000 126000 179400\n",
      " 110000 190000 170000 190000 180000 122000 190000 126000 115000 115000\n",
      " 126000 190000 180000 190000 126000 190000 170000 115000 115000 115000\n",
      " 115000 126000 180000 115000 170000 180000 116500 110000 190000 110000\n",
      " 127000 126000 115000 115000 122000 170000 126000 180000 122000 236000\n",
      " 170000 115000 180000 180000 190000 180000 190000 122000 126000 190000\n",
      " 170000 180000 170000 126000 115000 126000 190000 190000 190000 180000\n",
      " 115000 126000 115000 170000 115000 127000 115000 190000 180000 190000\n",
      " 115000 180000 115000 190000 110000 190000 127000 190000 236000 180000\n",
      " 180000 190000 126000 115000 115000 190000 115000 127000 170000 110000\n",
      " 180000 126000 180000 180000 126000 170000 170000 170000 190000 190000\n",
      " 170000 115000 115000 127000 317000 190000 126000 170000 170000 190000\n",
      " 118500 190000 126000 180000 190000 115000 180000 190000 115000 115000\n",
      " 122000 170000 122000 126000 110000 170000 190000 190000 190000 180000\n",
      " 190000 170000 110000 126000 180000 180000 190000 110000 110000 190000\n",
      " 190000 190000 190000 170000 190000 180000 127000 180000 190000 127000\n",
      " 190000 110000 190000 110000 190000 190000 127000 126000 110000 190000\n",
      " 180000 190000 118500 190000 170000 190000 115000  94000 170000 170000\n",
      " 180000 190000 190000  94500 180000 115000 190000 115000 127000]\n"
     ]
    }
   ],
   "source": [
    "\n",
    "#訓練用データのデータを用意\n",
    "X = X_train\n",
    "y = y_train\n",
    "\n",
    "#ロジスティック回帰(SGDClassifier)クラスをインスタンス化\n",
    "clf = make_pipeline(StandardScaler(),SGDClassifier(loss = 'log', max_iter=1000, tol=1e-3))#★☆★☆公式HPの見方教えて\n",
    "\n",
    "#訓練用データで学習\n",
    "clf.fit(X, y)\n",
    "\n",
    "#検証データ(X_test_transform)を引数としてクラスラベル予測データを出力\n",
    "y_test_pred = clf.predict(X_test)#clf.predict(特徴量ndarray)で予測データを作成\n",
    "\n",
    "print(\"・ロジスティック回帰\\n\")\n",
    "print(\"シンプルデータセット2作成コード　y_test_pred:{}\".format(y_test_pred))"
   ]
  },
  {
   "cell_type": "code",
   "execution_count": 22,
   "metadata": {},
   "outputs": [],
   "source": [
    "######################################\n",
    "#SVM\n",
    "######################################"
   ]
  },
  {
   "cell_type": "code",
   "execution_count": 23,
   "metadata": {},
   "outputs": [
    {
     "name": "stdout",
     "output_type": "stream",
     "text": [
      "・SVM\n",
      "\n",
      "シンプルデータセット2作成コード　y_test_pred:[1 1 1 1 1 1 0 1]\n"
     ]
    }
   ],
   "source": [
    "\n",
    "#　library\n",
    "from sklearn.pipeline import make_pipeline\n",
    "from sklearn.preprocessing import StandardScaler\n",
    "from sklearn.svm import SVC\n",
    "\n",
    "\n",
    "#訓練用データのデータを用意\n",
    "X = X_train\n",
    "y = y_train\n",
    "\n",
    "#clfを変数としてmake_pipelineクラスをインスタンス化\n",
    "clf = make_pipeline(StandardScaler(), SVC(gamma='auto'))\n",
    "\n",
    "#SVMメソッドで学習\n",
    "clf.fit(X, y)\n",
    "\n",
    "#検証データ(X_test_transform)を引数としてクラスラベル予測データを出力\n",
    "y_test_pred = clf.predict(X_test)\n",
    "\n",
    "#クラスラベル予測データを出力\n",
    "print(\"・SVM\\n\")\n",
    "print(\"シンプルデータセット2作成コード　y_test_pred:{}\".format(y_test_pred))"
   ]
  },
  {
   "cell_type": "code",
   "execution_count": 24,
   "metadata": {},
   "outputs": [],
   "source": [
    "######################################\n",
    "#決定木\n",
    "######################################"
   ]
  },
  {
   "cell_type": "code",
   "execution_count": 25,
   "metadata": {},
   "outputs": [
    {
     "name": "stdout",
     "output_type": "stream",
     "text": [
      "・決定木\n",
      "\n",
      "シンプルデータセット1　y_test_pred:[0 1 1 0 1 0 0 1]\n"
     ]
    }
   ],
   "source": [
    "\n",
    "#　library\n",
    "from sklearn.model_selection import cross_val_score\n",
    "from sklearn.tree import DecisionTreeClassifier\n",
    "\n",
    "#訓練用データのデータを用意\n",
    "X = X_train\n",
    "y = y_train\n",
    "\n",
    "#clfを変数としてDecisionTreeClassifierクラスをインスタンス化\n",
    "clf = DecisionTreeClassifier(random_state=0)\n",
    "\n",
    "#決定木メソッドで学習\n",
    "clf = clf.fit(X, y)\n",
    "\n",
    "#検証データ(X_test_transform)を引数としてクラスラベル予測データを出力\n",
    "y_test_pred = clf.predict(X_test)\n",
    "\n",
    "#クラスラベル予測データを出力\n",
    "print(\"・決定木\\n\")\n",
    "print(\"シンプルデータセット1　y_test_pred:{}\".format(y_test_pred))"
   ]
  },
  {
   "cell_type": "markdown",
   "metadata": {},
   "source": [
    "### 【問題3】 回帰問題を解くコードの作成"
   ]
  },
  {
   "cell_type": "code",
   "execution_count": 26,
   "metadata": {},
   "outputs": [
    {
     "data": {
      "text/html": [
       "<div>\n",
       "<style scoped>\n",
       "    .dataframe tbody tr th:only-of-type {\n",
       "        vertical-align: middle;\n",
       "    }\n",
       "\n",
       "    .dataframe tbody tr th {\n",
       "        vertical-align: top;\n",
       "    }\n",
       "\n",
       "    .dataframe thead th {\n",
       "        text-align: right;\n",
       "    }\n",
       "</style>\n",
       "<table border=\"1\" class=\"dataframe\">\n",
       "  <thead>\n",
       "    <tr style=\"text-align: right;\">\n",
       "      <th></th>\n",
       "      <th>GrLivArea</th>\n",
       "      <th>YearBuilt</th>\n",
       "      <th>SalePrice</th>\n",
       "    </tr>\n",
       "  </thead>\n",
       "  <tbody>\n",
       "    <tr>\n",
       "      <th>0</th>\n",
       "      <td>1710</td>\n",
       "      <td>2003</td>\n",
       "      <td>208500</td>\n",
       "    </tr>\n",
       "    <tr>\n",
       "      <th>1</th>\n",
       "      <td>1262</td>\n",
       "      <td>1976</td>\n",
       "      <td>181500</td>\n",
       "    </tr>\n",
       "    <tr>\n",
       "      <th>2</th>\n",
       "      <td>1786</td>\n",
       "      <td>2001</td>\n",
       "      <td>223500</td>\n",
       "    </tr>\n",
       "    <tr>\n",
       "      <th>3</th>\n",
       "      <td>1717</td>\n",
       "      <td>1915</td>\n",
       "      <td>140000</td>\n",
       "    </tr>\n",
       "    <tr>\n",
       "      <th>4</th>\n",
       "      <td>2198</td>\n",
       "      <td>2000</td>\n",
       "      <td>250000</td>\n",
       "    </tr>\n",
       "  </tbody>\n",
       "</table>\n",
       "</div>"
      ],
      "text/plain": [
       "   GrLivArea  YearBuilt  SalePrice\n",
       "0       1710       2003     208500\n",
       "1       1262       1976     181500\n",
       "2       1786       2001     223500\n",
       "3       1717       1915     140000\n",
       "4       2198       2000     250000"
      ]
     },
     "execution_count": 26,
     "metadata": {},
     "output_type": "execute_result"
    }
   ],
   "source": [
    "#-------------House Pricesデータセットを学習・推定-----------\n",
    "\n",
    "#　library\n",
    "import matplotlib.pyplot as plt\n",
    "%matplotlib inline\n",
    "import numpy as np\n",
    "import pandas as pd\n",
    "\n",
    "#　データフレームのインポートと前処理\n",
    "df = pd.read_csv(\"train.csv\") \n",
    "df_selected = df.loc[:, [\"GrLivArea\", \"YearBuilt\", \"SalePrice\"]]\n",
    "df_selected.head()"
   ]
  },
  {
   "cell_type": "code",
   "execution_count": 27,
   "metadata": {},
   "outputs": [
    {
     "name": "stdout",
     "output_type": "stream",
     "text": [
      "・GrLivAreaとYearBuiltを標準化したデータフレーム \n",
      "\n",
      "      GrLivArea  YearBuilt  SalePrice\n",
      "0      0.370333   1.050994     208500\n",
      "1     -0.482512   0.156734     181500\n",
      "2      0.515013   0.984752     223500\n",
      "3      0.383659  -1.863632     140000\n",
      "4      1.299326   0.951632     250000\n",
      "...         ...        ...        ...\n",
      "1455   0.250402   0.918511     175000\n",
      "1456   1.061367   0.222975     210000\n",
      "1457   1.569647  -1.002492     266500\n",
      "1458  -0.832788  -0.704406     142125\n",
      "1459  -0.493934  -0.207594     147500\n",
      "\n",
      "[1460 rows x 3 columns]\n"
     ]
    }
   ],
   "source": [
    "#-------------GrLivArea　・　YearBuilt　だけを標準化する。-----------\n",
    "\n",
    "#データフレームのコピーを作成\n",
    "scaled_features = df_selected.copy()\n",
    "\n",
    "#標準化する２つのカラムを定義する\n",
    "col_names = ['GrLivArea', 'YearBuilt']\n",
    "\n",
    "#featuresとして、標準化するカラムのみのデータフレームを作る\n",
    "features = scaled_features[col_names]\n",
    "\n",
    "#scalerという変数でStandardScalerクラスをインスタンス化\n",
    "scaler = StandardScaler().fit(features.values) #データフレームをndarrayに変換する.valuesメソッド\n",
    "\n",
    "#featuresという変数でscalerクラスのtransformメソッド（標準化）を呼び出し\n",
    "features = scaler.transform(features.values) #データフレームをndarrayに変換する.valuesメソッド\n",
    "\n",
    "#上のscaled_features[col_names]に標準化したデータfeatures を上書き\n",
    "scaled_features[col_names] = features\n",
    "\n",
    "#出力\n",
    "print(\"・GrLivAreaとYearBuiltを標準化したデータフレーム \\n\")\n",
    "\n",
    "#scaled_featuresのGrLivAreaとYearBuiltは標準化された上書きデータが代入された為、使用DFはscaled_features\n",
    "print(scaled_features)\n"
   ]
  },
  {
   "cell_type": "code",
   "execution_count": 34,
   "metadata": {},
   "outputs": [],
   "source": [
    "#-------------訓練データと検証データに分割-----------\n",
    "\n",
    "#train_test_splitに代入してデータを分ける為、特徴量のDFと目的変数のDFに分割する\n",
    "X = scaled_features.loc[: , ['GrLivArea','YearBuilt']] #[]の中に[]をつけているのでタイプはDFになる。\n",
    "y = scaled_features.loc[: , ['SalePrice']]\n",
    "\n",
    "#自作scratch_train_test_splitは入力X、yがndarrayを想定している為、DFをndarrayに変換\n",
    "X = X.values #.valuesメソッドでndarrayに変換\n",
    "y = y.values #.valuesメソッドでndarrayに変換\n",
    "\n",
    "#train_test_split訓練データと検証データに分割\n",
    "X_train, X_test, y_train, y_test = scratch_train_test_split(X, y, train_size=0.7)\n"
   ]
  },
  {
   "cell_type": "code",
   "execution_count": 48,
   "metadata": {},
   "outputs": [
    {
     "name": "stdout",
     "output_type": "stream",
     "text": [
      "・ロジスティック回帰\n",
      "\n",
      "y_test_pred:\n",
      "[100000 230000 140000 154000 178000 140000 140000 147000 145900 127000\n",
      " 145000 140000 147000 140000 147000 147000 140000 140000 140000 154000\n",
      " 127000 140000 145000 140000 210000 280000 145000 280000 140000 147000\n",
      " 140000 147000 280000 145900 178000 147000 145000 280000 154000 154000\n",
      " 140000 154000 140000 140000 100000 280000 140000 154000 210000 154000\n",
      " 145000 128000 147000 140000 140000 147000 154000 140000 280000 145000\n",
      " 154000 140000 147000 122000 210000 154000 154000 147000 145000 140000\n",
      " 140000 178000 140000 140000 147000 140000 280000 230000 154000 140000\n",
      " 154000 154000 127000 280000 280000 147000 154000 145000 147000 140000\n",
      " 154000 140000 147000 140000 147000 230000 140000 140000 140000 140000\n",
      " 140000 280000 147000 140000 127000 147000 154000 280000 154000 178000\n",
      " 147000 140000 230000 178000 140000 210000 154000 226000 280000 100000\n",
      " 140000 154000 140000 147000 210000 145000 140000 145000 140000 100000\n",
      " 154000 154000 145000 145000 140000 100000 140000 140000 140000 154000\n",
      " 154000 100000 230000 178000 154000 140000 147000 145900 140000 147000\n",
      " 226000 154000 145000 145000 147000 100000 140000 127000 140000 100000\n",
      " 140000 145000 143750 154000 280000 154000 140000 280000 140000 140000\n",
      " 140000 140000 147000 145000 154000 145000 147000 147000 154000 140000\n",
      " 154000 147000 230000 100000 230000 154000 280000 147000 230000 280000\n",
      " 154000 154000 147000 100000 147000 178000 154000 280000 154000 178000\n",
      " 145000 154000 154000 154000 154000 122000 140000 280000 147000 145000\n",
      " 140000 147000 147000 154000 140000 140000 230000 154000 140000 226000\n",
      " 140000 100000 154000 147000 147000 210000 147000 280000 140000 140000\n",
      " 147000 140000 154000 154000 178000 280000 140000 140000 154000 147000\n",
      " 145000 147000 154000 100000 280000 147000 232000 140000 178000 140000\n",
      " 145900 147000 143750 147000 147000 210000 140000 100000 147000 220000\n",
      " 147000 140000 154000 280000 145000 100000 280000 147000 230000 230000\n",
      " 147000 140000 140000 147000 147000 140000 154000 230000 140000 140000\n",
      " 100000 147000 145000 140000 154000 145000 230000 154000 280000 154000\n",
      " 154000 147000 230000 100000 220000 154000 147000 145000 100000  82500\n",
      " 154000 178000 140000 140000 147000 140000 140000 122000 147000 140000\n",
      " 154000 145000 154000 147000 230000 147000 140000 147000 147000 140000\n",
      " 145000 147000 100000 154000 100000 147000 100000 226000 280000 280000\n",
      " 100000 140000 100000 140000 154000 140000 140000 140000 145900 145000\n",
      " 140000 140000 147000 230000 100000 140000 230000 145000 154000 147000\n",
      " 140000 147000 145000 140000 147000 154000 154000 154000 140000 140000\n",
      " 154000 100000 178000 154000  82500 140000 210000 154000 154000 140000\n",
      " 280000 140000 147000 145000 210000 230000 145000 140000 100000 178000\n",
      " 122000 154000 122000 147000 147000 154000 226000 140000 140000 145000\n",
      " 140000 154000 154000 147000 140000 280000 140000 154000 154000 140000\n",
      " 210000 140000 140000 154000 147000 145000 147000 140000 140000 140000\n",
      " 140000 154000 280000 154000 140000 210000 147000 147000 154000 140000\n",
      " 140000 140000 280000 280000 145000 140000 230000 143750 154000 154000\n",
      " 145000 147000 128000  82500 140000 230000 280000 100000 154000]\n"
     ]
    }
   ],
   "source": [
    "\n",
    "#　library\n",
    "import numpy as np\n",
    "from sklearn.linear_model import SGDClassifier\n",
    "from sklearn.preprocessing import StandardScaler\n",
    "from sklearn.pipeline import make_pipeline\n",
    "\n",
    "#訓練用データのデータを用意\n",
    "X = X_train\n",
    "y = y_train.ravel() #yは１次元のndarrayを想定しているので.ravel()で1次元に変換している\n",
    "\n",
    "\n",
    "#ロジスティック回帰(SGDClassifier)クラスをインスタンス化\n",
    "clf = make_pipeline(StandardScaler(),SGDClassifier(loss = 'log', max_iter=1000, tol=1e-3))#★☆★☆公式HPの見方教えて\n",
    "\n",
    "#訓練用データで学習\n",
    "clf.fit(X, y)\n",
    "\n",
    "#検証データ(X_test_transform)を引数としてクラスラベル予測データを出力\n",
    "y_test_pred = clf.predict(X_test)#clf.predict(特徴量ndarray)で予測データを作成\n",
    "\n",
    "print(\"・ロジスティック回帰\\n\")\n",
    "print(\"y_test_pred:\\n{}\".format(y_test_pred))"
   ]
  },
  {
   "cell_type": "code",
   "execution_count": null,
   "metadata": {},
   "outputs": [],
   "source": []
  }
 ],
 "metadata": {
  "kernelspec": {
   "display_name": "Python 3",
   "language": "python",
   "name": "python3"
  },
  "language_info": {
   "codemirror_mode": {
    "name": "ipython",
    "version": 3
   },
   "file_extension": ".py",
   "mimetype": "text/x-python",
   "name": "python",
   "nbconvert_exporter": "python",
   "pygments_lexer": "ipython3",
   "version": "3.8.5"
  }
 },
 "nbformat": 4,
 "nbformat_minor": 4
}
