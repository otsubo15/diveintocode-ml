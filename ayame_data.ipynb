{
 "cells": [
  {
   "cell_type": "markdown",
   "metadata": {},
   "source": [
    "# アヤメのデータ分析"
   ]
  },
  {
   "cell_type": "markdown",
   "metadata": {},
   "source": [
    "#### 【問題1】データの取得"
   ]
  },
  {
   "cell_type": "code",
   "execution_count": 13,
   "metadata": {},
   "outputs": [
    {
     "name": "stdout",
     "output_type": "stream",
     "text": [
      "     sepal_length  sepal_width  petal_length  petal_width\n",
      "0             5.1          3.5           1.4          0.2\n",
      "1             4.9          3.0           1.4          0.2\n",
      "2             4.7          3.2           1.3          0.2\n",
      "3             4.6          3.1           1.5          0.2\n",
      "4             5.0          3.6           1.4          0.2\n",
      "..            ...          ...           ...          ...\n",
      "145           6.7          3.0           5.2          2.3\n",
      "146           6.3          2.5           5.0          1.9\n",
      "147           6.5          3.0           5.2          2.0\n",
      "148           6.2          3.4           5.4          2.3\n",
      "149           5.9          3.0           5.1          1.8\n",
      "\n",
      "[150 rows x 4 columns]\n",
      "     Species\n",
      "0          0\n",
      "1          0\n",
      "2          0\n",
      "3          0\n",
      "4          0\n",
      "..       ...\n",
      "145        2\n",
      "146        2\n",
      "147        2\n",
      "148        2\n",
      "149        2\n",
      "\n",
      "[150 rows x 1 columns]\n"
     ]
    }
   ],
   "source": [
    "#----インポート----\n",
    "import numpy as np\n",
    "import pandas as pd\n",
    "import matplotlib\n",
    "import matplotlib.pyplot as plt\n",
    "%matplotlib inline\n",
    "import warnings\n",
    "warnings.filterwarnings('ignore')\n",
    "from sklearn.datasets import load_iris\n",
    "from sklearn.model_selection import train_test_split\n",
    "from sklearn.svm import LinearSVC\n",
    "\n",
    "#アヤメインスタンスを生成\n",
    "heacet = load_iris()\n",
    "\n",
    "# print(\"与えられたデータ\")\n",
    "# print(type(heacet.data))\n",
    "# print(heacet.data)\n",
    "# print(heacet.data.shape)\n",
    "# print(\"-----------------\")\n",
    "# print(\"予測するデータ\")\n",
    "# print(heacet.target)\n",
    "# print(heacet.target.shape)\n",
    "# print(heacet.target_names)\n",
    "\n",
    "#DataFrame型変数（X,y）に格納\n",
    "X = pd.DataFrame(heacet.data, columns=[\"sepal_length\",\"sepal_width\",\"petal_length\",\"petal_width\"])\n",
    "y = pd.DataFrame(heacet.target, columns=[\"Species\"])\n",
    "print(X)\n",
    "print(y)\n"
   ]
  },
  {
   "cell_type": "markdown",
   "metadata": {},
   "source": [
    "#### 【問題2】データの結合"
   ]
  },
  {
   "cell_type": "code",
   "execution_count": 14,
   "metadata": {},
   "outputs": [
    {
     "name": "stdout",
     "output_type": "stream",
     "text": [
      "     sepal_length  sepal_width  petal_length  petal_width  Species\n",
      "0             5.1          3.5           1.4          0.2        0\n",
      "1             4.9          3.0           1.4          0.2        0\n",
      "2             4.7          3.2           1.3          0.2        0\n",
      "3             4.6          3.1           1.5          0.2        0\n",
      "4             5.0          3.6           1.4          0.2        0\n",
      "..            ...          ...           ...          ...      ...\n",
      "145           6.7          3.0           5.2          2.3        2\n",
      "146           6.3          2.5           5.0          1.9        2\n",
      "147           6.5          3.0           5.2          2.0        2\n",
      "148           6.2          3.4           5.4          2.3        2\n",
      "149           5.9          3.0           5.1          1.8        2\n",
      "\n",
      "[150 rows x 5 columns]\n"
     ]
    }
   ],
   "source": [
    "\n",
    "#DataFrame型変数dfを作成（X,yを結合）\n",
    "df = pd.concat([X,y], axis=1)\n",
    "print(df)"
   ]
  },
  {
   "cell_type": "markdown",
   "metadata": {},
   "source": [
    "#### 【問題3】データの確認"
   ]
  },
  {
   "cell_type": "code",
   "execution_count": 15,
   "metadata": {},
   "outputs": [
    {
     "name": "stdout",
     "output_type": "stream",
     "text": [
      "1.headメソッドinfoメソッド　先頭から4番目までのサンプルを表示させ、各特徴量がどういったものかを見る。（数値データか文字データかなど）\n",
      "\n",
      "   sepal_length  sepal_width  petal_length  petal_width  Species\n",
      "0           5.1          3.5           1.4          0.2        0\n",
      "1           4.9          3.0           1.4          0.2        0\n",
      "2           4.7          3.2           1.3          0.2        0\n",
      "3           4.6          3.1           1.5          0.2        0\n",
      "<class 'pandas.core.frame.DataFrame'>\n",
      "RangeIndex: 150 entries, 0 to 149\n",
      "Data columns (total 5 columns):\n",
      " #   Column        Non-Null Count  Dtype  \n",
      "---  ------        --------------  -----  \n",
      " 0   sepal_length  150 non-null    float64\n",
      " 1   sepal_width   150 non-null    float64\n",
      " 2   petal_length  150 non-null    float64\n",
      " 3   petal_width   150 non-null    float64\n",
      " 4   Species       150 non-null    int32  \n",
      "dtypes: float64(4), int32(1)\n",
      "memory usage: 5.4 KB\n",
      "None\n",
      "\n",
      "\n",
      "2.sumメソッド　ラベルごとのサンプル数の合計を出力する。\n",
      "\n",
      "sepal_length    876.5\n",
      "sepal_width     458.6\n",
      "petal_length    563.7\n",
      "petal_width     179.9\n",
      "Species         150.0\n",
      "dtype: float64\n",
      "\n",
      "\n",
      "3.isnullメソッド　特徴量に欠損値があるかを確認する。\n",
      "\n",
      "     sepal_length  sepal_width  petal_length  petal_width  Species\n",
      "0           False        False         False        False    False\n",
      "1           False        False         False        False    False\n",
      "2           False        False         False        False    False\n",
      "3           False        False         False        False    False\n",
      "4           False        False         False        False    False\n",
      "..            ...          ...           ...          ...      ...\n",
      "145         False        False         False        False    False\n",
      "146         False        False         False        False    False\n",
      "147         False        False         False        False    False\n",
      "148         False        False         False        False    False\n",
      "149         False        False         False        False    False\n",
      "\n",
      "[150 rows x 5 columns]\n",
      "\n",
      "\n",
      "4.describeメソッド　特徴量の平均値と標準偏差、四分位数を一度に表示させる。\n",
      "\n",
      "       sepal_length  sepal_width  petal_length  petal_width     Species\n",
      "count    150.000000   150.000000    150.000000   150.000000  150.000000\n",
      "mean       5.843333     3.057333      3.758000     1.199333    1.000000\n",
      "std        0.828066     0.435866      1.765298     0.762238    0.819232\n",
      "min        4.300000     2.000000      1.000000     0.100000    0.000000\n",
      "25%        5.100000     2.800000      1.600000     0.300000    0.000000\n",
      "50%        5.800000     3.000000      4.350000     1.300000    1.000000\n",
      "75%        6.400000     3.300000      5.100000     1.800000    2.000000\n",
      "max        7.900000     4.400000      6.900000     2.500000    2.000000\n"
     ]
    }
   ],
   "source": [
    "#----インポート----\n",
    "import numpy as np\n",
    "import pandas as pd\n",
    "import matplotlib\n",
    "import matplotlib.pyplot as plt\n",
    "%matplotlib inline\n",
    "import warnings\n",
    "warnings.filterwarnings('ignore')\n",
    "from sklearn.datasets import load_iris\n",
    "from sklearn.model_selection import train_test_split\n",
    "from sklearn.svm import LinearSVC\n",
    "\n",
    "#アヤメインスタンスを生成\n",
    "heacet = load_iris()\n",
    "\n",
    "#DataFrame型変数（X,y）に格納\n",
    "X = pd.DataFrame(heacet.data, columns=[\"sepal_length\",\"sepal_width\",\"petal_length\",\"petal_width\"])\n",
    "y = pd.DataFrame(heacet.target, columns=[\"Species\"])\n",
    "\n",
    "#DataFrame型変数dfを作成（X,yを結合）\n",
    "df = pd.concat([X,y], axis=1)\n",
    "\n",
    "print(\"1.headメソッドinfoメソッド　先頭から4番目までのサンプルを表示させ、各特徴量がどういったものかを見る。（数値データか文字データかなど）\\n\")\n",
    "print(df.head(4))\n",
    "print(df.info())\n",
    "print(\"\\n\")\n",
    "print(\"2.sumメソッド　ラベルごとのサンプル数の合計を出力する。\\n\")\n",
    "print(df.sum())\n",
    "\n",
    "print(\"\\n\")\n",
    "print(\"3.isnullメソッド　特徴量に欠損値があるかを確認する。\\n\")\n",
    "print(df.isnull())\n",
    "\n",
    "print(\"\\n\")\n",
    "print(\"4.describeメソッド　特徴量の平均値と標準偏差、四分位数を一度に表示させる。\\n\")\n",
    "print(df.describe())\n",
    "\n",
    "\n",
    "\n",
    "\n"
   ]
  },
  {
   "cell_type": "markdown",
   "metadata": {},
   "source": [
    "#### 【問題4】irisデータセット自体の調査"
   ]
  },
  {
   "cell_type": "code",
   "execution_count": null,
   "metadata": {},
   "outputs": [],
   "source": [
    "ガスペ地方のアヤメについて調べても情報がありませんでした。もしかしたら作られたストーリーなのでしょうか\n"
   ]
  },
  {
   "cell_type": "markdown",
   "metadata": {},
   "source": [
    "#### 【問題5】必要なデータを抽出"
   ]
  },
  {
   "cell_type": "code",
   "execution_count": 16,
   "metadata": {},
   "outputs": [
    {
     "name": "stdout",
     "output_type": "stream",
     "text": [
      "①.sepal_widthの列を３つの異なる方法で抽出する（数値データか文字データかなど）\n",
      "\n",
      "・locメソッド\n",
      "0      3.5\n",
      "1      3.0\n",
      "2      3.2\n",
      "3      3.1\n",
      "4      3.6\n",
      "      ... \n",
      "145    3.0\n",
      "146    2.5\n",
      "147    3.0\n",
      "148    3.4\n",
      "149    3.0\n",
      "Name: sepal_width, Length: 150, dtype: float64\n",
      "\n",
      "\n",
      "・ilocメソッド\n",
      "0      3.5\n",
      "1      3.0\n",
      "2      3.2\n",
      "3      3.1\n",
      "4      3.6\n",
      "      ... \n",
      "145    3.0\n",
      "146    2.5\n",
      "147    3.0\n",
      "148    3.4\n",
      "149    3.0\n",
      "Name: sepal_width, Length: 150, dtype: float64\n",
      "\n",
      "\n",
      "・reindexメソッド\n",
      "     sepal_width\n",
      "0            3.5\n",
      "1            3.0\n",
      "2            3.2\n",
      "3            3.1\n",
      "4            3.6\n",
      "..           ...\n",
      "145          3.0\n",
      "146          2.5\n",
      "147          3.0\n",
      "148          3.4\n",
      "149          3.0\n",
      "\n",
      "[150 rows x 1 columns]\n",
      "\n",
      "\n",
      "３つのメソッドの違いについて：locとilocは単独の値だけでなく、範囲を指定して複数のデータを選択できる。locは行名と列名で位置を指定、ilocは行番号と列番号で位置を指定する。reindex() 関数は DataFrame のインデックスを変更するためにも利用でき、列のスライスにも利用できる。reindex() 関数は多くの引数を受け取ることができるが、列スライシングのためには、列名を関数に渡すだけでよい。\n",
      "\n",
      "\n",
      "②.50番目から99番目までのデータを抽出する。\n",
      "\n",
      "    sepal_length  sepal_width  petal_length  petal_width  Species\n",
      "50           7.0          3.2           4.7          1.4        1\n",
      "51           6.4          3.2           4.5          1.5        1\n",
      "52           6.9          3.1           4.9          1.5        1\n",
      "53           5.5          2.3           4.0          1.3        1\n",
      "54           6.5          2.8           4.6          1.5        1\n",
      "55           5.7          2.8           4.5          1.3        1\n",
      "56           6.3          3.3           4.7          1.6        1\n",
      "57           4.9          2.4           3.3          1.0        1\n",
      "58           6.6          2.9           4.6          1.3        1\n",
      "59           5.2          2.7           3.9          1.4        1\n",
      "60           5.0          2.0           3.5          1.0        1\n",
      "61           5.9          3.0           4.2          1.5        1\n",
      "62           6.0          2.2           4.0          1.0        1\n",
      "63           6.1          2.9           4.7          1.4        1\n",
      "64           5.6          2.9           3.6          1.3        1\n",
      "65           6.7          3.1           4.4          1.4        1\n",
      "66           5.6          3.0           4.5          1.5        1\n",
      "67           5.8          2.7           4.1          1.0        1\n",
      "68           6.2          2.2           4.5          1.5        1\n",
      "69           5.6          2.5           3.9          1.1        1\n",
      "70           5.9          3.2           4.8          1.8        1\n",
      "71           6.1          2.8           4.0          1.3        1\n",
      "72           6.3          2.5           4.9          1.5        1\n",
      "73           6.1          2.8           4.7          1.2        1\n",
      "74           6.4          2.9           4.3          1.3        1\n",
      "75           6.6          3.0           4.4          1.4        1\n",
      "76           6.8          2.8           4.8          1.4        1\n",
      "77           6.7          3.0           5.0          1.7        1\n",
      "78           6.0          2.9           4.5          1.5        1\n",
      "79           5.7          2.6           3.5          1.0        1\n",
      "80           5.5          2.4           3.8          1.1        1\n",
      "81           5.5          2.4           3.7          1.0        1\n",
      "82           5.8          2.7           3.9          1.2        1\n",
      "83           6.0          2.7           5.1          1.6        1\n",
      "84           5.4          3.0           4.5          1.5        1\n",
      "85           6.0          3.4           4.5          1.6        1\n",
      "86           6.7          3.1           4.7          1.5        1\n",
      "87           6.3          2.3           4.4          1.3        1\n",
      "88           5.6          3.0           4.1          1.3        1\n",
      "89           5.5          2.5           4.0          1.3        1\n",
      "90           5.5          2.6           4.4          1.2        1\n",
      "91           6.1          3.0           4.6          1.4        1\n",
      "92           5.8          2.6           4.0          1.2        1\n",
      "93           5.0          2.3           3.3          1.0        1\n",
      "94           5.6          2.7           4.2          1.3        1\n",
      "95           5.7          3.0           4.2          1.2        1\n",
      "96           5.7          2.9           4.2          1.3        1\n",
      "97           6.2          2.9           4.3          1.3        1\n",
      "98           5.1          2.5           3.0          1.1        1\n",
      "99           5.7          2.8           4.1          1.3        1\n",
      "\n",
      "\n",
      "③.petal_lengthの列の50番目から99番目までのデータを抽出する。\n",
      "\n",
      "50     4.7\n",
      "51     4.5\n",
      "52     4.9\n",
      "53     4.0\n",
      "54     4.6\n",
      "55     4.5\n",
      "56     4.7\n",
      "57     3.3\n",
      "58     4.6\n",
      "59     3.9\n",
      "60     3.5\n",
      "61     4.2\n",
      "62     4.0\n",
      "63     4.7\n",
      "64     3.6\n",
      "65     4.4\n",
      "66     4.5\n",
      "67     4.1\n",
      "68     4.5\n",
      "69     3.9\n",
      "70     4.8\n",
      "71     4.0\n",
      "72     4.9\n",
      "73     4.7\n",
      "74     4.3\n",
      "75     4.4\n",
      "76     4.8\n",
      "77     5.0\n",
      "78     4.5\n",
      "79     3.5\n",
      "80     3.8\n",
      "81     3.7\n",
      "82     3.9\n",
      "83     5.1\n",
      "84     4.5\n",
      "85     4.5\n",
      "86     4.7\n",
      "87     4.4\n",
      "88     4.1\n",
      "89     4.0\n",
      "90     4.4\n",
      "91     4.6\n",
      "92     4.0\n",
      "93     3.3\n",
      "94     4.2\n",
      "95     4.2\n",
      "96     4.2\n",
      "97     4.3\n",
      "98     3.0\n",
      "99     4.1\n",
      "100    6.0\n",
      "Name: petal_length, dtype: float64\n",
      "\n",
      "\n",
      "④.petal_widthの値が0.2のデータを抽出する。\n",
      "\n",
      "    sepal_length  sepal_width  petal_length  petal_width  Species\n",
      "0            5.1          3.5           1.4          0.2        0\n",
      "1            4.9          3.0           1.4          0.2        0\n",
      "2            4.7          3.2           1.3          0.2        0\n",
      "3            4.6          3.1           1.5          0.2        0\n",
      "4            5.0          3.6           1.4          0.2        0\n",
      "7            5.0          3.4           1.5          0.2        0\n",
      "8            4.4          2.9           1.4          0.2        0\n",
      "10           5.4          3.7           1.5          0.2        0\n",
      "11           4.8          3.4           1.6          0.2        0\n",
      "14           5.8          4.0           1.2          0.2        0\n",
      "20           5.4          3.4           1.7          0.2        0\n",
      "22           4.6          3.6           1.0          0.2        0\n",
      "24           4.8          3.4           1.9          0.2        0\n",
      "25           5.0          3.0           1.6          0.2        0\n",
      "27           5.2          3.5           1.5          0.2        0\n",
      "28           5.2          3.4           1.4          0.2        0\n",
      "29           4.7          3.2           1.6          0.2        0\n",
      "30           4.8          3.1           1.6          0.2        0\n",
      "33           5.5          4.2           1.4          0.2        0\n",
      "34           4.9          3.1           1.5          0.2        0\n",
      "35           5.0          3.2           1.2          0.2        0\n",
      "36           5.5          3.5           1.3          0.2        0\n",
      "38           4.4          3.0           1.3          0.2        0\n",
      "39           5.1          3.4           1.5          0.2        0\n",
      "42           4.4          3.2           1.3          0.2        0\n",
      "46           5.1          3.8           1.6          0.2        0\n",
      "47           4.6          3.2           1.4          0.2        0\n",
      "48           5.3          3.7           1.5          0.2        0\n",
      "49           5.0          3.3           1.4          0.2        0\n"
     ]
    }
   ],
   "source": [
    "#----インポート----\n",
    "import numpy as np\n",
    "import pandas as pd\n",
    "import matplotlib\n",
    "import matplotlib.pyplot as plt\n",
    "%matplotlib inline\n",
    "import warnings\n",
    "warnings.filterwarnings('ignore')\n",
    "from sklearn.datasets import load_iris\n",
    "from sklearn.model_selection import train_test_split\n",
    "from sklearn.svm import LinearSVC\n",
    "\n",
    "#アヤメインスタンスを生成\n",
    "heacet = load_iris()\n",
    "\n",
    "#DataFrame型変数（X,y）に格納\n",
    "X = pd.DataFrame(heacet.data, columns=[\"sepal_length\",\"sepal_width\",\"petal_length\",\"petal_width\"])\n",
    "y = pd.DataFrame(heacet.target, columns=[\"Species\"])\n",
    "\n",
    "#DataFrame型変数dfを作成（X,yを結合）\n",
    "df = pd.concat([X,y], axis=1)\n",
    "\n",
    "#------------------------------------------------\n",
    "\n",
    "print(\"①.sepal_widthの列を３つの異なる方法で抽出する（数値データか文字データかなど）\\n\")\n",
    "print(\"・locメソッド\")\n",
    "print(df.loc[:,\"sepal_width\"])\n",
    "print(\"\\n\")\n",
    "\n",
    "print(\"・ilocメソッド\")\n",
    "print(df.iloc[:,1])\n",
    "print(\"\\n\")\n",
    "\n",
    "print(\"・reindexメソッド\")\n",
    "print(df.reindex(columns= [\"sepal_width\"]))\n",
    "print(\"\\n\")\n",
    "\n",
    "print(\"３つのメソッドの違いについて：locとilocは単独の値だけでなく、範囲を指定して複数のデータを選択できる。locは行名と列名で位置を指定、ilocは行番号と列番号で位置を指定する。reindex() 関数は DataFrame のインデックスを変更するためにも利用でき、列のスライスにも利用できる。reindex() 関数は多くの引数を受け取ることができるが、列スライシングのためには、列名を関数に渡すだけでよい。\")\n",
    "\n",
    "#------------------------------------------------\n",
    "\n",
    "print(\"\\n\")\n",
    "print(\"②.50番目から99番目までのデータを抽出する。\\n\")\n",
    "print(df.iloc[50:100,:])\n",
    "\n",
    "#------------------------------------------------\n",
    "\n",
    "print(\"\\n\")\n",
    "print(\"③.petal_lengthの列の50番目から99番目までのデータを抽出する。\\n\")#ilocは番号しか指定できないので番号とstrが混ざると使えない\n",
    "print(df.loc[50:100,\"petal_length\"])\n",
    "\n",
    "#------------------------------------------------\n",
    "\n",
    "print(\"\\n\")\n",
    "print(\"④.petal_widthの値が0.2のデータを抽出する。\\n\")\n",
    "print (df.loc[(df['petal_width'] == 0.2)])\n",
    "\n",
    "\n"
   ]
  },
  {
   "cell_type": "markdown",
   "metadata": {},
   "source": [
    "#### 【問題6】図の作成"
   ]
  },
  {
   "cell_type": "code",
   "execution_count": 17,
   "metadata": {},
   "outputs": [
    {
     "name": "stdout",
     "output_type": "stream",
     "text": [
      "①.ラベルごとのサンプル数を円グラフにする（パーセンテージまで表示する）\n",
      "\n"
     ]
    },
    {
     "data": {
      "image/png": "[encoded data removed]",
      "text/plain": [
       "<Figure size 432x288 with 1 Axes>"
      ]
     },
     "metadata": {},
     "output_type": "display_data"
    },
    {
     "name": "stdout",
     "output_type": "stream",
     "text": [
      "\n",
      "\n",
      "②.特徴量を一つずつ選び、箱ひげ図を使ってラベルごとのデータの分布を可視化する\n",
      "\n",
      "・Iris-Setosaのsepal_lengthにおける箱ひげ図\n"
     ]
    },
    {
     "data": {
      "image/png": "[encoded data removed]",
      "text/plain": [
       "<Figure size 432x288 with 1 Axes>"
      ]
     },
     "metadata": {
      "needs_background": "light"
     },
     "output_type": "display_data"
    },
    {
     "name": "stdout",
     "output_type": "stream",
     "text": [
      "・Iris-Versicolorのsepal_widthにおける箱ひげ図\n"
     ]
    },
    {
     "data": {
      "image/png": "[encoded data removed]",
      "text/plain": [
       "<Figure size 432x288 with 1 Axes>"
      ]
     },
     "metadata": {
      "needs_background": "light"
     },
     "output_type": "display_data"
    },
    {
     "name": "stdout",
     "output_type": "stream",
     "text": [
      "・Iris-Virginicaのpetal_lengthにおける箱ひげ図\n"
     ]
    },
    {
     "data": {
      "image/png": "[encoded data removed]",
      "text/plain": [
       "<Figure size 432x288 with 1 Axes>"
      ]
     },
     "metadata": {
      "needs_background": "light"
     },
     "output_type": "display_data"
    },
    {
     "name": "stdout",
     "output_type": "stream",
     "text": [
      "・３つの特徴量の合成箱ひげ図\n"
     ]
    },
    {
     "data": {
      "image/png": "[encoded data removed]",
      "text/plain": [
       "<Figure size 432x288 with 1 Axes>"
      ]
     },
     "metadata": {
      "needs_background": "light"
     },
     "output_type": "display_data"
    },
    {
     "name": "stdout",
     "output_type": "stream",
     "text": [
      "\n",
      "\n",
      "③.特徴量を一つずつ選び、バイオリン図を使ってラベルごとのデータの分布を可視化する。\n",
      "\n",
      "・Iris-Setosaのsepal_lengthにおけるバイオリン図\n"
     ]
    },
    {
     "data": {
      "image/png": "[encoded data removed]",
      "text/plain": [
       "<Figure size 432x288 with 1 Axes>"
      ]
     },
     "metadata": {
      "needs_background": "light"
     },
     "output_type": "display_data"
    },
    {
     "name": "stdout",
     "output_type": "stream",
     "text": [
      "・Iris-Versicolorのsepal_widthにおけるバイオリン図\n"
     ]
    },
    {
     "data": {
      "image/png": "[encoded data removed]",
      "text/plain": [
       "<Figure size 432x288 with 1 Axes>"
      ]
     },
     "metadata": {
      "needs_background": "light"
     },
     "output_type": "display_data"
    },
    {
     "name": "stdout",
     "output_type": "stream",
     "text": [
      "・Iris-Virginicaのpetal_lengthにおけるバイオリン図\n"
     ]
    },
    {
     "data": {
      "image/png": "[encoded data removed]",
      "text/plain": [
       "<Figure size 432x288 with 1 Axes>"
      ]
     },
     "metadata": {
      "needs_background": "light"
     },
     "output_type": "display_data"
    },
    {
     "name": "stdout",
     "output_type": "stream",
     "text": [
      "箱ひげ図とバイオリン図の違いについて：\n",
      "バイオリン図のデータ分布の描画にはカーネル密度推定が用いられています。カーネル密度推定プロットによって滑らかに描画されるため、実際にはデータが存在しない範囲にもあたかもデータが存在しているかのように見えてしまうことがあります。数値データの分布を可視化・比較したい場合は、バイオリン図を使い、単峰性のデータかつ四分位数や外れ値が重要な場合は箱ひげ図の利用が良い。\n"
     ]
    }
   ],
   "source": [
    "#----インポート----\n",
    "import numpy as np\n",
    "import pandas as pd\n",
    "import matplotlib\n",
    "import matplotlib.pyplot as plt\n",
    "%matplotlib inline\n",
    "import warnings\n",
    "warnings.filterwarnings('ignore')\n",
    "from sklearn.datasets import load_iris\n",
    "from sklearn.model_selection import train_test_split\n",
    "from sklearn.svm import LinearSVC\n",
    "\n",
    "#アヤメインスタンスを生成\n",
    "heacet = load_iris()\n",
    "\n",
    "#DataFrame型変数（X,y）に格納\n",
    "X = pd.DataFrame(heacet.data, columns=[\"sepal_length\",\"sepal_width\",\"petal_length\",\"petal_width\"])\n",
    "y = pd.DataFrame(heacet.target, columns=[\"Species\"])\n",
    "\n",
    "#DataFrame型変数dfを作成（X,yを結合）\n",
    "df = pd.concat([X,y], axis=1)\n",
    "\n",
    "#------------------------------------------------\n",
    "\n",
    "print(\"①.ラベルごとのサンプル数を円グラフにする（パーセンテージまで表示する）\\n\")\n",
    "#Speciesが　0:setosa、1:virgiclor、2:virginica\n",
    "\n",
    "#各ラベルのデータフレーム\n",
    "df_setosa = df.loc[(df['Species'] == 0)] #ヒオウギアヤメ（Iris-Setosa）のデータフレーム\n",
    "df_versicolor = df.loc[(df['Species'] == 1)] #ブルーフラッグ（Iris-Versicolor)のデータフレーム\n",
    "df_virginica = df.loc[(df['Species'] == 2)] #バージニカ（Iris-Virginica)のデータフレーム\n",
    "\n",
    "#円グラフをプロット\n",
    "pie_graph = np.array([len(df_setosa), len(df_versicolor), len(df_virginica)])\n",
    "label = [\"Species\", \"Species\", \"Species\"]\n",
    "plt.pie(pie_graph, labels=label,counterclock=False, startangle=90, autopct=\"%.1f%%\",pctdistance=0.7)\n",
    "plt.show()\n",
    "print(\"\\n\")\n",
    "\n",
    "#------------------------------------------------\n",
    "\n",
    "print(\"②.特徴量を一つずつ選び、箱ひげ図を使ってラベルごとのデータの分布を可視化する\\n\")\n",
    "\n",
    "#------------↓①------------\n",
    "\n",
    "print(\"・Iris-Setosaのsepal_lengthにおける箱ひげ図\")\n",
    "df_setosa_sepal_length = df_setosa.loc[:,\"sepal_length\"] #　Iris-Setosa　の　sepal_length　におけるデータフレーム\n",
    "\n",
    "# 箱ひげ図\n",
    "fig, ax = plt.subplots()\n",
    "\n",
    "bp = ax.boxplot(df_setosa_sepal_length)\n",
    "ax.set_xticklabels([\"df_setosa_sepal_length\"])\n",
    "\n",
    "plt.title('sepal_length of Iris-Setosa')\n",
    "plt.show()\n",
    "\n",
    "#------------↑①------------\n",
    "\n",
    "#------------↓②------------\n",
    "\n",
    "print(\"・Iris-Versicolorのsepal_widthにおける箱ひげ図\")\n",
    "df_versicolor_sepal_width = df_versicolor.loc[:,\"sepal_width\"] #　Iris-Versicolor　の　sepal_width　におけるデータフレーム\n",
    "\n",
    "# 箱ひげ図\n",
    "fig, ax = plt.subplots()\n",
    "\n",
    "bp = ax.boxplot(df_versicolor_sepal_width)\n",
    "ax.set_xticklabels([\"df_versicolor_sepal_width\"])\n",
    "\n",
    "plt.title('sepal_length of Iris-Versicolor')\n",
    "plt.show()\n",
    "\n",
    "#------------↑②------------\n",
    "\n",
    "#------------↓③------------\n",
    "\n",
    "print(\"・Iris-Virginicaのpetal_lengthにおける箱ひげ図\")\n",
    "df_virginica_petal_length = df_virginica.loc[:,\"petal_length\"] #　Iris-Virginica　の　petal_length　におけるデータフレーム\n",
    "\n",
    "# 箱ひげ図\n",
    "fig, ax = plt.subplots()\n",
    "\n",
    "bp = ax.boxplot(df_virginica_petal_length)\n",
    "ax.set_xticklabels([\"df_virginica_petal_length\"])\n",
    "\n",
    "plt.title('petal_length of Iris-Virginica')\n",
    "plt.show()\n",
    "\n",
    "#------------↑③------------\n",
    "\n",
    "#------------↓④------------\n",
    "print(\"・３つの特徴量の合成箱ひげ図\")\n",
    "\n",
    "# アヤメのタプル\n",
    "points = (df_setosa_sepal_length, df_versicolor_sepal_width, df_virginica_petal_length)\n",
    "\n",
    "fig, ax = plt.subplots()\n",
    "\n",
    "bp = ax.boxplot(points)\n",
    "#ax.set_xticklabels([\"df_setosa_sepal_length\", \"df_versicolor_sepal_width\", \"df_virginica_petal_length\"])\n",
    "\n",
    "plt.title('Box plot')\n",
    "plt.xlabel('exams')\n",
    "plt.ylabel('point')\n",
    "plt.show()\n",
    "#------------↑④------------\n",
    "\n",
    "#------------------------------------------------\n",
    "\n",
    "print(\"\\n\")\n",
    "print(\"③.特徴量を一つずつ選び、バイオリン図を使ってラベルごとのデータの分布を可視化する。\\n\")\n",
    "\n",
    "#------------↓①------------\n",
    "\n",
    "print(\"・Iris-Setosaのsepal_lengthにおけるバイオリン図\")\n",
    "df_setosa_sepal_length = df_setosa.loc[:,\"sepal_length\"] #　Iris-Setosa　の　sepal_length　におけるデータフレーム\n",
    "\n",
    "# バイオリン図\n",
    "\n",
    "plt.violinplot(df_setosa_sepal_length, showmedians=True)\n",
    "plt.title('sepal_length of Iris-Setosa')\n",
    "plt.show()\n",
    "\n",
    "#------------↑①------------\n",
    "#------------↓②------------\n",
    "\n",
    "print(\"・Iris-Versicolorのsepal_widthにおけるバイオリン図\")\n",
    "df_versicolor_sepal_width = df_versicolor.loc[:,\"sepal_width\"] #　Iris-Versicolor　の　sepal_width　におけるデータフレーム\n",
    "\n",
    "# バイオリン図\n",
    "plt.violinplot(df_versicolor_sepal_width, showmedians=True)\n",
    "plt.title('sepal_length of Iris-Versicolor')\n",
    "plt.show()\n",
    "\n",
    "#------------↑②------------\n",
    "\n",
    "#------------↓③------------\n",
    "\n",
    "print(\"・Iris-Virginicaのpetal_lengthにおけるバイオリン図\")\n",
    "df_virginica_petal_length = df_virginica.loc[:,\"petal_length\"] #　Iris-Virginica　の　petal_length　におけるデータフレーム\n",
    "\n",
    "# バイオリン図\n",
    "plt.violinplot(df_virginica_petal_length, showmedians=True)\n",
    "plt.title('petal_length of Iris-Virginica')\n",
    "plt.show()\n",
    "\n",
    "#------------↑③------------\n",
    "\n",
    "\n",
    "\n",
    "\n",
    "\n",
    "\n",
    "print(\"箱ひげ図とバイオリン図の違いについて：\\nバイオリン図のデータ分布の描画にはカーネル密度推定が用いられています。カーネル密度推定プロットによって滑らかに描画されるため、実際にはデータが存在しない範囲にもあたかもデータが存在しているかのように見えてしまうことがあります。数値データの分布を可視化・比較したい場合は、バイオリン図を使い、単峰性のデータかつ四分位数や外れ値が重要な場合は箱ひげ図の利用が良い。\")\n",
    "\n",
    "\n",
    "\n"
   ]
  },
  {
   "cell_type": "markdown",
   "metadata": {},
   "source": [
    "#### 【問題7】特徴量間の関係の確認"
   ]
  },
  {
   "cell_type": "code",
   "execution_count": 18,
   "metadata": {
    "scrolled": false
   },
   "outputs": [
    {
     "name": "stdout",
     "output_type": "stream",
     "text": [
      "●４つの特徴量から２つ選ぶようなすべての組み合わせ（６つ）の散布図を種類ごとに色分けして作る。\n",
      "\n",
      "・sepal_length（がく片の長さ）　×　sepal_width（がく片の幅）\n"
     ]
    },
    {
     "data": {
      "image/png": "[encoded data removed]",
      "text/plain": [
       "<Figure size 432x288 with 1 Axes>"
      ]
     },
     "metadata": {
      "needs_background": "light"
     },
     "output_type": "display_data"
    },
    {
     "name": "stdout",
     "output_type": "stream",
     "text": [
      "・sepal_length（がく片の長さ）　×　petal_length（花弁の長さ）\n"
     ]
    },
    {
     "data": {
      "image/png": "[encoded data removed]",
      "text/plain": [
       "<Figure size 432x288 with 1 Axes>"
      ]
     },
     "metadata": {
      "needs_background": "light"
     },
     "output_type": "display_data"
    },
    {
     "name": "stdout",
     "output_type": "stream",
     "text": [
      "・sepal_length（がく片の長さ）　×　petal_width（花弁の幅）\n"
     ]
    },
    {
     "data": {
      "image/png": "[encoded data removed]",
      "text/plain": [
       "<Figure size 432x288 with 1 Axes>"
      ]
     },
     "metadata": {
      "needs_background": "light"
     },
     "output_type": "display_data"
    },
    {
     "name": "stdout",
     "output_type": "stream",
     "text": [
      "・sepal_width（がく片の幅）　×　petal_length（花弁の長さ）\n"
     ]
    },
    {
     "data": {
      "image/png": "[encoded data removed]",
      "text/plain": [
       "<Figure size 432x288 with 1 Axes>"
      ]
     },
     "metadata": {
      "needs_background": "light"
     },
     "output_type": "display_data"
    },
    {
     "name": "stdout",
     "output_type": "stream",
     "text": [
      "・sepal_width（がく片の幅）　×　petal_width（花弁の幅）\n"
     ]
    },
    {
     "data": {
      "image/png": "[encoded data removed]",
      "text/plain": [
       "<Figure size 432x288 with 1 Axes>"
      ]
     },
     "metadata": {
      "needs_background": "light"
     },
     "output_type": "display_data"
    },
    {
     "name": "stdout",
     "output_type": "stream",
     "text": [
      "・petal_length（花弁の長さ）　×　petal_width（花弁の幅）\n"
     ]
    },
    {
     "data": {
      "image/png": "[encoded data removed]",
      "text/plain": [
       "<Figure size 432x288 with 1 Axes>"
      ]
     },
     "metadata": {
      "needs_background": "light"
     },
     "output_type": "display_data"
    },
    {
     "name": "stdout",
     "output_type": "stream",
     "text": [
      "●特徴量すべてを組み合わせを一度に表示させた、散布図行列を作る。\n"
     ]
    },
    {
     "data": {
      "image/png": "[encoded data removed]",
      "text/plain": [
       "<Figure size 432x288 with 1 Axes>"
      ]
     },
     "metadata": {
      "needs_background": "light"
     },
     "output_type": "display_data"
    },
    {
     "name": "stdout",
     "output_type": "stream",
     "text": [
      "\n",
      "\n",
      "●４つの特徴量に関する相関係数行列を作る。\n",
      "\n",
      "The correlation DataFrame is:\n",
      "              sepal_length  sepal_width  petal_length  petal_width   Species\n",
      "sepal_length      1.000000    -0.117570      0.871754     0.817941  0.782561\n",
      "sepal_width      -0.117570     1.000000     -0.428440    -0.366126 -0.426658\n",
      "petal_length      0.871754    -0.428440      1.000000     0.962865  0.949035\n",
      "petal_width       0.817941    -0.366126      0.962865     1.000000  0.956547\n",
      "Species           0.782561    -0.426658      0.949035     0.956547  1.000000 \n",
      "\n",
      "●相関係数行列のヒートマップを作る(１つ)\n"
     ]
    },
    {
     "data": {
      "text/plain": [
       "<AxesSubplot:>"
      ]
     },
     "execution_count": 18,
     "metadata": {},
     "output_type": "execute_result"
    },
    {
     "data": {
      "image/png": "[encoded data removed]",
      "text/plain": [
       "<Figure size 432x288 with 2 Axes>"
      ]
     },
     "metadata": {
      "needs_background": "light"
     },
     "output_type": "display_data"
    }
   ],
   "source": [
    "#----インポート----\n",
    "import numpy as np\n",
    "import pandas as pd\n",
    "import matplotlib\n",
    "import matplotlib.pyplot as plt\n",
    "%matplotlib inline\n",
    "import warnings\n",
    "warnings.filterwarnings('ignore')\n",
    "from sklearn.datasets import load_iris\n",
    "from sklearn.model_selection import train_test_split\n",
    "from sklearn.svm import LinearSVC\n",
    "import seaborn as sns\n",
    "\n",
    "#アヤメインスタンスを生成\n",
    "heacet = load_iris()\n",
    "\n",
    "#DataFrame型変数（X,y）に格納\n",
    "X = pd.DataFrame(heacet.data, columns=[\"sepal_length\",\"sepal_width\",\"petal_length\",\"petal_width\"])\n",
    "y = pd.DataFrame(heacet.target, columns=[\"Species\"])\n",
    "\n",
    "#DataFrame型変数dfを作成（X,yを結合）\n",
    "df = pd.concat([X,y], axis=1)\n",
    "\n",
    "#------------------------------------------------\n",
    "\n",
    "#print(\"①.ラベルごとのサンプル数を円グラフにする（パーセンテージまで表示する）\\n\")\n",
    "#Speciesが　0:setosa、1:versicolor、2:virginica\n",
    "\n",
    "#各ラベルのデータフレーム\n",
    "df_setosa = df.loc[(df['Species'] == 0)] #ヒオウギアヤメ（Iris-Setosa）のデータフレーム\n",
    "df_versicolor = df.loc[(df['Species'] == 1)] #ブルーフラッグ（Iris-Versicolor)のデータフレーム\n",
    "df_virginica = df.loc[(df['Species'] == 2)] #バージニカ（Iris-Virginica)のデータフレーム\n",
    "\n",
    "#------------------------------------------------\n",
    "\n",
    "print(\"●４つの特徴量から２つ選ぶようなすべての組み合わせ（６つ）の散布図を種類ごとに色分けして作る。\\n\")\n",
    "\n",
    "#【sepal_lengthの３種類のアヤメのデータ】\n",
    "# setosa_sepal_length　    df_setosa.loc[:,\"sepal_length\"]\n",
    "# versicolor_sepal_length　df_versicolor.loc[:,\"sepal_length\"]\n",
    "# virgiclor_sepal_length　 df_virginica.loc[:,\"sepal_length\"]\n",
    "\n",
    "#【sepal_widthの３種類のアヤメのデータ】\n",
    "# setosa_sepal_width　     df_setosa.loc[:,\"sepal_width\"]\n",
    "# versicolor_sepal_width　 df_versicolor.loc[:,\"sepal_width\"]\n",
    "# virgiclor_sepal_width　  df_virginica.loc[:,\"sepal_width\"]\n",
    "\n",
    "#【petal_lengthの３種類のアヤメのデータ】\n",
    "# setosa_petal_length　    df_setosa.loc[:,\"petal_length\"]\n",
    "# versicolor__petal_length df_versicolor.loc[:,\"petal_length\"]\n",
    "# virgiclor_petal_length　 df_virginica.loc[:,\"petal_length\"]\n",
    "\n",
    "#【petal_widthの３種類のアヤメのデータ】\n",
    "# setosa_petal_width　     df_setosa.loc[:,\"petal_width\"]\n",
    "# versicolor__petal_width  df_versicolor.loc[:,\"petal_width\"]\n",
    "# virgiclor_petal_width　  df_virginica.loc[:,\"petal_width\"]\n",
    "\n",
    "\n",
    "#-------------組み合わせ別の散布図表示６パターン-----------\n",
    "\n",
    "# ・sepal_length（がく片の長さ）　×　sepal_width（がく片の幅）\n",
    "# ・sepal_length（がく片の長さ）　×　petal_length（花弁の長さ）\n",
    "# ・sepal_length（がく片の長さ）　×　petal_width（花弁の幅）\n",
    "# ・sepal_width（がく片の幅）　×　petal_length（花弁の長さ）\n",
    "# ・sepal_width（がく片の幅）　×　petal_width（花弁の幅）\n",
    "# ・petal_length（花弁の長さ）　×　petal_width（花弁の幅）\n",
    "\n",
    "\n",
    "print(\"・sepal_length（がく片の長さ）　×　sepal_width（がく片の幅）\")\n",
    "\n",
    "X = df_setosa.loc[:,\"sepal_length\"] #setosaの散布図\n",
    "Y = df_setosa.loc[:,\"sepal_width\"]\n",
    "plt.scatter(X,Y )\n",
    "\n",
    "X = df_versicolor.loc[:,\"sepal_length\"] #versicolorの散布図\n",
    "Y = df_versicolor.loc[:,\"sepal_width\"]\n",
    "plt.scatter(X,Y )\n",
    "\n",
    "X = df_virginica.loc[:,\"sepal_length\"] #virginicaの散布図\n",
    "Y = df_virginica.loc[:,\"sepal_width\"]\n",
    "plt.scatter(X,Y )\n",
    "\n",
    "plt.show()\n",
    "\n",
    "\n",
    "print(\"・sepal_length（がく片の長さ）　×　petal_length（花弁の長さ）\")\n",
    "\n",
    "X = df_setosa.loc[:,\"sepal_length\"] #setosaの散布図\n",
    "Y = df_setosa.loc[:,\"petal_length\"]\n",
    "plt.scatter(X,Y )\n",
    "\n",
    "X = df_versicolor.loc[:,\"sepal_length\"] #versicolorの散布図\n",
    "Y = df_versicolor.loc[:,\"petal_length\"]\n",
    "plt.scatter(X,Y )\n",
    "\n",
    "X = df_virginica.loc[:,\"sepal_length\"] #virginicaの散布図\n",
    "Y = df_virginica.loc[:,\"petal_length\"]\n",
    "plt.scatter(X,Y )\n",
    "\n",
    "plt.show()\n",
    "\n",
    "print(\"・sepal_length（がく片の長さ）　×　petal_width（花弁の幅）\")\n",
    "\n",
    "X = df_setosa.loc[:,\"sepal_length\"] #setosaの散布図\n",
    "Y = df_setosa.loc[:,\"petal_width\"]\n",
    "plt.scatter(X,Y )\n",
    "\n",
    "X = df_versicolor.loc[:,\"sepal_length\"] #versicolorの散布図\n",
    "Y = df_versicolor.loc[:,\"petal_width\"]\n",
    "plt.scatter(X,Y )\n",
    "\n",
    "X = df_virginica.loc[:,\"sepal_length\"] #virginicaの散布図\n",
    "Y = df_virginica.loc[:,\"petal_width\"]\n",
    "plt.scatter(X,Y )\n",
    "\n",
    "plt.show()\n",
    "\n",
    "print(\"・sepal_width（がく片の幅）　×　petal_length（花弁の長さ）\")\n",
    "\n",
    "X = df_setosa.loc[:,\"sepal_width\"] #setosaの散布図\n",
    "Y = df_setosa.loc[:,\"petal_length\"]\n",
    "plt.scatter(X,Y )\n",
    "\n",
    "X = df_versicolor.loc[:,\"sepal_width\"] #versicolorの散布図\n",
    "Y = df_versicolor.loc[:,\"petal_length\"]\n",
    "plt.scatter(X,Y )\n",
    "\n",
    "X = df_virginica.loc[:,\"sepal_width\"] #virginicaの散布図\n",
    "Y = df_virginica.loc[:,\"petal_length\"]\n",
    "plt.scatter(X,Y )\n",
    "\n",
    "plt.show()\n",
    "\n",
    "print(\"・sepal_width（がく片の幅）　×　petal_width（花弁の幅）\")\n",
    "\n",
    "X = df_setosa.loc[:,\"sepal_width\"] #setosaの散布図\n",
    "Y = df_setosa.loc[:,\"petal_width\"]\n",
    "plt.scatter(X,Y )\n",
    "\n",
    "X = df_versicolor.loc[:,\"sepal_width\"] #versicolorの散布図\n",
    "Y = df_versicolor.loc[:,\"petal_width\"]\n",
    "plt.scatter(X,Y )\n",
    "\n",
    "X = df_virginica.loc[:,\"sepal_width\"] #virginicaの散布図\n",
    "Y = df_virginica.loc[:,\"petal_width\"]\n",
    "plt.scatter(X,Y )\n",
    "\n",
    "plt.show()\n",
    "\n",
    "print(\"・petal_length（花弁の長さ）　×　petal_width（花弁の幅）\")\n",
    "\n",
    "X = df_setosa.loc[:,\"petal_length\"] #setosaの散布図\n",
    "Y = df_setosa.loc[:,\"petal_width\"]\n",
    "plt.scatter(X,Y )\n",
    "\n",
    "X = df_versicolor.loc[:,\"petal_length\"] #versicolorの散布図\n",
    "Y = df_versicolor.loc[:,\"petal_width\"]\n",
    "plt.scatter(X,Y )\n",
    "\n",
    "X = df_virginica.loc[:,\"petal_length\"] #virginicaの散布図\n",
    "Y = df_virginica.loc[:,\"petal_width\"]\n",
    "plt.scatter(X,Y )\n",
    "\n",
    "plt.show()\n",
    "\n",
    "#------------------------------------------------\n",
    "\n",
    "print(\"●特徴量すべてを組み合わせを一度に表示させた、散布図行列を作る。\")\n",
    "\n",
    "#print(\"・sepal_length（がく片の長さ）　×　sepal_width（がく片の幅）\")\n",
    "\n",
    "X = df_setosa.loc[:,\"sepal_length\"] #setosaの散布図\n",
    "Y = df_setosa.loc[:,\"sepal_width\"]\n",
    "plt.scatter(X,Y )\n",
    "\n",
    "X = df_versicolor.loc[:,\"sepal_length\"] #versicolorの散布図\n",
    "Y = df_versicolor.loc[:,\"sepal_width\"]\n",
    "plt.scatter(X,Y )\n",
    "\n",
    "X = df_virginica.loc[:,\"sepal_length\"] #virginicaの散布図\n",
    "Y = df_virginica.loc[:,\"sepal_width\"]\n",
    "plt.scatter(X,Y )\n",
    "\n",
    "\n",
    "#print(\"・sepal_length（がく片の長さ）　×　petal_length（花弁の長さ）\")\n",
    "\n",
    "X = df_setosa.loc[:,\"sepal_length\"] #setosaの散布図\n",
    "Y = df_setosa.loc[:,\"petal_length\"]\n",
    "plt.scatter(X,Y )\n",
    "\n",
    "X = df_versicolor.loc[:,\"sepal_length\"] #versicolorの散布図\n",
    "Y = df_versicolor.loc[:,\"petal_length\"]\n",
    "plt.scatter(X,Y )\n",
    "\n",
    "X = df_virginica.loc[:,\"sepal_length\"] #virginicaの散布図\n",
    "Y = df_virginica.loc[:,\"petal_length\"]\n",
    "plt.scatter(X,Y )\n",
    "\n",
    "\n",
    "#print(\"・sepal_length（がく片の長さ）　×　petal_width（花弁の幅）\")\n",
    "\n",
    "X = df_setosa.loc[:,\"sepal_length\"] #setosaの散布図\n",
    "Y = df_setosa.loc[:,\"petal_width\"]\n",
    "plt.scatter(X,Y )\n",
    "\n",
    "X = df_versicolor.loc[:,\"sepal_length\"] #versicolorの散布図\n",
    "Y = df_versicolor.loc[:,\"petal_width\"]\n",
    "plt.scatter(X,Y )\n",
    "\n",
    "X = df_virginica.loc[:,\"sepal_length\"] #virginicaの散布図\n",
    "Y = df_virginica.loc[:,\"petal_width\"]\n",
    "plt.scatter(X,Y )\n",
    "\n",
    "\n",
    "#print(\"・sepal_width（がく片の幅）　×　petal_length（花弁の長さ）\")\n",
    "\n",
    "X = df_setosa.loc[:,\"sepal_width\"] #setosaの散布図\n",
    "Y = df_setosa.loc[:,\"petal_length\"]\n",
    "plt.scatter(X,Y )\n",
    "\n",
    "X = df_versicolor.loc[:,\"sepal_width\"] #versicolorの散布図\n",
    "Y = df_versicolor.loc[:,\"petal_length\"]\n",
    "plt.scatter(X,Y )\n",
    "\n",
    "X = df_virginica.loc[:,\"sepal_width\"] #virginicaの散布図\n",
    "Y = df_virginica.loc[:,\"petal_length\"]\n",
    "plt.scatter(X,Y )\n",
    "\n",
    "\n",
    "#print(\"・sepal_width（がく片の幅）　×　petal_width（花弁の幅）\")\n",
    "\n",
    "X = df_setosa.loc[:,\"sepal_width\"] #setosaの散布図\n",
    "Y = df_setosa.loc[:,\"petal_width\"]\n",
    "plt.scatter(X,Y )\n",
    "\n",
    "X = df_versicolor.loc[:,\"sepal_width\"] #versicolorの散布図\n",
    "Y = df_versicolor.loc[:,\"petal_width\"]\n",
    "plt.scatter(X,Y )\n",
    "\n",
    "X = df_virginica.loc[:,\"sepal_width\"] #virginicaの散布図\n",
    "Y = df_virginica.loc[:,\"petal_width\"]\n",
    "plt.scatter(X,Y )\n",
    "\n",
    "\n",
    "#print(\"・petal_length（花弁の長さ）　×　petal_width（花弁の幅）\")\n",
    "\n",
    "X = df_setosa.loc[:,\"petal_length\"] #setosaの散布図\n",
    "Y = df_setosa.loc[:,\"petal_width\"]\n",
    "plt.scatter(X,Y )\n",
    "\n",
    "X = df_versicolor.loc[:,\"petal_length\"] #versicolorの散布図\n",
    "Y = df_versicolor.loc[:,\"petal_width\"]\n",
    "plt.scatter(X,Y )\n",
    "\n",
    "X = df_virginica.loc[:,\"petal_length\"] #virginicaの散布図\n",
    "Y = df_virginica.loc[:,\"petal_width\"]\n",
    "plt.scatter(X,Y )\n",
    "\n",
    "plt.show()\n",
    "print(\"\\n\")\n",
    "\n",
    "#------------------------------------------------\n",
    "\n",
    "print(\"●４つの特徴量に関する相関係数行列を作る。\\n\")\n",
    "\n",
    "corr_df = df.corr()\n",
    "print(\"The correlation DataFrame is:\")\n",
    "print(corr_df, \"\\n\")\n",
    "\n",
    "#------------------------------------------------\n",
    "\n",
    "print(\"●相関係数行列のヒートマップを作る(１つ)\")\n",
    "sns.heatmap(corr_df)\n",
    "# plt.xlabel(\"feature values\")\n",
    "# plt.ylabel(\"feature values\")\n",
    "# plt.title(\"heatmap\")\n",
    "# plt.pcolor(corr_df)\n",
    "# plt.show()\n",
    "\n",
    "#, index=['a', 'b', 'c', 'd', 'e'], columns=['A', 'B', 'C', 'D', 'E']\n",
    "\n"
   ]
  },
  {
   "cell_type": "markdown",
   "metadata": {},
   "source": [
    "#### 【問題8】可視化したグラフや表の結果の説明"
   ]
  },
  {
   "cell_type": "markdown",
   "metadata": {},
   "source": [
    "sepal_length（がく片の長さ）　×　sepal_width（がく片の幅）はばらつきが多かったが、\n",
    "\n",
    "sepal_length（がく片の長さ）　×　petal_length（花弁の長さ）と\n",
    "sepal_length（がく片の長さ）　×　petal_width（花弁の幅）\n",
    "sepal_width（がく片の幅）　×　petal_length（花弁の長さ）\n",
    "sepal_width（がく片の幅）　×　petal_width（花弁の幅）\n",
    "petal_length（花弁の長さ）　×　petal_width（花弁の幅）\n",
    "\n",
    "はデータがまとまっていた。\n",
    "\n",
    "相関係数のヒートマップを見るとsepal_widthはとにかくNGだが、sepal_lengthが相関が高かった。"
   ]
  }
 ],
 "metadata": {
  "kernelspec": {
   "display_name": "Python 3",
   "language": "python",
   "name": "python3"
  },
  "language_info": {
   "codemirror_mode": {
    "name": "ipython",
    "version": 3
   },
   "file_extension": ".py",
   "mimetype": "text/x-python",
   "name": "python",
   "nbconvert_exporter": "python",
   "pygments_lexer": "ipython3",
   "version": "3.8.5"
  }
 },
 "nbformat": 4,
 "nbformat_minor": 4
}
