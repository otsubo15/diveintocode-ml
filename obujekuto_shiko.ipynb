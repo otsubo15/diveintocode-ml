{
 "cells": [
  {
   "cell_type": "markdown",
   "metadata": {},
   "source": [
    "# オブジェクト指向の活用"
   ]
  },
  {
   "cell_type": "markdown",
   "metadata": {},
   "source": [
    "### 【前準備】"
   ]
  },
  {
   "cell_type": "markdown",
   "metadata": {},
   "source": [
    "### 【問題1】これまで利用してきたクラスの列挙"
   ]
  },
  {
   "cell_type": "markdown",
   "metadata": {},
   "source": [
    "・Pandas\n",
    "\n",
    "df = heacet_all.describe()\n",
    "\n",
    "・matplotlib\n",
    "\n",
    "graf = plt.plot()\n",
    "\n",
    "・scikit-learn\n",
    "\n",
    "label = neigh.predict()"
   ]
  },
  {
   "cell_type": "markdown",
   "metadata": {},
   "source": [
    "### 【問題2】これまで利用してきたメソッドやインスタンス変数の列挙"
   ]
  },
  {
   "cell_type": "markdown",
   "metadata": {},
   "source": [
    "・メソッド\n",
    "\n",
    "pd.read_csv()\n",
    "np.array()\n",
    "np.fix()\n",
    "np.ones()\n",
    "np.zeros()\n",
    "np.full()\n",
    "\n",
    "・インスタンス"
   ]
  },
  {
   "cell_type": "markdown",
   "metadata": {},
   "source": [
    "### 【問題3】標準化クラスをスクラッチで作成"
   ]
  },
  {
   "cell_type": "code",
   "execution_count": 28,
   "metadata": {},
   "outputs": [],
   "source": [
    "class ScratchStandardScaler(): #()は親クラスを継承する目的で、なくてもよい\n",
    "    \"\"\"\n",
    "    標準化のためのクラス\n",
    "    Attributes\n",
    "    ----------\n",
    "    mean_ : 次の形のndarray, shape(n_features,)\n",
    "        平均\n",
    "    var_ : 次の形のndarray, shape(n_features,)\n",
    "        分散\n",
    "    \"\"\"\n",
    "    def __init__(self):   # コンストラクタ(初期化メソッド)\n",
    "        self.mean_ = []   #平均値が入る\n",
    "        self.var_ = []   #分散が入る\n",
    "\n",
    "    def fit(self, X):\n",
    "        \"\"\"\n",
    "        標準化のために平均と標準偏差を計算する。\n",
    "        Parameters\n",
    "        ----------\n",
    "        X : 次の形のndarray, shape (n_samples, n_features)\n",
    "            訓練データ\n",
    "        \"\"\"\n",
    "        n = len(X[:,0])\n",
    "        for i in range(X.shape[1]):\n",
    "            mean_i = X[:,i].mean()\n",
    "            self.mean_.append(mean_i)\n",
    "\n",
    "\n",
    "        for k in range(X.shape[1]):\n",
    "            ver_k = (np.sum((X[:,k]-self.mean_[k])**2)) / n\n",
    "            self.var_.append(ver_k)\n",
    "            pass\n",
    "            return var_nd\n",
    "\n",
    "\n",
    "    def transform(self, X):\n",
    "        \"\"\"\n",
    "        fitで求めた値を使い標準化を行う。\n",
    "        Parameters\n",
    "        ----------\n",
    "        X : 次の形のndarray, shape (n_samples, n_features)\n",
    "            特徴量\n",
    "        Returns\n",
    "        ----------\n",
    "        X_scaled : 次の形のndarray, shape (n_samples, n_features)\n",
    "            標準化された特緒量\n",
    "\n",
    "        \"\"\"\n",
    "        μ = np.sqrt(var_nd)\n",
    "        X_scaled = (X-mean_nd)/μ\n",
    "\n",
    "        pass\n",
    "        return X_scaled\n",
    "    \n",
    "# #-----------理解を助ける（i=0の場合）-------------\n",
    "# n = len(X[:,0])\n",
    "# print(n) #10\n",
    "# print(X[0,0]) #5.1\n",
    "# print(mean_nd[0]) #4.859999999999999\n",
    "# print(X[:,0]-mean_nd[0]) #[ 0.24  0.04 -0.16 -0.26  0.14  0.54 -0.26  0.14 -0.46  0.04]　引き算だけどリストで出力\n",
    "# print((X[:,0]-mean_nd[0])**2) #[0.0576 0.0016 0.0256 0.0676 0.0196 0.2916 0.0676 0.0196 0.2116 0.0016]\n",
    "# print((np.sum((X[:,0]-mean_nd[0])**2))/n)\n",
    "# print(X.shape[1]) #4\n",
    "\n",
    "# #-----------作成過程のメモ-------------\n",
    "# import numpy as np\n",
    "# import math\n",
    "# from sklearn.datasets import load_iris\n",
    "# data = load_iris()\n",
    "# X = data.data[:10]\n",
    "# display(X)\n",
    "\n",
    "# print(\"------def fit(self, X):-------\") \n",
    "# mean_nd = []\n",
    "# n = len(X[:,0])\n",
    "# for i in range(X.shape[1]):\n",
    "#     mean_i = X[:,i].mean()\n",
    "#     mean_nd.append(mean_i)\n",
    "    \n",
    "# print(mean_nd)\n",
    "\n",
    "# print(\"------transform(self, X)-------\") \n",
    "# var_nd = []\n",
    "# for k in range(X.shape[1]):\n",
    "#     ver_k = (np.sum((X[:,k]-mean_nd[k])**2))/n\n",
    "#     var_nd.append(ver_k)\n",
    "# print(var_nd)\n",
    "# print(\"------検証中1---------\") \n",
    "# #np.sqrt(a)でaの平方根を取る\n",
    "# μ = np.sqrt(var_nd)\n",
    "# print(μ)\n",
    "# print(\"------検証中2---------\") \n",
    "# print((X-mean_nd)/μ)\n",
    "\n"
   ]
  },
  {
   "cell_type": "code",
   "execution_count": 27,
   "metadata": {},
   "outputs": [
    {
     "name": "stdout",
     "output_type": "stream",
     "text": [
      "平均 : [4.859999999999999, 3.31, 1.45, 0.22000000000000003]\n",
      "分散 : [0.07640000000000002]\n",
      "[[ 0.86828953  0.65207831 -0.48795004 -0.26726124]\n",
      " [ 0.14471492 -1.06391725 -0.48795004 -0.26726124]\n",
      " [-0.57885968 -0.37751902 -1.46385011 -0.26726124]\n",
      " [-0.94064699 -0.72071813  0.48795004 -0.26726124]\n",
      " [ 0.50650222  0.99527742 -0.48795004 -0.26726124]\n",
      " [ 1.95365143  2.02487476  2.43975018  2.40535118]\n",
      " [-0.94064699  0.3088792  -0.48795004  1.06904497]\n",
      " [ 0.50650222  0.3088792   0.48795004 -0.26726124]\n",
      " [-1.66422159 -1.40711636 -0.48795004 -0.26726124]\n",
      " [ 0.14471492 -0.72071813  0.48795004 -1.60356745]]\n"
     ]
    }
   ],
   "source": [
    "import numpy as np\n",
    "from sklearn.datasets import load_iris\n",
    "data = load_iris()\n",
    "X = data.data[:10]\n",
    "scratch_scaler = ScratchStandardScaler()\n",
    "scratch_scaler.fit(X)\n",
    "print(\"平均 : {}\".format(scratch_scaler.mean_))\n",
    "print(\"分散 : {}\".format(scratch_scaler.var_))\n",
    "X_std = scratch_scaler.transform(X)\n",
    "print(X_std)"
   ]
  },
  {
   "cell_type": "markdown",
   "metadata": {},
   "source": [
    "### 【問題4】 四則演算を行うクラスの作成"
   ]
  },
  {
   "cell_type": "code",
   "execution_count": 57,
   "metadata": {},
   "outputs": [
    {
     "name": "stdout",
     "output_type": "stream",
     "text": [
      "<class '__main__.ExampleClass'>\n",
      "Error!\n"
     ]
    }
   ],
   "source": [
    "class ExampleClass():\n",
    "    \"\"\"\n",
    "    説明用の簡単なクラス\n",
    "    Parameters\n",
    "    ----------\n",
    "    value : float or int\n",
    "        初期値\n",
    "    Attributes\n",
    "    ----------\n",
    "    value : float or int\n",
    "        計算結果\n",
    "    \"\"\"\n",
    "    def __init__(self, value): #コンストラクタ(コンストラクタはreturnしちゃだめ)\n",
    "        self.value = value\n",
    "        \n",
    "        #if type(self.value) != int and type(self.value) != float:\n",
    "        #if not (type(value) in (int, float)):\n",
    "        if type(value) in (int, float):\n",
    "            \n",
    "            print(\"初期値{}が設定されました\".format(self.value))\n",
    "            \n",
    "        else:\n",
    "            self.value = None\n",
    "            \n",
    "    def add(self, value2):\n",
    "        \"\"\"\n",
    "        受け取った引数をself.valueに加える\n",
    "        \"\"\"\n",
    "        self.value += value2\n",
    "    \n",
    "    def sub(self, value2):\n",
    "        \"\"\"\n",
    "        受け取った引数をself.valueから引く\n",
    "        \"\"\"\n",
    "        self.value -= value2\n",
    "        \n",
    "    def mul(self, value2):\n",
    "        \"\"\"\n",
    "        受け取った引数をself.valueに掛ける\n",
    "        \"\"\"\n",
    "        self.value *= value2\n",
    "        \n",
    "    def div(self, value2):\n",
    "        \"\"\"\n",
    "        受け取った引数でself.valueを割る\n",
    "        \"\"\"\n",
    "        self.value /= value2\n",
    "        \n",
    "example = ExampleClass(X_std)\n",
    "print(type(example))\n",
    "if example.value is None:\n",
    "    print('Error!')\n",
    "    \n",
    "else:\n",
    "    print(\"value : {}\".format(example.value))\n",
    "    example.mul(3)\n",
    "    print(\"value : {}\".format(example.value))"
   ]
  },
  {
   "cell_type": "code",
   "execution_count": null,
   "metadata": {},
   "outputs": [],
   "source": []
  },
  {
   "cell_type": "code",
   "execution_count": null,
   "metadata": {},
   "outputs": [],
   "source": []
  }
 ],
 "metadata": {
  "kernelspec": {
   "display_name": "Python 3",
   "language": "python",
   "name": "python3"
  },
  "language_info": {
   "codemirror_mode": {
    "name": "ipython",
    "version": 3
   },
   "file_extension": ".py",
   "mimetype": "text/x-python",
   "name": "python",
   "nbconvert_exporter": "python",
   "pygments_lexer": "ipython3",
   "version": "3.8.5"
  }
 },
 "nbformat": 4,
 "nbformat_minor": 4
}
