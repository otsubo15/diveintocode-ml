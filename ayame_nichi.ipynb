{
 "cells": [
  {
   "cell_type": "markdown",
   "metadata": {},
   "source": [
    "# アヤメの二値分類"
   ]
  },
  {
   "cell_type": "markdown",
   "metadata": {},
   "source": [
    "### 【前準備】"
   ]
  },
  {
   "cell_type": "code",
   "execution_count": 1,
   "metadata": {},
   "outputs": [
    {
     "name": "stdout",
     "output_type": "stream",
     "text": [
      "     sepal_length  sepal_width  petal_length  petal_width\n",
      "0             5.1          3.5           1.4          0.2\n",
      "1             4.9          3.0           1.4          0.2\n",
      "2             4.7          3.2           1.3          0.2\n",
      "3             4.6          3.1           1.5          0.2\n",
      "4             5.0          3.6           1.4          0.2\n",
      "..            ...          ...           ...          ...\n",
      "145           6.7          3.0           5.2          2.3\n",
      "146           6.3          2.5           5.0          1.9\n",
      "147           6.5          3.0           5.2          2.0\n",
      "148           6.2          3.4           5.4          2.3\n",
      "149           5.9          3.0           5.1          1.8\n",
      "\n",
      "[150 rows x 4 columns]\n",
      "     Species\n",
      "0          0\n",
      "1          0\n",
      "2          0\n",
      "3          0\n",
      "4          0\n",
      "..       ...\n",
      "145        2\n",
      "146        2\n",
      "147        2\n",
      "148        2\n",
      "149        2\n",
      "\n",
      "[150 rows x 1 columns]\n"
     ]
    }
   ],
   "source": [
    "#----インポート----\n",
    "import numpy as np\n",
    "import pandas as pd\n",
    "import matplotlib\n",
    "import matplotlib.pyplot as plt\n",
    "%matplotlib inline\n",
    "import warnings\n",
    "warnings.filterwarnings('ignore')\n",
    "from sklearn.datasets import load_iris\n",
    "from sklearn.model_selection import train_test_split\n",
    "from sklearn.svm import LinearSVC\n",
    "from sklearn.preprocessing import StandardScaler#標準化のライブラリ\n",
    "\n",
    "#アヤメインスタンスを生成\n",
    "heacet = load_iris()\n",
    "\n",
    "#DataFrame型変数（X,y）に格納\n",
    "X = pd.DataFrame(heacet.data, columns=[\"sepal_length\",\"sepal_width\",\"petal_length\",\"petal_width\"])\n",
    "y = pd.DataFrame(heacet.target, columns=[\"Species\"])\n",
    "print(X)\n",
    "print(y)\n",
    "\n",
    "\n",
    "#setosa:0・virgicolor:1・virginica:2・sepal_length・petal_length\n"
   ]
  },
  {
   "cell_type": "markdown",
   "metadata": {},
   "source": [
    "### 【課題1】練習のために特徴量とカテゴリを選択"
   ]
  },
  {
   "cell_type": "code",
   "execution_count": 2,
   "metadata": {},
   "outputs": [
    {
     "name": "stdout",
     "output_type": "stream",
     "text": [
      "     sepal_length  sepal_width  petal_length  petal_width  Species\n",
      "0             5.1          3.5           1.4          0.2        0\n",
      "1             4.9          3.0           1.4          0.2        0\n",
      "2             4.7          3.2           1.3          0.2        0\n",
      "3             4.6          3.1           1.5          0.2        0\n",
      "4             5.0          3.6           1.4          0.2        0\n",
      "..            ...          ...           ...          ...      ...\n",
      "145           6.7          3.0           5.2          2.3        2\n",
      "146           6.3          2.5           5.0          1.9        2\n",
      "147           6.5          3.0           5.2          2.0        2\n",
      "148           6.2          3.4           5.4          2.3        2\n",
      "149           5.9          3.0           5.1          1.8        2\n",
      "\n",
      "[150 rows x 5 columns]\n"
     ]
    }
   ],
   "source": [
    "#DataFrame型変数dfを作成（X,yを結合）\n",
    "df = pd.concat([X,y], axis=1)\n",
    "print(df)"
   ]
  },
  {
   "cell_type": "code",
   "execution_count": 3,
   "metadata": {},
   "outputs": [
    {
     "name": "stdout",
     "output_type": "stream",
     "text": [
      "----virgicolorのsepal_length----\n",
      "50    7.0\n",
      "51    6.4\n",
      "52    6.9\n",
      "53    5.5\n",
      "54    6.5\n",
      "55    5.7\n",
      "56    6.3\n",
      "57    4.9\n",
      "58    6.6\n",
      "59    5.2\n",
      "60    5.0\n",
      "61    5.9\n",
      "62    6.0\n",
      "63    6.1\n",
      "64    5.6\n",
      "65    6.7\n",
      "66    5.6\n",
      "67    5.8\n",
      "68    6.2\n",
      "69    5.6\n",
      "70    5.9\n",
      "71    6.1\n",
      "72    6.3\n",
      "73    6.1\n",
      "74    6.4\n",
      "75    6.6\n",
      "76    6.8\n",
      "77    6.7\n",
      "78    6.0\n",
      "79    5.7\n",
      "80    5.5\n",
      "81    5.5\n",
      "82    5.8\n",
      "83    6.0\n",
      "84    5.4\n",
      "85    6.0\n",
      "86    6.7\n",
      "87    6.3\n",
      "88    5.6\n",
      "89    5.5\n",
      "90    5.5\n",
      "91    6.1\n",
      "92    5.8\n",
      "93    5.0\n",
      "94    5.6\n",
      "95    5.7\n",
      "96    5.7\n",
      "97    6.2\n",
      "98    5.1\n",
      "99    5.7\n",
      "Name: sepal_length, dtype: float64\n",
      "\n",
      "\n",
      "----virgicolorのpetal_length----\n",
      "50    4.7\n",
      "51    4.5\n",
      "52    4.9\n",
      "53    4.0\n",
      "54    4.6\n",
      "55    4.5\n",
      "56    4.7\n",
      "57    3.3\n",
      "58    4.6\n",
      "59    3.9\n",
      "60    3.5\n",
      "61    4.2\n",
      "62    4.0\n",
      "63    4.7\n",
      "64    3.6\n",
      "65    4.4\n",
      "66    4.5\n",
      "67    4.1\n",
      "68    4.5\n",
      "69    3.9\n",
      "70    4.8\n",
      "71    4.0\n",
      "72    4.9\n",
      "73    4.7\n",
      "74    4.3\n",
      "75    4.4\n",
      "76    4.8\n",
      "77    5.0\n",
      "78    4.5\n",
      "79    3.5\n",
      "80    3.8\n",
      "81    3.7\n",
      "82    3.9\n",
      "83    5.1\n",
      "84    4.5\n",
      "85    4.5\n",
      "86    4.7\n",
      "87    4.4\n",
      "88    4.1\n",
      "89    4.0\n",
      "90    4.4\n",
      "91    4.6\n",
      "92    4.0\n",
      "93    3.3\n",
      "94    4.2\n",
      "95    4.2\n",
      "96    4.2\n",
      "97    4.3\n",
      "98    3.0\n",
      "99    4.1\n",
      "Name: petal_length, dtype: float64\n",
      "\n",
      "\n",
      "----virginicaのsepal_length----\n",
      "100    6.3\n",
      "101    5.8\n",
      "102    7.1\n",
      "103    6.3\n",
      "104    6.5\n",
      "105    7.6\n",
      "106    4.9\n",
      "107    7.3\n",
      "108    6.7\n",
      "109    7.2\n",
      "110    6.5\n",
      "111    6.4\n",
      "112    6.8\n",
      "113    5.7\n",
      "114    5.8\n",
      "115    6.4\n",
      "116    6.5\n",
      "117    7.7\n",
      "118    7.7\n",
      "119    6.0\n",
      "120    6.9\n",
      "121    5.6\n",
      "122    7.7\n",
      "123    6.3\n",
      "124    6.7\n",
      "125    7.2\n",
      "126    6.2\n",
      "127    6.1\n",
      "128    6.4\n",
      "129    7.2\n",
      "130    7.4\n",
      "131    7.9\n",
      "132    6.4\n",
      "133    6.3\n",
      "134    6.1\n",
      "135    7.7\n",
      "136    6.3\n",
      "137    6.4\n",
      "138    6.0\n",
      "139    6.9\n",
      "140    6.7\n",
      "141    6.9\n",
      "142    5.8\n",
      "143    6.8\n",
      "144    6.7\n",
      "145    6.7\n",
      "146    6.3\n",
      "147    6.5\n",
      "148    6.2\n",
      "149    5.9\n",
      "Name: sepal_length, dtype: float64\n",
      "\n",
      "\n",
      "----virginicaのpetal_length----\n",
      "100    6.0\n",
      "101    5.1\n",
      "102    5.9\n",
      "103    5.6\n",
      "104    5.8\n",
      "105    6.6\n",
      "106    4.5\n",
      "107    6.3\n",
      "108    5.8\n",
      "109    6.1\n",
      "110    5.1\n",
      "111    5.3\n",
      "112    5.5\n",
      "113    5.0\n",
      "114    5.1\n",
      "115    5.3\n",
      "116    5.5\n",
      "117    6.7\n",
      "118    6.9\n",
      "119    5.0\n",
      "120    5.7\n",
      "121    4.9\n",
      "122    6.7\n",
      "123    4.9\n",
      "124    5.7\n",
      "125    6.0\n",
      "126    4.8\n",
      "127    4.9\n",
      "128    5.6\n",
      "129    5.8\n",
      "130    6.1\n",
      "131    6.4\n",
      "132    5.6\n",
      "133    5.1\n",
      "134    5.6\n",
      "135    6.1\n",
      "136    5.6\n",
      "137    5.5\n",
      "138    4.8\n",
      "139    5.4\n",
      "140    5.6\n",
      "141    5.1\n",
      "142    5.1\n",
      "143    5.9\n",
      "144    5.7\n",
      "145    5.2\n",
      "146    5.0\n",
      "147    5.2\n",
      "148    5.4\n",
      "149    5.1\n",
      "Name: petal_length, dtype: float64\n",
      "\n",
      "\n"
     ]
    }
   ],
   "source": [
    "#------------↓------------\n",
    "\n",
    "#.locメソッドを使い、Setosaをスライス\n",
    "df_setosa = df.loc[(df['Species'] == 0)] \n",
    "\n",
    "#.locメソッドを使い、virgicolorをスライス\n",
    "df_virgicolor = df.loc[(df['Species'] == 1)]\n",
    "\n",
    "#.locメソッドを使い、virginicaをスライス\n",
    "df_virginica = df.loc[(df['Species'] == 2)]\n",
    "\n",
    "#------------↑------------\n",
    "\n",
    "#.virgicolorのsepal_lengthをスライス\n",
    "print(\"----virgicolorのsepal_length----\")\n",
    "df_virgicolor_sepal_length = df_virgicolor.loc[:,\"sepal_length\"]\n",
    "print(df_virgicolor_sepal_length)#virgicolorのsepal_lengthのデータフレーム\n",
    "print(\"\\n\")\n",
    "\n",
    "#.virgicolorのpetal_lengthをスライス\n",
    "print(\"----virgicolorのpetal_length----\")\n",
    "df_virgicolor_petal_length = df_virgicolor.loc[:,\"petal_length\"]\n",
    "print(df_virgicolor_petal_length)#virgicolorのpetal_lengthのデータフレーム\n",
    "print(\"\\n\")\n",
    "\n",
    "#.virginicaのsepal_lengthをスライス\n",
    "print(\"----virginicaのsepal_length----\")\n",
    "df_virginica_sepal_length =  df_virginica.loc[:,\"sepal_length\"]\n",
    "print(df_virginica_sepal_length)#virginicaのsepal_lengthのデータフレーム\n",
    "print(\"\\n\")\n",
    "\n",
    "# df_virginica_petal_length = \n",
    "print(\"----virginicaのpetal_length----\")\n",
    "df_virginica_petal_length = df_virginica.loc[:,\"petal_length\"]\n",
    "print(df_virginica_petal_length)#virginicaのpetal_lengthのデータフレーム\n",
    "print(\"\\n\")\n",
    "\n"
   ]
  },
  {
   "cell_type": "markdown",
   "metadata": {},
   "source": [
    "### 【問題2】データの分析"
   ]
  },
  {
   "cell_type": "code",
   "execution_count": 4,
   "metadata": {},
   "outputs": [
    {
     "name": "stdout",
     "output_type": "stream",
     "text": [
      "・sepal_length（がく片の長さ）　×　petal_length（花弁の長さ）\n"
     ]
    },
    {
     "data": {
      "image/png": "[encoded data removed]",
      "text/plain": [
       "<Figure size 432x288 with 1 Axes>"
      ]
     },
     "metadata": {
      "needs_background": "light"
     },
     "output_type": "display_data"
    },
    {
     "name": "stdout",
     "output_type": "stream",
     "text": [
      "・Iris-virgicolorのsepal_lengthにおける箱ひげ図\n"
     ]
    },
    {
     "data": {
      "image/png": "[encoded data removed]",
      "text/plain": [
       "<Figure size 432x288 with 1 Axes>"
      ]
     },
     "metadata": {
      "needs_background": "light"
     },
     "output_type": "display_data"
    },
    {
     "data": {
      "image/png": "[encoded data removed]",
      "text/plain": [
       "<Figure size 432x288 with 1 Axes>"
      ]
     },
     "metadata": {
      "needs_background": "light"
     },
     "output_type": "display_data"
    },
    {
     "name": "stdout",
     "output_type": "stream",
     "text": [
      "・Iris-virgicolorのpetal_lengthにおける箱ひげ図\n"
     ]
    },
    {
     "data": {
      "image/png": "[encoded data removed]",
      "text/plain": [
       "<Figure size 432x288 with 1 Axes>"
      ]
     },
     "metadata": {
      "needs_background": "light"
     },
     "output_type": "display_data"
    },
    {
     "data": {
      "image/png": "[encoded data removed]",
      "text/plain": [
       "<Figure size 432x288 with 1 Axes>"
      ]
     },
     "metadata": {
      "needs_background": "light"
     },
     "output_type": "display_data"
    },
    {
     "name": "stdout",
     "output_type": "stream",
     "text": [
      "・Iris-virginicaのsepal_lengthにおける箱ひげ図\n"
     ]
    },
    {
     "data": {
      "image/png": "[encoded data removed]",
      "text/plain": [
       "<Figure size 432x288 with 1 Axes>"
      ]
     },
     "metadata": {
      "needs_background": "light"
     },
     "output_type": "display_data"
    },
    {
     "name": "stdout",
     "output_type": "stream",
     "text": [
      "・Iris-virginicaのsepal_lengthにおけるバイオリン図\n"
     ]
    },
    {
     "data": {
      "image/png": "[encoded data removed]",
      "text/plain": [
       "<Figure size 432x288 with 1 Axes>"
      ]
     },
     "metadata": {
      "needs_background": "light"
     },
     "output_type": "display_data"
    },
    {
     "name": "stdout",
     "output_type": "stream",
     "text": [
      "・Iris-virginicaのpetal_lengthにおける箱ひげ図\n"
     ]
    },
    {
     "data": {
      "image/png": "[encoded data removed]",
      "text/plain": [
       "<Figure size 432x288 with 1 Axes>"
      ]
     },
     "metadata": {
      "needs_background": "light"
     },
     "output_type": "display_data"
    },
    {
     "name": "stdout",
     "output_type": "stream",
     "text": [
      "・Iris-virginicaのpetal_lengthにおけるバイオリン図\n"
     ]
    },
    {
     "data": {
      "image/png": "[encoded data removed]",
      "text/plain": [
       "<Figure size 432x288 with 1 Axes>"
      ]
     },
     "metadata": {
      "needs_background": "light"
     },
     "output_type": "display_data"
    }
   ],
   "source": [
    "#------------↓------------\n",
    "\n",
    "#print(\"●４つの特徴量から２つ選ぶようなすべての組み合わせ（６つ）の散布図を種類ごとに色分けして作る。\\n\")\n",
    "\n",
    "#【sepal_lengthの３種類のアヤメのデータ】\n",
    "# setosa_sepal_length　    df_setosa.loc[:,\"sepal_length\"]\n",
    "# virgicolor_sepal_length　df_virgicolor.loc[:,\"sepal_length\"]\n",
    "# virgiclor_sepal_length　 df_virginica.loc[:,\"sepal_length\"]\n",
    "\n",
    "#【sepal_widthの３種類のアヤメのデータ】\n",
    "# setosa_sepal_width　     df_setosa.loc[:,\"sepal_width\"]\n",
    "# virgicolor_sepal_width　 df_virgicolor.loc[:,\"sepal_width\"]\n",
    "# virgiclor_sepal_width　  df_virginica.loc[:,\"sepal_width\"]\n",
    "\n",
    "#【petal_lengthの３種類のアヤメのデータ】\n",
    "# setosa_petal_length　    df_setosa.loc[:,\"petal_length\"]\n",
    "# virgicolor__petal_length df_virgicolor.loc[:,\"petal_length\"]\n",
    "# virgiclor_petal_length　 df_virginica.loc[:,\"petal_length\"]\n",
    "\n",
    "#【petal_widthの３種類のアヤメのデータ】\n",
    "# setosa_petal_width　     df_setosa.loc[:,\"petal_width\"]\n",
    "# virgicolor__petal_width  df_virgicolor.loc[:,\"petal_width\"]\n",
    "# virgiclor_petal_width　  df_virginica.loc[:,\"petal_width\"]\n",
    "\n",
    "\n",
    "#-------------組み合わせ別の散布図表示６パターン-----------\n",
    "\n",
    "# ・sepal_length（がく片の長さ）　×　sepal_width（がく片の幅）\n",
    "# ・sepal_length（がく片の長さ）　×　petal_length（花弁の長さ）☆彡今回はこの組み合わせ☆彡\n",
    "# ・sepal_length（がく片の長さ）　×　petal_width（花弁の幅）\n",
    "# ・sepal_width（がく片の幅）　×　petal_length（花弁の長さ）\n",
    "# ・sepal_width（がく片の幅）　×　petal_width（花弁の幅）\n",
    "# ・petal_length（花弁の長さ）　×　petal_width（花弁の幅）\n",
    "\n",
    "#-------------特徴量４種類×目的変数３種類の全組み合わせ１８パターン-----------\n",
    "\n",
    "#------------↓------------\n",
    "# print(\"・sepal_length（がく片の長さ）　×　sepal_width（がく片の幅）\")\n",
    "\n",
    "# X = df_setosa.loc[:,\"sepal_length\"] #setosaのsepal_length（がく片の長さ）をＸ軸に\n",
    "# Y = df_setosa.loc[:,\"sepal_width\"]  #setosaのsepal_width（がく片の幅）をＹ軸に\n",
    "# plt.scatter(X,Y )                   #setosaのsepal_length（がく片の長さ）　×　sepal_width（がく片の幅）散布図\n",
    "\n",
    "# X = df_virgicolor.loc[:,\"sepal_length\"] #virgicolorのsepal_length（がく片の長さ）をＸ軸に\n",
    "# Y = df_virgicolor.loc[:,\"sepal_width\"]  #virgicolorのsepal_width（がく片の幅）をＹ軸に\n",
    "# plt.scatter(X,Y )                       #virgicolorのsepal_length（がく片の長さ）　×　sepal_width（がく片の幅）散布図\n",
    "\n",
    "# X = df_virginica.loc[:,\"sepal_length\"] #virginicaのsepal_length（がく片の長さ）をＸ軸に\n",
    "# Y = df_virginica.loc[:,\"sepal_width\"]  #virginicaのsepal_width（がく片の幅）をＹ軸に\n",
    "# plt.scatter(X,Y )                      #virginicaのsepal_length（がく片の長さ）　×　sepal_width（がく片の幅）散布図\n",
    "\n",
    "# plt.show()\n",
    "#------------↑------------\n",
    "\n",
    "#------------↓------------★☆★☆今回はこの２パターンを使う為ここ以外はコメントアウトしている★☆★☆\n",
    "print(\"・sepal_length（がく片の長さ）　×　petal_length（花弁の長さ）\")\n",
    "# X = df_setosa.loc[:,\"sepal_length\"]  #setosaのsepal_length（がく片の長さ）をＸ軸に\n",
    "# Y = df_setosa.loc[:,\"petal_length\"]  #setosaのpetal_length（花弁の長さ）をＹ軸に\n",
    "# plt.scatter(X,Y )                    #setosaのsepal_length（がく片の長さ）　×　petal_length（花弁の長さ）\n",
    "\n",
    "X = df_virgicolor.loc[:,\"sepal_length\"] #virgicolorのsepal_length（がく片の長さ）をＸ軸に\n",
    "Y = df_virgicolor.loc[:,\"petal_length\"] #virgicolorのpetal_length（花弁の長さ）をＹ軸に\n",
    "plt.scatter(X,Y )                       #virgicolorのsepal_length（がく片の長さ）　×　sepal_width（がく片の幅）散布図\n",
    "\n",
    "X = df_virginica.loc[:,\"sepal_length\"]  #virginicaのsepal_length（がく片の長さ）をＸ軸に\n",
    "Y = df_virginica.loc[:,\"petal_length\"]  #virginicaのpetal_length（花弁の長さ）をＹ軸に\n",
    "plt.scatter(X,Y )                       #virginicaのsepal_length（がく片の長さ）　×　sepal_width（がく片の幅）散布図\n",
    "\n",
    "plt.show()\n",
    "#------------↑------------\n",
    "\n",
    "#------------↓------------\n",
    "# print(\"・sepal_length（がく片の長さ）　×　petal_width（花弁の幅）\")\n",
    "\n",
    "# X = df_setosa.loc[:,\"sepal_length\"] #setosaのsepal_length（がく片の長さ）をＸ軸に\n",
    "# Y = df_setosa.loc[:,\"petal_width\"]  #setosaのpetal_width（花弁の幅）をＹ軸に\n",
    "# plt.scatter(X,Y )                   #setosaのsepal_length（がく片の長さ）　×　petal_width（花弁の幅）散布図\n",
    "\n",
    "# X = df_virgicolor.loc[:,\"sepal_length\"] #virgicolorのsepal_length（がく片の長さ）をＸ軸に\n",
    "# Y = df_virgicolor.loc[:,\"petal_width\"]  #virgicolorのpetal_width（花弁の幅）をＹ軸に\n",
    "# plt.scatter(X,Y )                       #virgicolorのsepal_length（がく片の長さ）　×　petal_width（花弁の幅）散布図\n",
    "\n",
    "# X = df_virginica.loc[:,\"sepal_length\"] #virginicaのsepal_length（がく片の長さ）をＸ軸に\n",
    "# Y = df_virginica.loc[:,\"petal_width\"]  #virginicaのpetal_width（花弁の幅）をＹ軸に\n",
    "# plt.scatter(X,Y )                      #virginicaのsepal_length（がく片の長さ）　×　petal_width（花弁の幅）散布図\n",
    "\n",
    "# plt.show()\n",
    "#------------↑------------\n",
    "\n",
    "#------------↓------------\n",
    "# print(\"・sepal_width（がく片の幅）　×　petal_length（花弁の長さ）\")\n",
    "\n",
    "# X = df_setosa.loc[:,\"sepal_width\"]  #setosaのsepal_width（がく片の幅）をＸ軸に\n",
    "# Y = df_setosa.loc[:,\"petal_length\"] #setosaのpetal_length（花弁の長さ）をＹ軸に\n",
    "# plt.scatter(X,Y )                   #setosaのsepal_width（がく片の幅）　×　petal_length（花弁の長さ）散布図\n",
    "\n",
    "# X = df_virgicolor.loc[:,\"sepal_width\"] #virgicolorのsepal_width（がく片の幅）をＸ軸に\n",
    "# Y = df_virgicolor.loc[:,\"petal_length\"]#virgicolorのpetal_length（花弁の長さ）をＹ軸に\n",
    "# plt.scatter(X,Y )                      #virgicolorのsepal_width（がく片の幅）　×　petal_length（花弁の長さ）散布図\n",
    "\n",
    "# X = df_virginica.loc[:,\"sepal_width\"]  #virginicaのsepal_width（がく片の幅）をＸ軸に\n",
    "# Y = df_virginica.loc[:,\"petal_length\"] #virginicaのpetal_length（花弁の長さ）をＹ軸に\n",
    "# plt.scatter(X,Y )                      #virginicaのsepal_width（がく片の幅）　×　petal_length（花弁の長さ）散布図\n",
    "\n",
    "# plt.show()\n",
    "#------------↑------------\n",
    "\n",
    "#------------↓------------\n",
    "# print(\"・sepal_width（がく片の幅）　×　petal_width（花弁の幅）\")\n",
    "\n",
    "# X = df_setosa.loc[:,\"sepal_width\"] #setosaのsepal_width（がく片の幅）をＸ軸に\n",
    "# Y = df_setosa.loc[:,\"petal_width\"] #setosaのpetal_width（花弁の幅）をＹ軸に\n",
    "# plt.scatter(X,Y )                  #setosaのsepal_width（がく片の幅）　×　petal_width（花弁の幅）散布図\n",
    "\n",
    "# X = df_virgicolor.loc[:,\"sepal_width\"]  #virgicolorのsepal_width（がく片の幅）をＸ軸に\n",
    "# Y = df_virgicolor.loc[:,\"petal_width\"]  #virgicolorのpetal_width（花弁の幅）をＹ軸に\n",
    "# plt.scatter(X,Y )                       #virgicolorのsepal_width（がく片の幅）　×　petal_width（花弁の幅）散布図\n",
    "\n",
    "# X = df_virginica.loc[:,\"sepal_width\"]  #virginicaのsepal_width（がく片の幅）をＸ軸に\n",
    "# Y = df_virginica.loc[:,\"petal_width\"]  #virginicaのpetal_width（花弁の幅）をＹ軸に\n",
    "# plt.scatter(X,Y )                      #virginicaのsepal_width（がく片の幅）　×　petal_width（花弁の幅）散布図\n",
    "\n",
    "# plt.show()\n",
    "#------------↑------------\n",
    "\n",
    "#------------↓------------\n",
    "# print(\"・petal_length（花弁の長さ）　×　petal_width（花弁の幅）\")\n",
    "\n",
    "# X = df_setosa.loc[:,\"petal_length\"] #setosaのpetal_length（花弁の長さ）をＸ軸に\n",
    "# Y = df_setosa.loc[:,\"petal_width\"]  #setosaのpetal_width（花弁の幅）をＹ軸に\n",
    "# plt.scatter(X,Y )                   #setosaのpetal_length（花弁の長さ）　×　petal_width（花弁の幅）散布図\n",
    "\n",
    "# X = df_virgicolor.loc[:,\"petal_length\"] #virgicolorのpetal_length（花弁の長さ）をＸ軸に\n",
    "# Y = df_virgicolor.loc[:,\"petal_width\"]  #virgicolorのpetal_width（花弁の幅）をＹ軸に\n",
    "# plt.scatter(X,Y )                       #virgicolorのpetal_length（花弁の長さ）　×　petal_width（花弁の幅）散布図\n",
    "\n",
    "# X = df_virginica.loc[:,\"petal_length\"] #virginicaのpetal_length（花弁の長さ）をＸ軸に\n",
    "# Y = df_virginica.loc[:,\"petal_width\"]  #virginicaのpetal_width（花弁の幅）をＹ軸に\n",
    "# plt.scatter(X,Y )                      #virginicaのpetal_length（花弁の長さ）　×　petal_width（花弁の幅）散布図\n",
    "\n",
    "# plt.show()\n",
    "#------------↑------------\n",
    "\n",
    "\n",
    "#-------------箱ひげ図（boxplot）-----------\n",
    "\n",
    "#------------↓①------------\n",
    "\n",
    "print(\"・Iris-virgicolorのsepal_lengthにおける箱ひげ図\")\n",
    "df_virgicolor_sepal_length = df_virgicolor.loc[:,\"sepal_length\"] #　virgicolor　の　sepal_length　におけるデータフレーム\n",
    "\n",
    "# 箱ひげ図\n",
    "fig, ax = plt.subplots()\n",
    "\n",
    "bp = ax.boxplot(df_virgicolor_sepal_length)\n",
    "ax.set_xticklabels([\"df_virgicolor_sepal_length\"])\n",
    "\n",
    "plt.title('sepal_length of virgicolor')\n",
    "plt.show()\n",
    "\n",
    "# バイオリン図\n",
    "\n",
    "plt.violinplot(df_virgicolor_sepal_length, showmedians=True)\n",
    "plt.title('sepal_length of virgicolor')\n",
    "plt.show()\n",
    "\n",
    "#------------↑①------------\n",
    "\n",
    "#------------↓②------------\n",
    "\n",
    "print(\"・Iris-virgicolorのpetal_lengthにおける箱ひげ図\")\n",
    "df_virgicolor_petal_length = df_virgicolor.loc[:,\"petal_length\"] #　virgicolor　の　petal_length　におけるデータフレーム\n",
    "\n",
    "# 箱ひげ図\n",
    "fig, ax = plt.subplots()\n",
    "\n",
    "bp = ax.boxplot(df_virgicolor_petal_length)\n",
    "ax.set_xticklabels([\"df_virgicolor_petal_length\"])\n",
    "\n",
    "plt.title('petal_length of virgicolor')\n",
    "plt.show()\n",
    "\n",
    "# バイオリン図\n",
    "\n",
    "plt.violinplot(df_virgicolor_petal_length, showmedians=True)\n",
    "plt.title('petal_length of virgicolor')\n",
    "plt.show()\n",
    "\n",
    "#------------↑②------------\n",
    "\n",
    "#------------↓③------------\n",
    "\n",
    "print(\"・Iris-virginicaのsepal_lengthにおける箱ひげ図\")\n",
    "df_virginica_sepal_length = df_virginica.loc[:,\"sepal_length\"] #　virginica　の　sepal_length　におけるデータフレーム\n",
    "\n",
    "# 箱ひげ図\n",
    "fig, ax = plt.subplots()\n",
    "\n",
    "bp = ax.boxplot(df_virginica_sepal_length)\n",
    "ax.set_xticklabels([\"df_virginica_sepal_length\"])\n",
    "\n",
    "plt.title('sepal_length of virginica')\n",
    "plt.show()\n",
    "\n",
    "# バイオリン図\n",
    "\n",
    "print(\"・Iris-virginicaのsepal_lengthにおけるバイオリン図\")\n",
    "plt.violinplot(df_virginica_sepal_length, showmedians=True)\n",
    "plt.title('sepal_length of virginica')\n",
    "plt.show()\n",
    "\n",
    "#------------↑③------------\n",
    "\n",
    "\n",
    "#------------↓④------------\n",
    "\n",
    "print(\"・Iris-virginicaのpetal_lengthにおける箱ひげ図\")\n",
    "df_virginica_petal_length = df_virginica.loc[:,\"petal_length\"] #　virginica　の　petal_length　におけるデータフレーム\n",
    "\n",
    "# 箱ひげ図\n",
    "fig, ax = plt.subplots()\n",
    "\n",
    "bp = ax.boxplot(df_virginica_petal_length)\n",
    "ax.set_xticklabels([\"df_virginica_petal_length\"])\n",
    "\n",
    "plt.title('petal_length of virginica')\n",
    "plt.show()\n",
    "\n",
    "# バイオリン図\n",
    "\n",
    "print(\"・Iris-virginicaのpetal_lengthにおけるバイオリン図\")\n",
    "plt.violinplot(df_virginica_petal_length, showmedians=True)\n",
    "plt.title('petal_length of virginica')\n",
    "plt.show()\n",
    "\n",
    "#------------↑④------------\n",
    "\n"
   ]
  },
  {
   "cell_type": "markdown",
   "metadata": {},
   "source": [
    "### 【問題3】前処理・訓練データと検証データの分割"
   ]
  },
  {
   "cell_type": "code",
   "execution_count": 5,
   "metadata": {},
   "outputs": [
    {
     "data": {
      "text/plain": [
       "[     sepal_length  petal_length  Species\n",
       " 115           6.4           5.3        2\n",
       " 140           6.7           5.6        2\n",
       " 106           4.9           4.5        2\n",
       " 47            4.6           1.4        0\n",
       " 132           6.4           5.6        2\n",
       " ..            ...           ...      ...\n",
       " 42            4.4           1.3        0\n",
       " 122           7.7           6.7        2\n",
       " 144           6.7           5.7        2\n",
       " 30            4.8           1.6        0\n",
       " 4             5.0           1.4        0\n",
       " \n",
       " [112 rows x 3 columns],\n",
       "      sepal_length  petal_length  Species\n",
       " 91            6.1           4.6        1\n",
       " 99            5.7           4.1        1\n",
       " 131           7.9           6.4        2\n",
       " 59            5.2           3.9        1\n",
       " 126           6.2           4.8        2\n",
       " 125           7.2           6.0        2\n",
       " 5             5.4           1.7        0\n",
       " 134           6.1           5.6        2\n",
       " 85            6.0           4.5        1\n",
       " 141           6.9           5.1        2\n",
       " 49            5.0           1.4        0\n",
       " 35            5.0           1.2        0\n",
       " 63            6.1           4.7        1\n",
       " 67            5.8           4.1        1\n",
       " 116           6.5           5.5        2\n",
       " 84            5.4           4.5        1\n",
       " 12            4.8           1.4        0\n",
       " 110           6.5           5.1        2\n",
       " 14            5.8           1.2        0\n",
       " 66            5.6           4.5        1\n",
       " 93            5.0           3.3        1\n",
       " 97            6.2           4.3        1\n",
       " 75            6.6           4.4        1\n",
       " 70            5.9           4.8        1\n",
       " 54            6.5           4.6        1\n",
       " 145           6.7           5.2        2\n",
       " 38            4.4           1.3        0\n",
       " 92            5.8           4.0        1\n",
       " 148           6.2           5.4        2\n",
       " 119           6.0           5.0        2\n",
       " 57            4.9           3.3        1\n",
       " 17            5.1           1.4        0\n",
       " 137           6.4           5.5        2\n",
       " 45            4.8           1.4        0\n",
       " 135           7.7           6.1        2\n",
       " 104           6.5           5.8        2\n",
       " 19            5.1           1.5        0\n",
       " 21            5.1           1.5        0,\n",
       "      Species\n",
       " 115        2\n",
       " 140        2\n",
       " 106        2\n",
       " 47         0\n",
       " 132        2\n",
       " ..       ...\n",
       " 42         0\n",
       " 122        2\n",
       " 144        2\n",
       " 30         0\n",
       " 4          0\n",
       " \n",
       " [112 rows x 1 columns],\n",
       "      Species\n",
       " 91         1\n",
       " 99         1\n",
       " 131        2\n",
       " 59         1\n",
       " 126        2\n",
       " 125        2\n",
       " 5          0\n",
       " 134        2\n",
       " 85         1\n",
       " 141        2\n",
       " 49         0\n",
       " 35         0\n",
       " 63         1\n",
       " 67         1\n",
       " 116        2\n",
       " 84         1\n",
       " 12         0\n",
       " 110        2\n",
       " 14         0\n",
       " 66         1\n",
       " 93         1\n",
       " 97         1\n",
       " 75         1\n",
       " 70         1\n",
       " 54         1\n",
       " 145        2\n",
       " 38         0\n",
       " 92         1\n",
       " 148        2\n",
       " 119        2\n",
       " 57         1\n",
       " 17         0\n",
       " 137        2\n",
       " 45         0\n",
       " 135        2\n",
       " 104        2\n",
       " 19         0\n",
       " 21         0]"
      ]
     },
     "execution_count": 5,
     "metadata": {},
     "output_type": "execute_result"
    }
   ],
   "source": [
    "\n",
    "#sepal_lengthとpetal_lengthとSpeciesのみスライスしたDF\n",
    "X = df.loc[: , ['sepal_length','petal_length','Species']]\n",
    "\n",
    "#sepal_lengthとSpeciesからvirgicolorだけスライス\n",
    "X_virgicolor = X.loc[(df['Species'] == 1)]\n",
    "#print(X_virgicolor)\n",
    "\n",
    "#sepal_lengthとSpeciesからvirginicaだけスライス\n",
    "X_virginica = X.loc[(df['Species'] == 2)]\n",
    "#print(X_virginica)\n",
    "\n",
    "#sepal_lengthとpetal_lengthとvirgicolorとirginicaを集めたデータフレーム\n",
    "X_Progress = pd.concat([X_virgicolor,X_virginica], axis=0)\n",
    "#print(X_Progress)\n",
    "\n",
    "#分割するためX（sepal_lengthとpetal_length）とy（Species）のデータに分ける\n",
    "X_data = X_Progress.loc[: , ['sepal_length','petal_length']]\n",
    "y_data = X_Progress.loc[: , ['Species']]\n",
    "\n",
    "#訓練データと検証データに分割\n",
    "X_train, X_test, y_train, y_test = train_test_split(X_data, y_data, test_size=0.33, random_state=42)\n",
    "train_test_split(X, y, shuffle=True)\n",
    "\n",
    "# print(X_train)\n",
    "# print(X_test)\n",
    "# print(y_train)\n",
    "# print(y_test)\n"
   ]
  },
  {
   "cell_type": "markdown",
   "metadata": {},
   "source": [
    "### 【問題4】前処理・標準化"
   ]
  },
  {
   "cell_type": "code",
   "execution_count": 6,
   "metadata": {
    "scrolled": false
   },
   "outputs": [
    {
     "name": "stdout",
     "output_type": "stream",
     "text": [
      "<class 'numpy.ndarray'>\n",
      "<class 'numpy.ndarray'>\n"
     ]
    }
   ],
   "source": [
    "#------------↓X訓練用データの標準化------------\n",
    "\n",
    "scaler = StandardScaler()      #☆★これは何を表してるのか謎☆★\n",
    "scaler.fit(X_train)                  #☆★これは何を表してるのか謎☆★\n",
    "X_train_transform = scaler.fit_transform(X_train)  #☆★これは何を表してるのか謎☆★\n",
    "\n",
    "#データのタイプを確認\n",
    "#print(type(X_train_transform))\n",
    "#------------↑------------\n",
    "\n",
    "\n",
    "#------------↓X検証用データの標準化------------\n",
    "# #.reshapeメソッドで次元のndarrayを２次元にした\n",
    "# X_test_reshape# = X_test.reshape(-1, 1) #１次元のndarrayを[-1，1]の配列にした（scaler.transformは１次元のndarrayでは使えない。）\n",
    "\n",
    "scaler = StandardScaler()      #☆★これは何を表してるのか謎☆★\n",
    "scaler.fit(X_test)                  #☆★これは何を表してるのか謎☆★\n",
    "X_test_transform = scaler.fit_transform(X_test)  #☆★これは何を表してるのか謎☆★\n",
    "\n",
    "#データのタイプを確認\n",
    "#print(type(X_test_transform))\n",
    "#------------↑------------\n"
   ]
  },
  {
   "cell_type": "markdown",
   "metadata": {},
   "source": [
    "### 【問題5】学習と推定\n",
    "最近傍法（k-nearest neighbors, k-nn）で学習を行う\n"
   ]
  },
  {
   "cell_type": "code",
   "execution_count": 7,
   "metadata": {
    "scrolled": true
   },
   "outputs": [
    {
     "name": "stdout",
     "output_type": "stream",
     "text": [
      "[2 2 2 1 1 1 2 2 1 1 1 1 2 2 2 1 1 2 1 1 2 1 1 1 2 1 1 2 1 2 1 1 2]\n"
     ]
    }
   ],
   "source": [
    "from sklearn.neighbors import KNeighborsClassifier\n",
    "\n",
    "#パラメータn_neighborsを決めたneighを定義する\n",
    "neigh = KNeighborsClassifier(n_neighbors=3) \n",
    "\n",
    "#.fitメソッドでトレーニングデータセットからk最近傍分類器を適合させる。\n",
    "neigh.fit(X_train_transform, y_train)\n",
    "\n",
    "#検証データ(X_test_transform)を引数としてクラスラベル予測データを出力\n",
    "y_test_pred = neigh.predict(X_test_transform) #neigh.predict(特徴量ndarray)で予測データを作成\n",
    "print(y_test_pred)\n",
    "\n",
    "#テストデータXの確率推定値を返す。\n",
    "#print(neigh.predict_proba(X_test_transform))"
   ]
  },
  {
   "cell_type": "markdown",
   "metadata": {},
   "source": [
    "### 【問題6】評価\n",
    "Accuracy（正解率）、Precision（適合率）、Recall（再現率）、F値 を確認する"
   ]
  },
  {
   "cell_type": "code",
   "execution_count": 8,
   "metadata": {},
   "outputs": [
    {
     "name": "stdout",
     "output_type": "stream",
     "text": [
      "・最近傍法のAccuracy（正解率）について\n",
      "29\n"
     ]
    }
   ],
   "source": [
    "print(\"・最近傍法のAccuracy（正解率）について\")\n",
    "\n",
    "from sklearn.metrics import accuracy_score\n",
    "\n",
    "#------------↓データの詳細------------\n",
    "# X_train_transform　X訓練用データの標準化\n",
    "# y_train　訓練用データの目的変数\n",
    "\n",
    "# X_test_transform　X検証用データの標準化\n",
    "# y_test　検証用データの正解目的変数データ\n",
    "\n",
    "# y_test_pred　検証用データの目的変数の予測データ\n",
    "#------------↑------------\n",
    "\n",
    "\n",
    "#accuracy_scoreで正解率を出力\n",
    "accuracy_score(y_test, y_test_pred) #accuracy_score(正解のデータ, 予測したデータ)で正解率を出す\n",
    "\n",
    "print(accuracy_score(y_test, y_test_pred, normalize=False))#正解率を出力\n",
    "\n"
   ]
  },
  {
   "cell_type": "code",
   "execution_count": 9,
   "metadata": {},
   "outputs": [
    {
     "name": "stdout",
     "output_type": "stream",
     "text": [
      "・最近傍法のPrecision（適合率）について\n",
      "0.8759398496240601\n",
      "0.8787878787878788\n",
      "0.8787878787878788\n",
      "[0.89473684 0.85714286]\n"
     ]
    },
    {
     "data": {
      "text/plain": [
       "array([0.89473684, 0.85714286])"
      ]
     },
     "execution_count": 9,
     "metadata": {},
     "output_type": "execute_result"
    }
   ],
   "source": [
    "from sklearn.metrics import precision_score\n",
    "\n",
    "print(\"・最近傍法のPrecision（適合率）について\")\n",
    "\n",
    "#パラメータ'macro'の適合率\n",
    "print(precision_score(y_test, y_test_pred, average='macro'))\n",
    "\n",
    "#パラメータ'micro'の適合率\n",
    "print(precision_score(y_test, y_test_pred, average='micro'))\n",
    "\n",
    "#パラメータ'weighted'の適合率\n",
    "print(precision_score(y_test, y_test_pred, average='weighted'))\n",
    "\n",
    "#パラメータNoneの適合率\n",
    "print(precision_score(y_test, y_test_pred, average=None))\n",
    "\n",
    "#ゼロ除算がある場合に返す値を設定する\n",
    "precision_score(y_test, y_test_pred, average=None, zero_division=1) #★☆★☆ゼロ除算って何"
   ]
  },
  {
   "cell_type": "code",
   "execution_count": 10,
   "metadata": {},
   "outputs": [
    {
     "name": "stdout",
     "output_type": "stream",
     "text": [
      "・最近傍法のRecall（再現率）について\n",
      "0.8759398496240601\n",
      "0.8787878787878788\n",
      "0.8787878787878788\n",
      "[0.89473684 0.85714286]\n",
      "[0.89473684 0.85714286]\n",
      "[0.89473684 0.85714286]\n"
     ]
    }
   ],
   "source": [
    "from sklearn.metrics import recall_score\n",
    "\n",
    "print(\"・最近傍法のRecall（再現率）について\")\n",
    "\n",
    "#パラメータ'macro'の適合率\n",
    "print(recall_score(y_test, y_test_pred, average='macro'))\n",
    "\n",
    "#パラメータ'micro'の適合率\n",
    "print(recall_score(y_test, y_test_pred, average='micro'))\n",
    "\n",
    "#パラメータ'weighted'の適合率\n",
    "print(recall_score(y_test, y_test_pred, average='weighted'))\n",
    "\n",
    "#パラメータNoneの適合率\n",
    "print(recall_score(y_test, y_test_pred, average=None))\n",
    "\n",
    "#パラメータNoneの適合率\n",
    "print(recall_score(y_test, y_test_pred, average=None))\n",
    "\n",
    "#ゼロ除算がある場合に返す値を設定する\n",
    "print(recall_score(y_test, y_test_pred, average=None, zero_division=1)) #★☆★☆ゼロ除算って何\n"
   ]
  },
  {
   "cell_type": "code",
   "execution_count": 11,
   "metadata": {},
   "outputs": [
    {
     "name": "stdout",
     "output_type": "stream",
     "text": [
      "・最近傍法のF値について\n",
      "0.8759398496240601\n",
      "0.8787878787878788\n",
      "0.8787878787878788\n",
      "[0.89473684 0.85714286]\n"
     ]
    }
   ],
   "source": [
    "from sklearn.metrics import f1_score\n",
    "\n",
    "print(\"・最近傍法のF値について\")\n",
    "\n",
    "#パラメータ'macro'の適合率\n",
    "print(f1_score(y_test, y_test_pred, average='macro'))\n",
    "\n",
    "#パラメータ'micro'の適合率\n",
    "print(f1_score(y_test, y_test_pred, average='micro'))\n",
    "\n",
    "#パラメータ'weighted'の適合率\n",
    "print(f1_score(y_test, y_test_pred, average='weighted'))\n",
    "\n",
    "#パラメータNoneの適合率\n",
    "print(f1_score(y_test, y_test_pred, average=None))\n",
    "\n",
    "#ゼロ除算がある場合に返す値を設定する\n",
    "#f1_score(y_test, y_test_pred, zero_division=1) #★☆★☆なぜF値はゼロ除算できないのか"
   ]
  },
  {
   "cell_type": "code",
   "execution_count": 12,
   "metadata": {},
   "outputs": [
    {
     "name": "stdout",
     "output_type": "stream",
     "text": [
      "・最近傍法の混同行列（confusion matrix）について\n"
     ]
    },
    {
     "data": {
      "text/plain": [
       "array([[17,  2],\n",
       "       [ 2, 12]], dtype=int64)"
      ]
     },
     "execution_count": 12,
     "metadata": {},
     "output_type": "execute_result"
    }
   ],
   "source": [
    "from sklearn.metrics import confusion_matrix\n",
    "\n",
    "print(\"・最近傍法の混同行列（confusion matrix）について\")\n",
    "\n",
    "#混合行列を作成\n",
    "confusion_matrix(y_test, y_test_pred)#confusion_matrix(配列１, 配列２)\n"
   ]
  },
  {
   "cell_type": "markdown",
   "metadata": {},
   "source": [
    "#### ・4種類の指標値の意味について簡単に調査して文章でまとめる\n",
    "\n",
    "Accuracy（正解率）：正解率とは、全ての予測のうち、正解した予測の割合\n",
    "\n",
    "Precision（適合率）：適合率とは、システムが出した結果において、本当に正しかったものの割合。\n",
    "\n",
    "Recall（再現率）：実際に正であるもののうち，正であると予測されたものの割合。\n",
    "\n",
    "F値：適合率と再現率の調和平均\n"
   ]
  },
  {
   "cell_type": "markdown",
   "metadata": {},
   "source": [
    "### 【問題7】可視化"
   ]
  },
  {
   "cell_type": "code",
   "execution_count": 13,
   "metadata": {},
   "outputs": [
    {
     "name": "stdout",
     "output_type": "stream",
     "text": [
      "(67, 2)\n"
     ]
    }
   ],
   "source": [
    "print(X_train_transform.shape)"
   ]
  },
  {
   "cell_type": "code",
   "execution_count": 14,
   "metadata": {},
   "outputs": [
    {
     "data": {
      "image/png": "[encoded data removed]",
      "text/plain": [
       "<Figure size 432x288 with 1 Axes>"
      ]
     },
     "metadata": {
      "needs_background": "light"
     },
     "output_type": "display_data"
    }
   ],
   "source": [
    "import matplotlib.pyplot as plt\n",
    "from matplotlib.colors import ListedColormap\n",
    "import matplotlib.patches as mpatches\n",
    "def decision_region(X, y, model, step=0.01, title='decision region', xlabel='xlabel', ylabel='ylabel', target_names=['versicolor', 'virginica']):\n",
    "    \"\"\"\n",
    "    2値分類を2次元の特徴量で学習したモデルの決定領域を描く。\n",
    "    背景の色が学習したモデルによる推定値から描画される。\n",
    "    散布図の点は訓練データまたは検証データである。\n",
    "    Parameters\n",
    "    ----------------\n",
    "    X : ndarray, shape(n_samples, 2)\n",
    "        特徴量\n",
    "    y : ndarray, shape(n_samples,)\n",
    "        ラベル\n",
    "    model : object\n",
    "        学習したモデルのインスンタスを入れる\n",
    "    step : float, (default : 0.1)\n",
    "        推定値を計算する間隔を設定する\n",
    "    title : str\n",
    "        グラフのタイトルの文章を与える\n",
    "    xlabel, ylabel : str\n",
    "        軸ラベルの文章を与える\n",
    "    target_names= : list of str\n",
    "        凡例の一覧を与える\n",
    "    \"\"\"\n",
    "    # setting\n",
    "    scatter_color = ['red', 'blue']\n",
    "    contourf_color = ['pink', 'skyblue']\n",
    "    n_class = 2\n",
    "    # pred\n",
    "    mesh_f0, mesh_f1  = np.meshgrid(np.arange(np.min(X[:,0])-0.5, np.max(X[:,0])+0.5, step), np.arange(np.min(X[:,1])-0.5, np.max(X[:,1])+0.5, step))\n",
    "    mesh = np.c_[np.ravel(mesh_f0),np.ravel(mesh_f1)]\n",
    "    y_pred = model.predict(mesh).reshape(mesh_f0.shape)\n",
    "    # plot\n",
    "    plt.title(title)\n",
    "    plt.xlabel(xlabel)\n",
    "    plt.ylabel(ylabel)\n",
    "    plt.contourf(mesh_f0, mesh_f1, y_pred, n_class-1, cmap=ListedColormap(contourf_color))\n",
    "    plt.contour(mesh_f0, mesh_f1, y_pred, n_class-1, colors='y', linewidths=3, alpha=0.5)\n",
    "    for i, target in enumerate(set(y)):\n",
    "        plt.scatter(X[y==target][:, 0], X[y==target][:, 1], s=80, color=scatter_color[i], label=target_names[i], marker='o')\n",
    "    patches = [mpatches.Patch(color=scatter_color[i], label=target_names[i]) for i in range(n_class)]\n",
    "    plt.legend(handles=patches)\n",
    "    plt.legend()\n",
    "    plt.show()\n",
    "    \n",
    "#-------------------------\n",
    "\n",
    "X = X_train_transform\n",
    "y = y_train['Species']    \n",
    "\n",
    "decision_region(X, y, neigh, step=0.01, title='decision region', xlabel='xlabel', ylabel='ylabel', target_names=['versicolor', 'virginica'])\n"
   ]
  },
  {
   "cell_type": "markdown",
   "metadata": {},
   "source": [
    "### 【問題8】他の手法の学習"
   ]
  },
  {
   "cell_type": "code",
   "execution_count": 15,
   "metadata": {
    "scrolled": true
   },
   "outputs": [
    {
     "name": "stdout",
     "output_type": "stream",
     "text": [
      "・ロジスティック回帰\n",
      "[[1.81605216e-01 8.18394784e-01]\n",
      " [2.79472833e-02 9.72052717e-01]\n",
      " [2.73088860e-02 9.72691114e-01]\n",
      " [8.56679853e-01 1.43320147e-01]\n",
      " [8.48620832e-01 1.51379168e-01]\n",
      " [9.22520648e-01 7.74793517e-02]\n",
      " [3.34460881e-01 6.65539119e-01]\n",
      " [7.48808694e-03 9.92511913e-01]\n",
      " [9.85224303e-01 1.47756969e-02]\n",
      " [6.40714120e-01 3.59285880e-01]\n",
      " [7.07366553e-01 2.92633447e-01]\n",
      " [9.64240695e-01 3.57593046e-02]\n",
      " [3.34460881e-01 6.65539119e-01]\n",
      " [1.54728554e-01 8.45271446e-01]\n",
      " [3.58309160e-02 9.64169084e-01]\n",
      " [6.60693894e-01 3.39306106e-01]\n",
      " [4.14954674e-01 5.85045326e-01]\n",
      " [3.06529495e-01 6.93470505e-01]\n",
      " [9.42561771e-01 5.74382290e-02]\n",
      " [9.75949300e-01 2.40507003e-02]\n",
      " [1.11010625e-03 9.98889894e-01]\n",
      " [3.84181481e-01 6.15818519e-01]\n",
      " [5.10356434e-01 4.89643566e-01]\n",
      " [9.35207231e-01 6.47927690e-02]\n",
      " [2.15976495e-01 7.84023505e-01]\n",
      " [8.33707919e-01 1.66292081e-01]\n",
      " [6.98935508e-01 3.01064492e-01]\n",
      " [2.50341164e-01 7.49658836e-01]\n",
      " [9.36632419e-01 6.33675810e-02]\n",
      " [7.86802414e-04 9.99213198e-01]\n",
      " [8.71725333e-01 1.28274667e-01]\n",
      " [8.45542618e-01 1.54457382e-01]\n",
      " [9.06300852e-03 9.90936991e-01]]\n"
     ]
    }
   ],
   "source": [
    "print(\"・ロジスティック回帰\")\n",
    "\n",
    "from sklearn.linear_model import LogisticRegression\n",
    "\n",
    "#訓練用データのデータを用意\n",
    "X = X_train_transform\n",
    "y = y_train\n",
    "\n",
    "#ロジスティック回帰(LogisticRegression)メソッドで学習\n",
    "clf = LogisticRegression(random_state=0).fit(X, y) \n",
    "\n",
    "#検証データ(X_test_transform)を引数としてクラスラベル予測データを出力\n",
    "y_test_pred = clf.predict(X_test_transform)#clf.predict(特徴量ndarray)で予測データを作成\n",
    "#print(y_test_pred)\n",
    "\n",
    "#これがなんだかわかりませんでした\n",
    "clf.predict_proba(X_test_transform)#確率の見積もり。\n",
    "print(clf.predict_proba(X_test_transform))\n"
   ]
  },
  {
   "cell_type": "code",
   "execution_count": 16,
   "metadata": {},
   "outputs": [
    {
     "name": "stdout",
     "output_type": "stream",
     "text": [
      "・ロジスティック回帰のAccuracy（正解率）について\n",
      "31\n"
     ]
    }
   ],
   "source": [
    "print(\"・ロジスティック回帰のAccuracy（正解率）について\")\n",
    "\n",
    "from sklearn.metrics import accuracy_score\n",
    "\n",
    "#------------↓データの詳細------------\n",
    "# X_train_transform　X訓練用データの標準化\n",
    "# y_train　訓練用データの目的変数\n",
    "\n",
    "# X_test_transform　X検証用データの標準化\n",
    "# y_test　検証用データの正解目的変数データ\n",
    "\n",
    "# y_test_pred　検証用データの目的変数の予測データ\n",
    "#------------↑------------\n",
    "\n",
    "#accuracy_scoreで正解率を出力\n",
    "accuracy_score(y_test, y_test_pred) #accuracy_score(正解のデータ, 予測したデータ)で正解率を出す\n",
    "\n",
    "#正解率を出力\n",
    "print(accuracy_score(y_test, y_test_pred, normalize=False))\n"
   ]
  },
  {
   "cell_type": "code",
   "execution_count": 17,
   "metadata": {},
   "outputs": [
    {
     "name": "stdout",
     "output_type": "stream",
     "text": [
      "・ロジスティック回帰のPrecision（適合率）について\n",
      "0.9375\n",
      "0.9393939393939394\n",
      "0.946969696969697\n",
      "[1.    0.875]\n"
     ]
    },
    {
     "data": {
      "text/plain": [
       "array([1.   , 0.875])"
      ]
     },
     "execution_count": 17,
     "metadata": {},
     "output_type": "execute_result"
    }
   ],
   "source": [
    "from sklearn.metrics import precision_score\n",
    "\n",
    "print(\"・ロジスティック回帰のPrecision（適合率）について\")\n",
    "\n",
    "#パラメータ'macro'の適合率\n",
    "print(precision_score(y_test, y_test_pred, average='macro'))\n",
    "\n",
    "#パラメータ'micro'の適合率\n",
    "print(precision_score(y_test, y_test_pred, average='micro'))\n",
    "\n",
    "#パラメータ'weighted'の適合率\n",
    "print(precision_score(y_test, y_test_pred, average='weighted'))\n",
    "\n",
    "#パラメータNoneの適合率\n",
    "print(precision_score(y_test, y_test_pred, average=None))\n",
    "\n",
    "#ゼロ除算がある場合に返す値を設定する\n",
    "precision_score(y_test, y_test_pred, average=None, zero_division=1) #★☆★☆ゼロ除算って何"
   ]
  },
  {
   "cell_type": "code",
   "execution_count": 18,
   "metadata": {},
   "outputs": [
    {
     "name": "stdout",
     "output_type": "stream",
     "text": [
      "・ロジスティック回帰のRecall（再現率）について\n",
      "0.9473684210526316\n",
      "0.9393939393939394\n",
      "0.9393939393939394\n",
      "[0.89473684 1.        ]\n",
      "[0.89473684 1.        ]\n",
      "[0.89473684 1.        ]\n"
     ]
    }
   ],
   "source": [
    "from sklearn.metrics import recall_score\n",
    "\n",
    "print(\"・ロジスティック回帰のRecall（再現率）について\")\n",
    "\n",
    "#パラメータ'macro'の適合率\n",
    "print(recall_score(y_test, y_test_pred, average='macro'))\n",
    "\n",
    "#パラメータ'micro'の適合率\n",
    "print(recall_score(y_test, y_test_pred, average='micro'))\n",
    "\n",
    "#パラメータ'weighted'の適合率\n",
    "print(recall_score(y_test, y_test_pred, average='weighted'))\n",
    "\n",
    "#パラメータNoneの適合率\n",
    "print(recall_score(y_test, y_test_pred, average=None))\n",
    "\n",
    "#パラメータNoneの適合率\n",
    "print(recall_score(y_test, y_test_pred, average=None))\n",
    "\n",
    "#ゼロ除算がある場合に返す値を設定する\n",
    "print(recall_score(y_test, y_test_pred, average=None, zero_division=1)) #★☆★☆ゼロ除算って何"
   ]
  },
  {
   "cell_type": "code",
   "execution_count": 19,
   "metadata": {},
   "outputs": [
    {
     "name": "stdout",
     "output_type": "stream",
     "text": [
      "・ロジスティック回帰のF値について\n",
      "0.9388888888888889\n",
      "0.9393939393939394\n",
      "0.9397306397306396\n",
      "[0.94444444 0.93333333]\n"
     ]
    }
   ],
   "source": [
    "from sklearn.metrics import f1_score\n",
    "\n",
    "print(\"・ロジスティック回帰のF値について\")\n",
    "\n",
    "#パラメータ'macro'の適合率\n",
    "print(f1_score(y_test, y_test_pred, average='macro'))\n",
    "\n",
    "#パラメータ'micro'の適合率\n",
    "print(f1_score(y_test, y_test_pred, average='micro'))\n",
    "\n",
    "#パラメータ'weighted'の適合率\n",
    "print(f1_score(y_test, y_test_pred, average='weighted'))\n",
    "\n",
    "#パラメータNoneの適合率\n",
    "print(f1_score(y_test, y_test_pred, average=None))\n",
    "\n",
    "#ゼロ除算がある場合に返す値を設定する\n",
    "#f1_score(y_test, y_test_pred, zero_division=1) #★☆★☆なぜF値はゼロ除算できないのか"
   ]
  },
  {
   "cell_type": "code",
   "execution_count": 20,
   "metadata": {},
   "outputs": [
    {
     "name": "stdout",
     "output_type": "stream",
     "text": [
      "・ロジスティック回帰の混同行列（confusion matrix）について\n"
     ]
    },
    {
     "data": {
      "text/plain": [
       "array([[17,  2],\n",
       "       [ 0, 14]], dtype=int64)"
      ]
     },
     "execution_count": 20,
     "metadata": {},
     "output_type": "execute_result"
    }
   ],
   "source": [
    "from sklearn.metrics import confusion_matrix\n",
    "\n",
    "print(\"・ロジスティック回帰の混同行列（confusion matrix）について\")\n",
    "\n",
    "#混合行列を作成\n",
    "confusion_matrix(y_test, y_test_pred)#confusion_matrix(配列１, 配列２)"
   ]
  },
  {
   "cell_type": "code",
   "execution_count": 21,
   "metadata": {},
   "outputs": [
    {
     "name": "stdout",
     "output_type": "stream",
     "text": [
      "・ロジスティック回帰の決定領域の可視化について\n"
     ]
    },
    {
     "data": {
      "image/png": "[encoded data removed]",
      "text/plain": [
       "<Figure size 432x288 with 1 Axes>"
      ]
     },
     "metadata": {
      "needs_background": "light"
     },
     "output_type": "display_data"
    }
   ],
   "source": [
    "print(\"・ロジスティック回帰の決定領域の可視化について\")\n",
    "\n",
    "import matplotlib.pyplot as plt\n",
    "from matplotlib.colors import ListedColormap\n",
    "import matplotlib.patches as mpatches\n",
    "def decision_region(X, y, model, step=0.01, title='decision region', xlabel='xlabel', ylabel='ylabel', target_names=['versicolor', 'virginica']):\n",
    "    \"\"\"\n",
    "    2値分類を2次元の特徴量で学習したモデルの決定領域を描く。\n",
    "    背景の色が学習したモデルによる推定値から描画される。\n",
    "    散布図の点は訓練データまたは検証データである。\n",
    "    Parameters\n",
    "    ----------------\n",
    "    X : ndarray, shape(n_samples, 2)\n",
    "        特徴量\n",
    "    y : ndarray, shape(n_samples,)\n",
    "        ラベル\n",
    "    model : object\n",
    "        学習したモデルのインスンタスを入れる\n",
    "    step : float, (default : 0.1)\n",
    "        推定値を計算する間隔を設定する\n",
    "    title : str\n",
    "        グラフのタイトルの文章を与える\n",
    "    xlabel, ylabel : str\n",
    "        軸ラベルの文章を与える\n",
    "    target_names= : list of str\n",
    "        凡例の一覧を与える\n",
    "    \"\"\"\n",
    "    # setting\n",
    "    scatter_color = ['red', 'blue']\n",
    "    contourf_color = ['pink', 'skyblue']\n",
    "    n_class = 2\n",
    "    # pred\n",
    "    mesh_f0, mesh_f1  = np.meshgrid(np.arange(np.min(X[:,0])-0.5, np.max(X[:,0])+0.5, step), np.arange(np.min(X[:,1])-0.5, np.max(X[:,1])+0.5, step))\n",
    "    mesh = np.c_[np.ravel(mesh_f0),np.ravel(mesh_f1)]\n",
    "    y_pred = model.predict(mesh).reshape(mesh_f0.shape)\n",
    "    # plot\n",
    "    plt.title(title)\n",
    "    plt.xlabel(xlabel)\n",
    "    plt.ylabel(ylabel)\n",
    "    plt.contourf(mesh_f0, mesh_f1, y_pred, n_class-1, cmap=ListedColormap(contourf_color))\n",
    "    plt.contour(mesh_f0, mesh_f1, y_pred, n_class-1, colors='y', linewidths=3, alpha=0.5)\n",
    "    for i, target in enumerate(set(y)):\n",
    "        plt.scatter(X[y==target][:, 0], X[y==target][:, 1], s=80, color=scatter_color[i], label=target_names[i], marker='o')\n",
    "    patches = [mpatches.Patch(color=scatter_color[i], label=target_names[i]) for i in range(n_class)]\n",
    "    plt.legend(handles=patches)\n",
    "    plt.legend()\n",
    "    plt.show()\n",
    "    \n",
    "#-------------------------\n",
    "\n",
    "X = X_train_transform\n",
    "y = y_train['Species']    \n",
    "\n",
    "decision_region(X, y, clf, step=0.01, title='decision region', xlabel='xlabel', ylabel='ylabel', target_names=['versicolor', 'virginica'])\n",
    "    \n",
    "    \n",
    "    "
   ]
  },
  {
   "cell_type": "code",
   "execution_count": 22,
   "metadata": {},
   "outputs": [
    {
     "name": "stdout",
     "output_type": "stream",
     "text": [
      "・SVM\n",
      "[2 2 2 1 1 1 2 2 1 1 1 1 2 2 2 1 2 2 1 1 2 2 2 1 2 1 1 2 1 2 1 1 2]\n"
     ]
    }
   ],
   "source": [
    "from sklearn.pipeline import make_pipeline\n",
    "from sklearn.preprocessing import StandardScaler\n",
    "from sklearn.svm import SVC\n",
    "\n",
    "print(\"・SVM\")\n",
    "\n",
    "#訓練用データのデータを用意\n",
    "X = X_train_transform\n",
    "y = y_train\n",
    "\n",
    "#これは何を意味するのか\n",
    "clf = make_pipeline(StandardScaler(), SVC(gamma='auto'))\n",
    "\n",
    "#SVMメソッドで学習\n",
    "clf.fit(X, y)\n",
    "\n",
    "#検証データ(X_test_transform)を引数としてクラスラベル予測データを出力\n",
    "y_test_pred = clf.predict(X_test_transform)\n",
    "\n",
    "#クラスラベル予測データを出力\n",
    "print(y_test_pred)\n"
   ]
  },
  {
   "cell_type": "code",
   "execution_count": 23,
   "metadata": {},
   "outputs": [
    {
     "name": "stdout",
     "output_type": "stream",
     "text": [
      "・SVMのAccuracy（正解率）について\n",
      "30\n"
     ]
    }
   ],
   "source": [
    "print(\"・SVMのAccuracy（正解率）について\")\n",
    "\n",
    "from sklearn.metrics import accuracy_score\n",
    "\n",
    "#------------↓データの詳細------------\n",
    "# X_train_transform　X訓練用データの標準化\n",
    "# y_train　訓練用データの目的変数\n",
    "\n",
    "# X_test_transform　X検証用データの標準化\n",
    "# y_test　検証用データの正解目的変数データ\n",
    "\n",
    "# y_test_pred　検証用データの目的変数の予測データ\n",
    "#------------↑------------\n",
    "\n",
    "\n",
    "#accuracy_scoreで正解率を出力\n",
    "accuracy_score(y_test, y_test_pred) #accuracy_score(正解のデータ, 予測したデータ)で正解率を出す\n",
    "\n",
    "print(accuracy_score(y_test, y_test_pred, normalize=False))#正解率を出力"
   ]
  },
  {
   "cell_type": "code",
   "execution_count": 24,
   "metadata": {},
   "outputs": [
    {
     "name": "stdout",
     "output_type": "stream",
     "text": [
      "・SVMのPrecision（適合率）について\n",
      "0.9117647058823529\n",
      "0.9090909090909091\n",
      "0.9251336898395722\n",
      "[1.         0.82352941]\n"
     ]
    },
    {
     "data": {
      "text/plain": [
       "array([1.        , 0.82352941])"
      ]
     },
     "execution_count": 24,
     "metadata": {},
     "output_type": "execute_result"
    }
   ],
   "source": [
    "\n",
    "from sklearn.metrics import precision_score\n",
    "\n",
    "print(\"・SVMのPrecision（適合率）について\")\n",
    "\n",
    "#パラメータ'macro'の適合率\n",
    "print(precision_score(y_test, y_test_pred, average='macro'))\n",
    "\n",
    "#パラメータ'micro'の適合率\n",
    "print(precision_score(y_test, y_test_pred, average='micro'))\n",
    "\n",
    "#パラメータ'weighted'の適合率\n",
    "print(precision_score(y_test, y_test_pred, average='weighted'))\n",
    "\n",
    "#パラメータNoneの適合率\n",
    "print(precision_score(y_test, y_test_pred, average=None))\n",
    "\n",
    "#ゼロ除算がある場合に返す値を設定する\n",
    "precision_score(y_test, y_test_pred, average=None, zero_division=1) #★☆★☆ゼロ除算って何\n",
    "\n"
   ]
  },
  {
   "cell_type": "code",
   "execution_count": 25,
   "metadata": {},
   "outputs": [
    {
     "name": "stdout",
     "output_type": "stream",
     "text": [
      "・SVMのRecall（再現率）について\n",
      "0.9210526315789473\n",
      "0.9090909090909091\n",
      "0.9090909090909091\n",
      "[0.84210526 1.        ]\n",
      "[0.84210526 1.        ]\n",
      "[0.84210526 1.        ]\n"
     ]
    }
   ],
   "source": [
    "\n",
    "from sklearn.metrics import recall_score\n",
    "\n",
    "print(\"・SVMのRecall（再現率）について\")\n",
    "\n",
    "#パラメータ'macro'の適合率\n",
    "print(recall_score(y_test, y_test_pred, average='macro'))\n",
    "\n",
    "#パラメータ'micro'の適合率\n",
    "print(recall_score(y_test, y_test_pred, average='micro'))\n",
    "\n",
    "#パラメータ'weighted'の適合率\n",
    "print(recall_score(y_test, y_test_pred, average='weighted'))\n",
    "\n",
    "#パラメータNoneの適合率\n",
    "print(recall_score(y_test, y_test_pred, average=None))\n",
    "\n",
    "#パラメータNoneの適合率\n",
    "print(recall_score(y_test, y_test_pred, average=None))\n",
    "\n",
    "#ゼロ除算がある場合に返す値を設定する\n",
    "print(recall_score(y_test, y_test_pred, average=None, zero_division=1)) #★☆★☆ゼロ除算って何\n"
   ]
  },
  {
   "cell_type": "code",
   "execution_count": 26,
   "metadata": {},
   "outputs": [
    {
     "name": "stdout",
     "output_type": "stream",
     "text": [
      "・SVMのF値について\n",
      "0.9087557603686636\n",
      "0.9090909090909091\n",
      "0.9095936321742772\n",
      "[0.91428571 0.90322581]\n"
     ]
    }
   ],
   "source": [
    "\n",
    "from sklearn.metrics import f1_score\n",
    "\n",
    "print(\"・SVMのF値について\")\n",
    "\n",
    "#パラメータ'macro'の適合率\n",
    "print(f1_score(y_test, y_test_pred, average='macro'))\n",
    "\n",
    "#パラメータ'micro'の適合率\n",
    "print(f1_score(y_test, y_test_pred, average='micro'))\n",
    "\n",
    "#パラメータ'weighted'の適合率\n",
    "print(f1_score(y_test, y_test_pred, average='weighted'))\n",
    "\n",
    "#パラメータNoneの適合率\n",
    "print(f1_score(y_test, y_test_pred, average=None))\n",
    "\n",
    "#ゼロ除算がある場合に返す値を設定する\n",
    "#f1_score(y_test, y_test_pred, zero_division=1) #★☆★☆なぜF値はゼロ除算できないのか\n"
   ]
  },
  {
   "cell_type": "code",
   "execution_count": 27,
   "metadata": {},
   "outputs": [
    {
     "name": "stdout",
     "output_type": "stream",
     "text": [
      "・SVMの混同行列（confusion matrix）について\n"
     ]
    },
    {
     "data": {
      "text/plain": [
       "array([[16,  3],\n",
       "       [ 0, 14]], dtype=int64)"
      ]
     },
     "execution_count": 27,
     "metadata": {},
     "output_type": "execute_result"
    }
   ],
   "source": [
    "\n",
    "from sklearn.metrics import confusion_matrix\n",
    "\n",
    "print(\"・SVMの混同行列（confusion matrix）について\")\n",
    "\n",
    "#混合行列を作成\n",
    "confusion_matrix(y_test, y_test_pred)#confusion_matrix(配列１, 配列２)\n"
   ]
  },
  {
   "cell_type": "code",
   "execution_count": 28,
   "metadata": {},
   "outputs": [
    {
     "name": "stdout",
     "output_type": "stream",
     "text": [
      "・SVMの決定領域の可視化について\n"
     ]
    },
    {
     "data": {
      "image/png": "[encoded data removed]",
      "text/plain": [
       "<Figure size 432x288 with 1 Axes>"
      ]
     },
     "metadata": {
      "needs_background": "light"
     },
     "output_type": "display_data"
    }
   ],
   "source": [
    "print(\"・SVMの決定領域の可視化について\")\n",
    "\n",
    "import matplotlib.pyplot as plt\n",
    "from matplotlib.colors import ListedColormap\n",
    "import matplotlib.patches as mpatches\n",
    "def decision_region(X, y, model, step=0.01, title='decision region', xlabel='xlabel', ylabel='ylabel', target_names=['versicolor', 'virginica']):\n",
    "    \"\"\"\n",
    "    2値分類を2次元の特徴量で学習したモデルの決定領域を描く。\n",
    "    背景の色が学習したモデルによる推定値から描画される。\n",
    "    散布図の点は訓練データまたは検証データである。\n",
    "    Parameters\n",
    "    ----------------\n",
    "    X : ndarray, shape(n_samples, 2)\n",
    "        特徴量\n",
    "    y : ndarray, shape(n_samples,)\n",
    "        ラベル\n",
    "    model : object\n",
    "        学習したモデルのインスンタスを入れる\n",
    "    step : float, (default : 0.1)\n",
    "        推定値を計算する間隔を設定する\n",
    "    title : str\n",
    "        グラフのタイトルの文章を与える\n",
    "    xlabel, ylabel : str\n",
    "        軸ラベルの文章を与える\n",
    "    target_names= : list of str\n",
    "        凡例の一覧を与える\n",
    "    \"\"\"\n",
    "    # setting\n",
    "    scatter_color = ['red', 'blue']\n",
    "    contourf_color = ['pink', 'skyblue']\n",
    "    n_class = 2\n",
    "    # pred\n",
    "    mesh_f0, mesh_f1  = np.meshgrid(np.arange(np.min(X[:,0])-0.5, np.max(X[:,0])+0.5, step), np.arange(np.min(X[:,1])-0.5, np.max(X[:,1])+0.5, step))\n",
    "    mesh = np.c_[np.ravel(mesh_f0),np.ravel(mesh_f1)]\n",
    "    y_pred = model.predict(mesh).reshape(mesh_f0.shape)\n",
    "    # plot\n",
    "    plt.title(title)\n",
    "    plt.xlabel(xlabel)\n",
    "    plt.ylabel(ylabel)\n",
    "    plt.contourf(mesh_f0, mesh_f1, y_pred, n_class-1, cmap=ListedColormap(contourf_color))\n",
    "    plt.contour(mesh_f0, mesh_f1, y_pred, n_class-1, colors='y', linewidths=3, alpha=0.5)\n",
    "    for i, target in enumerate(set(y)):\n",
    "        plt.scatter(X[y==target][:, 0], X[y==target][:, 1], s=80, color=scatter_color[i], label=target_names[i], marker='o')\n",
    "    patches = [mpatches.Patch(color=scatter_color[i], label=target_names[i]) for i in range(n_class)]\n",
    "    plt.legend(handles=patches)\n",
    "    plt.legend()\n",
    "    plt.show()\n",
    "    \n",
    "#-------------------------\n",
    "\n",
    "X = X_train_transform\n",
    "y = y_train['Species']    \n",
    "\n",
    "decision_region(X, y, clf, step=0.01, title='decision region', xlabel='xlabel', ylabel='ylabel', target_names=['versicolor', 'virginica'])\n",
    "    \n",
    "    "
   ]
  },
  {
   "cell_type": "code",
   "execution_count": 29,
   "metadata": {},
   "outputs": [
    {
     "name": "stdout",
     "output_type": "stream",
     "text": [
      "・決定木\n",
      "[2 2 2 1 1 1 2 2 1 1 1 1 2 2 2 1 1 2 1 1 2 2 1 1 2 1 1 2 1 2 1 1 2]\n"
     ]
    }
   ],
   "source": [
    "from sklearn.model_selection import cross_val_score\n",
    "from sklearn.tree import DecisionTreeClassifier\n",
    "\n",
    "print(\"・決定木\")\n",
    "\n",
    "#訓練用データのデータを用意\n",
    "X = X_train_transform\n",
    "y = y_train\n",
    "\n",
    "#これがなんだかわかりませんでしたモジュールの呼び出し？\n",
    "clf = DecisionTreeClassifier(random_state=0)\n",
    "\n",
    "#決定木メソッドで学習\n",
    "clf = clf.fit(X, y)\n",
    "\n",
    "#検証データ(X_test_transform)を引数としてクラスラベル予測データを出力\n",
    "y_test_pred = clf.predict(X_test_transform)\n",
    "\n",
    "print(y_test_pred)"
   ]
  },
  {
   "cell_type": "code",
   "execution_count": 30,
   "metadata": {},
   "outputs": [
    {
     "name": "stdout",
     "output_type": "stream",
     "text": [
      "・決定木のAccuracy（正解率）について\n",
      "30\n"
     ]
    }
   ],
   "source": [
    "print(\"・決定木のAccuracy（正解率）について\")\n",
    "\n",
    "from sklearn.metrics import accuracy_score\n",
    "\n",
    "#------------↓データの詳細------------\n",
    "# X_train_transform　X訓練用データの標準化\n",
    "# y_train　訓練用データの目的変数\n",
    "\n",
    "# X_test_transform　X検証用データの標準化\n",
    "# y_test　検証用データの正解目的変数データ\n",
    "\n",
    "# y_test_pred　検証用データの目的変数の予測データ\n",
    "#------------↑------------\n",
    "\n",
    "\n",
    "#accuracy_scoreで正解率を出力\n",
    "accuracy_score(y_test, y_test_pred) #accuracy_score(正解のデータ, 予測したデータ)で正解率を出す\n",
    "\n",
    "print(accuracy_score(y_test, y_test_pred, normalize=False))#正解率を出力"
   ]
  },
  {
   "cell_type": "code",
   "execution_count": 31,
   "metadata": {},
   "outputs": [
    {
     "name": "stdout",
     "output_type": "stream",
     "text": [
      "・決定木のPrecision（適合率）について\n",
      "0.9055555555555556\n",
      "0.9090909090909091\n",
      "0.9114478114478114\n",
      "[0.94444444 0.86666667]\n"
     ]
    },
    {
     "data": {
      "text/plain": [
       "array([0.94444444, 0.86666667])"
      ]
     },
     "execution_count": 31,
     "metadata": {},
     "output_type": "execute_result"
    }
   ],
   "source": [
    "\n",
    "from sklearn.metrics import precision_score\n",
    "\n",
    "print(\"・決定木のPrecision（適合率）について\")\n",
    "\n",
    "#パラメータ'macro'の適合率\n",
    "print(precision_score(y_test, y_test_pred, average='macro'))\n",
    "\n",
    "#パラメータ'micro'の適合率\n",
    "print(precision_score(y_test, y_test_pred, average='micro'))\n",
    "\n",
    "#パラメータ'weighted'の適合率\n",
    "print(precision_score(y_test, y_test_pred, average='weighted'))\n",
    "\n",
    "#パラメータNoneの適合率\n",
    "print(precision_score(y_test, y_test_pred, average=None))\n",
    "\n",
    "#ゼロ除算がある場合に返す値を設定する\n",
    "precision_score(y_test, y_test_pred, average=None, zero_division=1) #★☆★☆ゼロ除算って何\n"
   ]
  },
  {
   "cell_type": "code",
   "execution_count": 32,
   "metadata": {},
   "outputs": [
    {
     "name": "stdout",
     "output_type": "stream",
     "text": [
      "・決定木のRecall（再現率）について\n",
      "0.9116541353383458\n",
      "0.9090909090909091\n",
      "0.9090909090909091\n",
      "[0.89473684 0.92857143]\n",
      "[0.89473684 0.92857143]\n",
      "[0.89473684 0.92857143]\n"
     ]
    }
   ],
   "source": [
    "\n",
    "from sklearn.metrics import recall_score\n",
    "\n",
    "print(\"・決定木のRecall（再現率）について\")\n",
    "\n",
    "#パラメータ'macro'の適合率\n",
    "print(recall_score(y_test, y_test_pred, average='macro'))\n",
    "\n",
    "#パラメータ'micro'の適合率\n",
    "print(recall_score(y_test, y_test_pred, average='micro'))\n",
    "\n",
    "#パラメータ'weighted'の適合率\n",
    "print(recall_score(y_test, y_test_pred, average='weighted'))\n",
    "\n",
    "#パラメータNoneの適合率\n",
    "print(recall_score(y_test, y_test_pred, average=None))\n",
    "\n",
    "#パラメータNoneの適合率\n",
    "print(recall_score(y_test, y_test_pred, average=None))\n",
    "\n",
    "#ゼロ除算がある場合に返す値を設定する\n",
    "print(recall_score(y_test, y_test_pred, average=None, zero_division=1)) #★☆★☆ゼロ除算って何\n"
   ]
  },
  {
   "cell_type": "code",
   "execution_count": 33,
   "metadata": {},
   "outputs": [
    {
     "name": "stdout",
     "output_type": "stream",
     "text": [
      "・決定木のF値について\n",
      "0.907735321528425\n",
      "0.9090909090909091\n",
      "0.9094298059815301\n",
      "[0.91891892 0.89655172]\n"
     ]
    }
   ],
   "source": [
    "\n",
    "from sklearn.metrics import f1_score\n",
    "\n",
    "print(\"・決定木のF値について\")\n",
    "\n",
    "#パラメータ'macro'の適合率\n",
    "print(f1_score(y_test, y_test_pred, average='macro'))\n",
    "\n",
    "#パラメータ'micro'の適合率\n",
    "print(f1_score(y_test, y_test_pred, average='micro'))\n",
    "\n",
    "#パラメータ'weighted'の適合率\n",
    "print(f1_score(y_test, y_test_pred, average='weighted'))\n",
    "\n",
    "#パラメータNoneの適合率\n",
    "print(f1_score(y_test, y_test_pred, average=None))\n",
    "\n",
    "#ゼロ除算がある場合に返す値を設定する\n",
    "#f1_score(y_test, y_test_pred, zero_division=1) #★☆★☆なぜF値はゼロ除算できないのか\n"
   ]
  },
  {
   "cell_type": "code",
   "execution_count": 34,
   "metadata": {},
   "outputs": [
    {
     "name": "stdout",
     "output_type": "stream",
     "text": [
      "・決定木の混同行列（confusion matrix）について\n"
     ]
    },
    {
     "data": {
      "text/plain": [
       "array([[17,  2],\n",
       "       [ 1, 13]], dtype=int64)"
      ]
     },
     "execution_count": 34,
     "metadata": {},
     "output_type": "execute_result"
    }
   ],
   "source": [
    "\n",
    "from sklearn.metrics import confusion_matrix\n",
    "\n",
    "print(\"・決定木の混同行列（confusion matrix）について\")\n",
    "\n",
    "#混合行列を作成\n",
    "confusion_matrix(y_test, y_test_pred)#confusion_matrix(配列１, 配列２)\n"
   ]
  },
  {
   "cell_type": "code",
   "execution_count": 35,
   "metadata": {},
   "outputs": [
    {
     "name": "stdout",
     "output_type": "stream",
     "text": [
      "・決定木の決定領域の可視化について\n"
     ]
    },
    {
     "data": {
      "image/png": "[encoded data removed]",
      "text/plain": [
       "<Figure size 432x288 with 1 Axes>"
      ]
     },
     "metadata": {
      "needs_background": "light"
     },
     "output_type": "display_data"
    }
   ],
   "source": [
    "print(\"・決定木の決定領域の可視化について\")\n",
    "\n",
    "import matplotlib.pyplot as plt\n",
    "from matplotlib.colors import ListedColormap\n",
    "import matplotlib.patches as mpatches\n",
    "def decision_region(X, y, model, step=0.01, title='decision region', xlabel='xlabel', ylabel='ylabel', target_names=['versicolor', 'virginica']):\n",
    "    \"\"\"\n",
    "    2値分類を2次元の特徴量で学習したモデルの決定領域を描く。\n",
    "    背景の色が学習したモデルによる推定値から描画される。\n",
    "    散布図の点は訓練データまたは検証データである。\n",
    "    Parameters\n",
    "    ----------------\n",
    "    X : ndarray, shape(n_samples, 2)\n",
    "        特徴量\n",
    "    y : ndarray, shape(n_samples,)\n",
    "        ラベル\n",
    "    model : object\n",
    "        学習したモデルのインスンタスを入れる\n",
    "    step : float, (default : 0.1)\n",
    "        推定値を計算する間隔を設定する\n",
    "    title : str\n",
    "        グラフのタイトルの文章を与える\n",
    "    xlabel, ylabel : str\n",
    "        軸ラベルの文章を与える\n",
    "    target_names= : list of str\n",
    "        凡例の一覧を与える\n",
    "    \"\"\"\n",
    "    # setting\n",
    "    scatter_color = ['red', 'blue']\n",
    "    contourf_color = ['pink', 'skyblue']\n",
    "    n_class = 2\n",
    "    # pred\n",
    "    mesh_f0, mesh_f1  = np.meshgrid(np.arange(np.min(X[:,0])-0.5, np.max(X[:,0])+0.5, step), np.arange(np.min(X[:,1])-0.5, np.max(X[:,1])+0.5, step))\n",
    "    mesh = np.c_[np.ravel(mesh_f0),np.ravel(mesh_f1)]\n",
    "    y_pred = model.predict(mesh).reshape(mesh_f0.shape)\n",
    "    # plot\n",
    "    plt.title(title)\n",
    "    plt.xlabel(xlabel)\n",
    "    plt.ylabel(ylabel)\n",
    "    plt.contourf(mesh_f0, mesh_f1, y_pred, n_class-1, cmap=ListedColormap(contourf_color))\n",
    "    plt.contour(mesh_f0, mesh_f1, y_pred, n_class-1, colors='y', linewidths=3, alpha=0.5)\n",
    "    for i, target in enumerate(set(y)):\n",
    "        plt.scatter(X[y==target][:, 0], X[y==target][:, 1], s=80, color=scatter_color[i], label=target_names[i], marker='o')\n",
    "    patches = [mpatches.Patch(color=scatter_color[i], label=target_names[i]) for i in range(n_class)]\n",
    "    plt.legend(handles=patches)\n",
    "    plt.legend()\n",
    "    plt.show()\n",
    "    \n",
    "#-------------------------\n",
    "\n",
    "X = X_train_transform\n",
    "y = y_train['Species']    \n",
    "\n",
    "decision_region(X, y, clf, step=0.01, title='decision region', xlabel='xlabel', ylabel='ylabel', target_names=['versicolor', 'virginica'])\n",
    "    \n"
   ]
  },
  {
   "cell_type": "code",
   "execution_count": 36,
   "metadata": {},
   "outputs": [
    {
     "name": "stdout",
     "output_type": "stream",
     "text": [
      "・ランダムフォレスト\n",
      "[2 2 2 1 1 1 2 2 1 1 1 1 2 2 2 1 1 2 1 1 2 2 1 1 2 1 1 2 1 2 1 1 2]\n"
     ]
    }
   ],
   "source": [
    "from sklearn.ensemble import RandomForestClassifier\n",
    "from sklearn.datasets import make_classification\n",
    "from sklearn.model_selection import train_test_split\n",
    "\n",
    "print(\"・ランダムフォレスト\")\n",
    "\n",
    "#訓練用データのデータを用意\n",
    "X = X_train_transform\n",
    "y = y_train\n",
    "\n",
    "#print(X.shape)\n",
    "# X, y = make_classification(n_samples=1000, n_features=4,\n",
    "#                            n_informative=2, n_redundant=0,\n",
    "#                            random_state=0, shuffle=False)\n",
    "\n",
    "clf = RandomForestClassifier(max_depth=2, random_state=0)\n",
    "\n",
    "#訓練用データで学習\n",
    "clf.fit(X, y)\n",
    "\n",
    "# print(clf.feature_importances_)\n",
    "# y_test_pred = clf.predict(X_test_transform)\n",
    "\n",
    "print(clf.predict(X_test_transform))"
   ]
  },
  {
   "cell_type": "code",
   "execution_count": 37,
   "metadata": {},
   "outputs": [
    {
     "name": "stdout",
     "output_type": "stream",
     "text": [
      "・ランダムフォレストのAccuracy（正解率）について\n",
      "30\n"
     ]
    }
   ],
   "source": [
    "print(\"・ランダムフォレストのAccuracy（正解率）について\")\n",
    "\n",
    "from sklearn.metrics import accuracy_score\n",
    "\n",
    "#------------↓データの詳細------------\n",
    "# X_train_transform　X訓練用データの標準化\n",
    "# y_train　訓練用データの目的変数\n",
    "\n",
    "# X_test_transform　X検証用データの標準化\n",
    "# y_test　検証用データの正解目的変数データ\n",
    "\n",
    "# y_test_pred　検証用データの目的変数の予測データ\n",
    "#------------↑------------\n",
    "\n",
    "\n",
    "#accuracy_scoreで正解率を出力\n",
    "accuracy_score(y_test, y_test_pred) #accuracy_score(正解のデータ, 予測したデータ)で正解率を出す\n",
    "\n",
    "print(accuracy_score(y_test, y_test_pred, normalize=False))#正解率を出力"
   ]
  },
  {
   "cell_type": "code",
   "execution_count": 38,
   "metadata": {},
   "outputs": [
    {
     "name": "stdout",
     "output_type": "stream",
     "text": [
      "・ランダムフォレストのPrecision（適合率）について\n",
      "0.9055555555555556\n",
      "0.9090909090909091\n",
      "0.9114478114478114\n",
      "[0.94444444 0.86666667]\n"
     ]
    },
    {
     "data": {
      "text/plain": [
       "array([0.94444444, 0.86666667])"
      ]
     },
     "execution_count": 38,
     "metadata": {},
     "output_type": "execute_result"
    }
   ],
   "source": [
    "\n",
    "from sklearn.metrics import precision_score\n",
    "\n",
    "print(\"・ランダムフォレストのPrecision（適合率）について\")\n",
    "\n",
    "#パラメータ'macro'の適合率\n",
    "print(precision_score(y_test, y_test_pred, average='macro'))\n",
    "\n",
    "#パラメータ'micro'の適合率\n",
    "print(precision_score(y_test, y_test_pred, average='micro'))\n",
    "\n",
    "#パラメータ'weighted'の適合率\n",
    "print(precision_score(y_test, y_test_pred, average='weighted'))\n",
    "\n",
    "#パラメータNoneの適合率\n",
    "print(precision_score(y_test, y_test_pred, average=None))\n",
    "\n",
    "#ゼロ除算がある場合に返す値を設定する\n",
    "precision_score(y_test, y_test_pred, average=None, zero_division=1) #★☆★☆ゼロ除算って何\n"
   ]
  },
  {
   "cell_type": "code",
   "execution_count": 39,
   "metadata": {},
   "outputs": [
    {
     "name": "stdout",
     "output_type": "stream",
     "text": [
      "・ランダムフォレストのRecall（再現率）について\n",
      "0.9116541353383458\n",
      "0.9090909090909091\n",
      "0.9090909090909091\n",
      "[0.89473684 0.92857143]\n",
      "[0.89473684 0.92857143]\n",
      "[0.89473684 0.92857143]\n"
     ]
    }
   ],
   "source": [
    "\n",
    "from sklearn.metrics import recall_score\n",
    "\n",
    "print(\"・ランダムフォレストのRecall（再現率）について\")\n",
    "\n",
    "#パラメータ'macro'の適合率\n",
    "print(recall_score(y_test, y_test_pred, average='macro'))\n",
    "\n",
    "#パラメータ'micro'の適合率\n",
    "print(recall_score(y_test, y_test_pred, average='micro'))\n",
    "\n",
    "#パラメータ'weighted'の適合率\n",
    "print(recall_score(y_test, y_test_pred, average='weighted'))\n",
    "\n",
    "#パラメータNoneの適合率\n",
    "print(recall_score(y_test, y_test_pred, average=None))\n",
    "\n",
    "#パラメータNoneの適合率\n",
    "print(recall_score(y_test, y_test_pred, average=None))\n",
    "\n",
    "#ゼロ除算がある場合に返す値を設定する\n",
    "print(recall_score(y_test, y_test_pred, average=None, zero_division=1)) #★☆★☆ゼロ除算って何\n",
    "\n"
   ]
  },
  {
   "cell_type": "code",
   "execution_count": 40,
   "metadata": {},
   "outputs": [
    {
     "name": "stdout",
     "output_type": "stream",
     "text": [
      "・ランダムフォレストのF値について\n",
      "0.907735321528425\n",
      "0.9090909090909091\n",
      "0.9094298059815301\n",
      "[0.91891892 0.89655172]\n"
     ]
    }
   ],
   "source": [
    "\n",
    "from sklearn.metrics import f1_score\n",
    "\n",
    "print(\"・ランダムフォレストのF値について\")\n",
    "\n",
    "#パラメータ'macro'の適合率\n",
    "print(f1_score(y_test, y_test_pred, average='macro'))\n",
    "\n",
    "#パラメータ'micro'の適合率\n",
    "print(f1_score(y_test, y_test_pred, average='micro'))\n",
    "\n",
    "#パラメータ'weighted'の適合率\n",
    "print(f1_score(y_test, y_test_pred, average='weighted'))\n",
    "\n",
    "#パラメータNoneの適合率\n",
    "print(f1_score(y_test, y_test_pred, average=None))\n",
    "\n",
    "#ゼロ除算がある場合に返す値を設定する\n",
    "#f1_score(y_test, y_test_pred, zero_division=1) #★☆★☆なぜF値はゼロ除算できないのか\n",
    "\n"
   ]
  },
  {
   "cell_type": "code",
   "execution_count": 41,
   "metadata": {},
   "outputs": [
    {
     "name": "stdout",
     "output_type": "stream",
     "text": [
      "・ランダムフォレストの混同行列（confusion matrix）について\n"
     ]
    },
    {
     "data": {
      "text/plain": [
       "array([[17,  2],\n",
       "       [ 1, 13]], dtype=int64)"
      ]
     },
     "execution_count": 41,
     "metadata": {},
     "output_type": "execute_result"
    }
   ],
   "source": [
    "\n",
    "from sklearn.metrics import confusion_matrix\n",
    "\n",
    "print(\"・ランダムフォレストの混同行列（confusion matrix）について\")\n",
    "\n",
    "#混合行列を作成\n",
    "confusion_matrix(y_test, y_test_pred)#confusion_matrix(配列１, 配列２)"
   ]
  },
  {
   "cell_type": "code",
   "execution_count": 42,
   "metadata": {},
   "outputs": [
    {
     "name": "stdout",
     "output_type": "stream",
     "text": [
      "・ランダムフォレストの決定領域の可視化について\n"
     ]
    },
    {
     "data": {
      "image/png": "[encoded data removed]",
      "text/plain": [
       "<Figure size 432x288 with 1 Axes>"
      ]
     },
     "metadata": {
      "needs_background": "light"
     },
     "output_type": "display_data"
    }
   ],
   "source": [
    "print(\"・ランダムフォレストの決定領域の可視化について\")\n",
    "\n",
    "import matplotlib.pyplot as plt\n",
    "from matplotlib.colors import ListedColormap\n",
    "import matplotlib.patches as mpatches\n",
    "def decision_region(X, y, model, step=0.01, title='decision region', xlabel='xlabel', ylabel='ylabel', target_names=['versicolor', 'virginica']):\n",
    "    \"\"\"\n",
    "    2値分類を2次元の特徴量で学習したモデルの決定領域を描く。\n",
    "    背景の色が学習したモデルによる推定値から描画される。\n",
    "    散布図の点は訓練データまたは検証データである。\n",
    "    Parameters\n",
    "    ----------------\n",
    "    X : ndarray, shape(n_samples, 2)\n",
    "        特徴量\n",
    "    y : ndarray, shape(n_samples,)\n",
    "        ラベル\n",
    "    model : object\n",
    "        学習したモデルのインスンタスを入れる\n",
    "    step : float, (default : 0.1)\n",
    "        推定値を計算する間隔を設定する\n",
    "    title : str\n",
    "        グラフのタイトルの文章を与える\n",
    "    xlabel, ylabel : str\n",
    "        軸ラベルの文章を与える\n",
    "    target_names= : list of str\n",
    "        凡例の一覧を与える\n",
    "    \"\"\"\n",
    "    # setting\n",
    "    scatter_color = ['red', 'blue']\n",
    "    contourf_color = ['pink', 'skyblue']\n",
    "    n_class = 2\n",
    "    # pred\n",
    "    mesh_f0, mesh_f1  = np.meshgrid(np.arange(np.min(X[:,0])-0.5, np.max(X[:,0])+0.5, step), np.arange(np.min(X[:,1])-0.5, np.max(X[:,1])+0.5, step))\n",
    "    mesh = np.c_[np.ravel(mesh_f0),np.ravel(mesh_f1)]\n",
    "    y_pred = model.predict(mesh).reshape(mesh_f0.shape)\n",
    "    # plot\n",
    "    plt.title(title)\n",
    "    plt.xlabel(xlabel)\n",
    "    plt.ylabel(ylabel)\n",
    "    plt.contourf(mesh_f0, mesh_f1, y_pred, n_class-1, cmap=ListedColormap(contourf_color))\n",
    "    plt.contour(mesh_f0, mesh_f1, y_pred, n_class-1, colors='y', linewidths=3, alpha=0.5)\n",
    "    for i, target in enumerate(set(y)):\n",
    "        plt.scatter(X[y==target][:, 0], X[y==target][:, 1], s=80, color=scatter_color[i], label=target_names[i], marker='o')\n",
    "    patches = [mpatches.Patch(color=scatter_color[i], label=target_names[i]) for i in range(n_class)]\n",
    "    plt.legend(handles=patches)\n",
    "    plt.legend()\n",
    "    plt.show()\n",
    "    \n",
    "#-------------------------\n",
    "\n",
    "X = X_train_transform\n",
    "y = y_train['Species']    \n",
    "\n",
    "decision_region(X, y, clf, step=0.01, title='decision region', xlabel='xlabel', ylabel='ylabel', target_names=['versicolor', 'virginica'])\n",
    "    \n"
   ]
  },
  {
   "cell_type": "markdown",
   "metadata": {},
   "source": [
    "df：特徴量と目的変数を合成したアヤメデータ\n",
    "\n",
    "df_setosa：dfからSetosaをスライスしたDF\n",
    "df_virgicolor：dfからvirgicolorをスライスしたDF\n",
    "df_virginica：dfからvirginicaをスライスしたDF\n",
    "\n",
    "\n",
    "\n",
    "\n",
    "\n",
    "X_train\n",
    "X_test\n",
    "y_train\n",
    "y_test\n",
    "\n",
    "\n",
    "X_train_transform　X訓練用データの標準化\n",
    "y_train　訓練用データの目的変数\n",
    "X_test_transform　X検証用データの標準化\n",
    "y_test　検証用データの目的変数\n",
    "\n",
    "\n",
    "y_test_pred　機械学習で予測したデータ"
   ]
  },
  {
   "cell_type": "markdown",
   "metadata": {},
   "source": [
    "### 【問題9】（アドバンス課題）標準化の有無の比較"
   ]
  },
  {
   "cell_type": "markdown",
   "metadata": {},
   "source": [
    "### 【問題10】（アドバンス課題）すべての目的変数を使用して精度が高い手法"
   ]
  },
  {
   "cell_type": "code",
   "execution_count": null,
   "metadata": {},
   "outputs": [],
   "source": []
  }
 ],
 "metadata": {
  "kernelspec": {
   "display_name": "Python 3",
   "language": "python",
   "name": "python3"
  },
  "language_info": {
   "codemirror_mode": {
    "name": "ipython",
    "version": 3
   },
   "file_extension": ".py",
   "mimetype": "text/x-python",
   "name": "python",
   "nbconvert_exporter": "python",
   "pygments_lexer": "ipython3",
   "version": "3.8.5"
  }
 },
 "nbformat": 4,
 "nbformat_minor": 4
}
