{
 "nbformat": 4,
 "nbformat_minor": 0,
 "metadata": {
  "kernelspec": {
   "display_name": "Python 3",
   "language": "python",
   "name": "python3"
  },
  "language_info": {
   "codemirror_mode": {
    "name": "ipython",
    "version": 3
   },
   "file_extension": ".py",
   "mimetype": "text/x-python",
   "name": "python",
   "nbconvert_exporter": "python",
   "pygments_lexer": "ipython3",
   "version": "3.8.2"
  },
  "toc": {
   "base_numbering": 1,
   "nav_menu": {},
   "number_sections": true,
   "sideBar": true,
   "skip_h1_title": true,
   "title_cell": "目次",
   "title_sidebar": "Contents",
   "toc_cell": true,
   "toc_position": {
    "height": "calc(100% - 180px)",
    "left": "10px",
    "top": "150px",
    "width": "768px"
   },
   "toc_section_display": true,
   "toc_window_display": true
  },
  "colab": {
   "name": "mep_day14_clustering_en.ipynb",
   "provenance": [],
   "collapsed_sections": [
    "Ur_dH43_SBh5",
    "QEIbvdR5SBh6"
   ]
  }
 },
 "cells": [
  {
   "cell_type": "code",
   "execution_count": 506,
   "outputs": [],
   "source": [
    "###################\n",
    "#インポート\n",
    "###################\n",
    "\n",
    "import numpy as np\n",
    "import matplotlib.pyplot as plt\n",
    "from sklearn.model_selection import train_test_split\n"
   ],
   "metadata": {
    "collapsed": false,
    "pycharm": {
     "name": "#%%\n"
    }
   }
  },
  {
   "cell_type": "code",
   "execution_count": 507,
   "outputs": [
    {
     "name": "stdout",
     "output_type": "stream",
     "text": [
      "【シンプルデータセット3】\n",
      "len(X):100\n"
     ]
    },
    {
     "data": {
      "text/plain": "<Figure size 432x288 with 1 Axes>",
      "image/png": "[encoded data removed]"
     },
     "metadata": {
      "needs_background": "light"
     },
     "output_type": "display_data"
    }
   ],
   "source": [
    "###################\n",
    "#シンプルデータセット3\n",
    "###################\n",
    "\n",
    "from sklearn.datasets import make_blobs\n",
    "X, _ = make_blobs(n_samples=100, n_features=2, centers=4, cluster_std=0.5, shuffle=True, random_state=0)\n",
    "\n",
    "print(\"【シンプルデータセット3】\")\n",
    "#print(\"X.shape:{}\".format(X.shape)) #------検証中--------\n",
    "print(\"len(X):{}\".format(len(X))) #------検証中--------\n",
    "\n",
    "#----散布図の描画----\n",
    "p = plt.subplot()\n",
    "p.scatter(X[:,0], X[:,1], c = \"black\", alpha = 0.5)\n",
    "p.set_aspect('equal')\n",
    "plt.show()\n"
   ],
   "metadata": {
    "collapsed": false,
    "pycharm": {
     "name": "#%%\n"
    }
   }
  },
  {
   "cell_type": "code",
   "execution_count": 508,
   "outputs": [
    {
     "name": "stdout",
     "output_type": "stream",
     "text": [
      "【テストデータ】\n",
      "X_train.shape:(70, 2)\n"
     ]
    },
    {
     "data": {
      "text/plain": "<Figure size 432x288 with 1 Axes>",
      "image/png": "[encoded data removed]"
     },
     "metadata": {
      "needs_background": "light"
     },
     "output_type": "display_data"
    }
   ],
   "source": [
    "###################\n",
    "#データの分割\n",
    "###################\n",
    "X_train, X_test = train_test_split(X, test_size=0.3, random_state=0, shuffle=True)\n",
    "\n",
    "print(\"【テストデータ】\")\n",
    "print(\"X_train.shape:{}\".format(X_train.shape)) #------検証中--------\n",
    "\n",
    "#----散布図の描画----\n",
    "p = plt.subplot()\n",
    "p.scatter(X_train[:,0], X_train[:,1], c = \"black\", alpha = 0.5)\n",
    "p.set_aspect('equal')\n",
    "plt.show()\n",
    "\n",
    "\n"
   ],
   "metadata": {
    "collapsed": false,
    "pycharm": {
     "name": "#%%\n"
    }
   }
  },
  {
   "cell_type": "code",
   "execution_count": 509,
   "outputs": [],
   "source": [
    "###################\n",
    "#ScratchKMeansクラス\n",
    "###################\n",
    "\n",
    "#クラスタリングのスクラッチ\n",
    "class ScratchKMeans():\n",
    "\n",
    "    def __init__(self, n_clusters=2,n_init=20,n_iter=100,verbose=False):\n",
    "        \"\"\"\n",
    "        パラメータ\n",
    "        n_clusters : クラスタ数\n",
    "        n_init : 何回初期化するか #初期かってなに？\n",
    "        max_iter : 各初期化毎に何回学習させるか\n",
    "        verbose : 学習状況を出力するか否か\n",
    "\n",
    "         ----------\n",
    "\n",
    "        \"\"\"\n",
    "        self.n_clusters = n_clusters#区分けグループ数\n",
    "        self.n_init = n_init\n",
    "        self.n_iter = n_iter#イテレーション回数\n",
    "        self.verbose = verbose#学習仮定の出力\n",
    "        # SSE（誤差）を小さくする方向に学習（更新）させていくため、初期値は大きいものを用意しておく\n",
    "        self.best_sse = 10**20\n",
    "\n",
    "\n",
    "\n",
    "#-----【問題1】クラスタの中心点myuの初期値を決める-----\n",
    "    #クラスタの中心点ndarrayであるmyuの定義とmyuの初期値設定\n",
    "    def _update_myu(self,X):\n",
    "            \"\"\"中心点の更新\n",
    "            Parameters\n",
    "            ----------\n",
    "            X : 説明変数\n",
    "            \"\"\"\n",
    "            self.pre_myu = self.myu #★☆★☆これ何で書けたの？self.pre_myu is not difine にならないの\n",
    "            np.sum(self.pre_myu)\n",
    "\n",
    "\n",
    "\n",
    "            # self.myuの初期値及び一般式を決める。XのX[:,0]とX[:,1]の平均値をself.myuの初期値とする\n",
    "            # クラスタの回数繰り返す\n",
    "            # ここで入力されているXはすでに[:,-1]にクラスタ番号がついている。X[:,-1]はクラスタ番号のこと\n",
    "            for j in range(self.n_clusters):\n",
    "\n",
    "                #★☆★☆X[X[:,-1]==j,:-1]は例えばｊが０の時、X[:,-1]==jのクラスタ番号が０の時の、、、\n",
    "                self.myu[j] = np.mean(X[   X[:,-1]==j   ,   :-1   ],axis=0) #これ何表していますか？:-1 はクラスタ以外を表す\n",
    "\n",
    "            return self.myu #Xのクラスタ番号が決まっていて、そのクラスタ番号の平均値が入っているself.myu\n",
    "\n",
    "\n",
    "\n",
    "    #すべてのデータ点Xを最も近い中心点myu(1.2.3....Kのどれか）に割り当てるコード\n",
    "    def _update_cluster(self,X):\n",
    "        \"\"\"クラスタの更新　Xデータのクラスタを全て更新する\n",
    "        Parameters\n",
    "        ----------\n",
    "        X : 説明変数\n",
    "        \"\"\"\n",
    "\n",
    "\n",
    "        # データ数でループ\n",
    "        for i in range(len(X)):\n",
    "\n",
    "            # 比較のための初期値\n",
    "            dist_m = 10**20#この値は適当\n",
    "\n",
    "            # クラスタ数でループ\n",
    "            for j in range(self.n_clusters):\n",
    "\n",
    "                # 該当クラスタの中心点との距離を計算\n",
    "                #(X[i,:-1]-self.myu[j])この計算のイメージをもっていなかった\n",
    "                dist = np.sqrt(np.sum((X[i,:-1]-self.myu[j])**2)) #★☆★☆X[i,:-1]ここ図書いて聞く　\n",
    "\n",
    "                # 前回保存した（あるいは初期値）より距離が小さければ、そちらのクラスタを採用\n",
    "                #そのi番目のデータのクラスタ\n",
    "                if dist < dist_m:\n",
    "                    dist_m = dist\n",
    "                    X[i,-1] = j #Xの最後の列に一番近かったクラスタの番号を入れている\n",
    "        #print(\"X:{}\".format(X)) #------検証中--------\n",
    "\n",
    "        return X\n",
    "\n",
    "    #-----【問題2】SSEを求める関数の作成-----\n",
    "\n",
    "    def calc_sse(self,X):\n",
    "        \"\"\"\n",
    "        Xのデータ全部とクラスタの中心値myuの距離をピタゴラスの定理から求めて一番小さい距離とクラスタ番号を記録する\n",
    "        ここでのXはクラスタ番号が入っている\n",
    "        Parameters\n",
    "        ----------\n",
    "        X : 説明変数\n",
    "        \"\"\"\n",
    "        # SSEの計算\n",
    "        sse = 0\n",
    "\n",
    "        # データ数でループ\n",
    "        for i in range(len(X)):\n",
    "\n",
    "            # クラスタ数でループ\n",
    "            for j in range(self.n_clusters):\n",
    "\n",
    "                # 末尾のクラスタを判定し、該当クラスタならsseに加算　★☆★☆ってどういうこと？\n",
    "                # X[i,-1]は\n",
    "\n",
    "                if j == X[i,-1]:#-1の末尾のところにクラスタが入っているのでiでforして該当クラスタならΣなのでSamする\n",
    "                    # ベクトルの距離（ノルム）計算＊末尾のクラスタを除いた数値を使用している点に注意\n",
    "                    sse += np.sum((X[i,:-1]-self.myu[j])**2)\n",
    "\n",
    "        # sseが改善していれば、更新\n",
    "        if self.best_sse > sse:\n",
    "            self.best_sse = sse\n",
    "            self.record_myu = self.myu\n",
    "            self.record_cluster = self.n_clusters\n",
    "\n",
    "\n",
    "        return self.record_myu\n",
    "\n",
    "\n",
    "\n",
    "    #クラスタの中心値myuの初期値を決める。\n",
    "    def fit(self, X):\n",
    "\n",
    "        #np.random.choice(取り出す配列, 取り出す数, replace：重複OKか)\n",
    "        self.myu = X[np.random.choice(len(X),size=self.n_clusters,replace=False)]# myuの数量はXの列数と同じになる\n",
    "\n",
    "        print(\"myu.shape:{}\".format(self.myu.shape)) #------検証中--------\n",
    "        print(\"myu:{}\".format(self.myu)) #------検証中--------\n",
    "        print(\"len(myu):{}\".format(len(self.myu))) #------検証中--------\n",
    "\n",
    "\n",
    "        # Xベクトルにクラスタ列を追加（クラスタは0で初期化）\n",
    "        cluster = np.zeros(len(X))\n",
    "        X_cluster = np.concatenate([X,cluster.reshape(-1,1)],axis=1)\n",
    "        print(\"X_cluster.shape:{}\".format(X_cluster.shape)) #------検証中--------\n",
    "\n",
    "        # イテレーション回数forする\n",
    "        for j in range(self.n_iter):\n",
    "            # SSEを更新\n",
    "            #calc_sseはSSEを求めるメソッド,\n",
    "            #X_clusterはXにmyu（クラスタの値）を追加した配列\n",
    "            self.record_myu = self.calc_sse(X_cluster) #Xのデータ全部とクラスタの中心値myuの距離をピタゴラスの定理から求めて一番小さい距離とクラスタ番号を記録する\n",
    "\n",
    "\n",
    "            # クラスタ更新\n",
    "            X = self._update_cluster(X_cluster) #すべてのデータ点Xを最も近い中心点myu(1.2.3....Kのどれか）に割り当てるコード\n",
    "\n",
    "            # クラスタの中心点の更新\n",
    "            self._update_myu(X_cluster)\n",
    "\n",
    "            # 学習状況の出力（グラフ）\n",
    "            # if self.verbose:\n",
    "            #     print(\"初期化：%s　学習回数：%s　最善のSSE：%s\"%(i,j,self.best_sse))\n",
    "        return self.record_myu,X\n",
    "\n",
    "    def predict(self, X):\n",
    "        \"\"\"予測\n",
    "        Parameters\n",
    "        ----------\n",
    "        X : 説明変数\n",
    "        \"\"\"\n",
    "        # 予測値の初期化\n",
    "        y_pred = np.zeros(len(X))\n",
    "        # 処理の流れ自体は、_reclustering関数と同様\n",
    "        # データ数でループ\n",
    "        for i in range(len(X)):\n",
    "            # 比較のための初期値\n",
    "            dist_m = 10**20\n",
    "            # クラスタ数でループ\n",
    "            for j in range(self.record_cluster):\n",
    "                # 該当クラスタの中心点との距離を計算\n",
    "                dist = np.sqrt(np.sum((X[i]-self.record_myu[j])**2))\n",
    "                # 前回保存した（あるいは初期値）より距離が小さければ、そちらのクラスタを採用\n",
    "                if dist < dist_m:\n",
    "                    dist_m = dist\n",
    "                    y_pred[i] = j\n",
    "        return y_pred\n",
    "\n"
   ],
   "metadata": {
    "collapsed": false,
    "pycharm": {
     "name": "#%%\n"
    }
   }
  },
  {
   "cell_type": "code",
   "execution_count": 510,
   "outputs": [
    {
     "name": "stdout",
     "output_type": "stream",
     "text": [
      "myu.shape:(4, 2)\n",
      "myu:[[ 1.24016835  1.12905479]\n",
      " [-2.27253281  3.13757811]\n",
      " [ 0.3498724   4.69253251]\n",
      " [ 2.79939362  1.84560825]]\n",
      "len(myu):4\n",
      "X_cluster.shape:(70, 3)\n",
      "record_myu:[[ 2.06105512  0.8798154 ]\n",
      " [-1.54350374  2.96501555]\n",
      " [-1.23920571  7.73872714]\n",
      " [ 1.04710036  4.30842418]]\n"
     ]
    },
    {
     "data": {
      "text/plain": "<Figure size 432x288 with 1 Axes>",
      "image/png": "[encoded data removed]"
     },
     "metadata": {
      "needs_background": "light"
     },
     "output_type": "display_data"
    }
   ],
   "source": [
    "#----clf　インスタンス化------\n",
    "\n",
    "clf = ScratchKMeans(n_clusters=4,n_init=5,n_iter=15,verbose=True)\n",
    "\n",
    "record_myu,X = clf.fit(X_train)\n",
    "print(\"record_myu:{}\".format(record_myu)) #------検証中--------\n",
    "\n",
    "#----散布図の可視化------ここ色を勝手に増やすことはできますか？\n",
    "\n",
    "p = plt.subplot()\n",
    "\n",
    "p.scatter(X[X[:,2]==0, 0], X[X[:,2]==0, 1], c = 'red')\n",
    "p.scatter(X[X[:,2]==1, 0], X[X[:,2]==1, 1], c = 'blue')\n",
    "p.scatter(X[X[:,2]==2, 0], X[X[:,2]==2, 1], c = 'yellow')\n",
    "p.scatter(X[X[:,2]==3, 0], X[X[:,2]==3, 1], c = 'green')\n",
    "# 中心点\n",
    "p.scatter(record_myu[:, 0], record_myu[:, 1], color='black', marker='s')\n",
    "\n",
    "p.set_aspect('equal')\n",
    "\n",
    "plt.show()\n"
   ],
   "metadata": {
    "collapsed": false,
    "pycharm": {
     "name": "#%%\n"
    }
   }
  },
  {
   "cell_type": "code",
   "execution_count": 511,
   "outputs": [
    {
     "name": "stdout",
     "output_type": "stream",
     "text": [
      "myu.shape:(6, 2)\n",
      "myu:[[ 1.19820169  4.47062449]\n",
      " [-1.33869125  2.36818187]\n",
      " [-1.8219901   7.61654999]\n",
      " [ 1.51989121  1.42488952]\n",
      " [ 0.72086751  3.71347124]\n",
      " [ 1.73810647  0.71629308]]\n",
      "len(myu):6\n",
      "X_cluster.shape:(70, 3)\n",
      "record_myu:[[ 1.16986717  4.42992382]\n",
      " [-1.62404855  2.93667512]\n",
      " [-1.23920571  7.73872714]\n",
      " [ 1.88943043  1.41824774]\n",
      " [ 0.27180856  3.65359988]\n",
      " [ 2.17027084  0.53717664]]\n"
     ]
    },
    {
     "data": {
      "text/plain": "<Figure size 432x288 with 1 Axes>",
      "image/png": "[encoded data removed]"
     },
     "metadata": {
      "needs_background": "light"
     },
     "output_type": "display_data"
    }
   ],
   "source": [
    "#-----【問題6】異なる初期値で計算-----\n",
    "\n",
    "#----clf2　インスタンス化------\n",
    "\n",
    "clf2 = ScratchKMeans(n_clusters=6,n_init=5,n_iter=20,verbose=True)\n",
    "\n",
    "record_myu,X = clf2.fit(X_train)\n",
    "print(\"record_myu:{}\".format(record_myu)) #------検証中--------\n",
    "\n",
    "#----散布図の可視化------\n",
    "\n",
    "p = plt.subplot()\n",
    "\n",
    "p.scatter(X[X[:,2]==0, 0], X[X[:,2]==0, 1], c = 'red')\n",
    "p.scatter(X[X[:,2]==1, 0], X[X[:,2]==1, 1], c = 'blue')\n",
    "p.scatter(X[X[:,2]==2, 0], X[X[:,2]==2, 1], c = 'yellow')\n",
    "p.scatter(X[X[:,2]==3, 0], X[X[:,2]==3, 1], c = 'green')\n",
    "# 中心点\n",
    "p.scatter(record_myu[:, 0], record_myu[:, 1], color='black', marker='s')\n",
    "\n",
    "p.set_aspect('equal')\n",
    "\n",
    "plt.show()\n"
   ],
   "metadata": {
    "collapsed": false,
    "pycharm": {
     "name": "#%%\n"
    }
   }
  },
  {
   "cell_type": "code",
   "execution_count": 512,
   "outputs": [
    {
     "name": "stdout",
     "output_type": "stream",
     "text": [
      "y_pred:[1. 0. 3. 2. 3. 1. 0. 2. 1. 2. 1. 3. 0. 2. 2. 0. 1. 3. 0. 3. 1. 0. 3. 0.\n",
      " 2. 3. 1. 3. 1. 1.]\n"
     ]
    }
   ],
   "source": [
    "#-----【問題7】異なる初期値で計算-----\n",
    "y_pred = clf.predict(X_test)\n",
    "print(\"y_pred:{}\".format(y_pred))\n"
   ],
   "metadata": {
    "collapsed": false,
    "pycharm": {
     "name": "#%%\n"
    }
   }
  },
  {
   "cell_type": "code",
   "execution_count": 513,
   "outputs": [
    {
     "name": "stdout",
     "output_type": "stream",
     "text": [
      "myu.shape:(1, 3)\n",
      "myu:[[-1.61803727  8.60696731  2.        ]]\n",
      "len(myu):1\n",
      "X_cluster.shape:(70, 4)\n",
      "myu.shape:(2, 3)\n",
      "myu:[[2.62496786 0.28025075 5.        ]\n",
      " [1.89949126 0.92574633 5.        ]]\n",
      "len(myu):2\n",
      "X_cluster.shape:(70, 4)\n",
      "myu.shape:(3, 3)\n",
      "myu:[[ 1.13280393  3.87673946  0.        ]\n",
      " [-0.1666378   8.50372399  2.        ]\n",
      " [ 1.72330962  4.2012082   0.        ]]\n",
      "len(myu):3\n",
      "X_cluster.shape:(70, 4)\n",
      "myu.shape:(4, 3)\n",
      "myu:[[-1.6609057   3.31911046  1.        ]\n",
      " [ 1.42002502  1.38236201  3.        ]\n",
      " [ 0.78260667  4.15263595  0.        ]\n",
      " [ 1.19820169  4.47062449  0.        ]]\n",
      "len(myu):4\n",
      "X_cluster.shape:(70, 4)\n",
      "myu.shape:(5, 3)\n",
      "myu:[[ 0.5323772   3.31338909  4.        ]\n",
      " [-1.87418794  2.84306499  1.        ]\n",
      " [ 2.62496786  0.28025075  5.        ]\n",
      " [-0.1666378   8.50372399  2.        ]\n",
      " [ 1.19820169  4.47062449  0.        ]]\n",
      "len(myu):5\n",
      "X_cluster.shape:(70, 4)\n",
      "myu.shape:(6, 3)\n",
      "myu:[[ 0.5323772   3.31338909  4.        ]\n",
      " [ 0.96217896  4.51795326  0.        ]\n",
      " [-1.57006498  6.72375844  2.        ]\n",
      " [-1.33869125  2.36818187  1.        ]\n",
      " [ 0.802314    4.38196181  0.        ]\n",
      " [ 1.04829186  5.03092408  0.        ]]\n",
      "len(myu):6\n",
      "X_cluster.shape:(70, 4)\n",
      "myu.shape:(7, 3)\n",
      "myu:[[-1.6609057   3.31911046  1.        ]\n",
      " [-2.18485772  2.68708996  1.        ]\n",
      " [ 0.3498724   4.69253251  0.        ]\n",
      " [ 1.85367905  1.5088862   3.        ]\n",
      " [-0.1666378   8.50372399  2.        ]\n",
      " [-1.32890066  2.37135151  1.        ]\n",
      " [ 1.19820169  4.47062449  0.        ]]\n",
      "len(myu):7\n",
      "X_cluster.shape:(70, 4)\n",
      "myu.shape:(8, 3)\n",
      "myu:[[ 1.00952869  4.45502328  0.        ]\n",
      " [ 0.72086751  3.71347124  4.        ]\n",
      " [ 2.4198128   0.96215512  5.        ]\n",
      " [-2.18485772  2.68708996  1.        ]\n",
      " [ 1.73810647  0.71629308  5.        ]\n",
      " [ 0.96217896  4.51795326  0.        ]\n",
      " [-0.81984047  7.50994722  2.        ]\n",
      " [-0.93564005  7.03443119  2.        ]]\n",
      "len(myu):8\n",
      "X_cluster.shape:(70, 4)\n",
      "myu.shape:(9, 3)\n",
      "myu:[[ 1.00952869  4.45502328  0.        ]\n",
      " [-0.8623605   8.24721209  2.        ]\n",
      " [-1.26789718  7.25141327  2.        ]\n",
      " [ 2.4198128   0.96215512  5.        ]\n",
      " [-1.8219901   7.61654999  2.        ]\n",
      " [ 2.14398059  0.69677319  5.        ]\n",
      " [ 2.79939362  1.84560825  3.        ]\n",
      " [ 0.16932115  4.19741719  4.        ]\n",
      " [-1.497272    8.80022604  2.        ]]\n",
      "len(myu):9\n",
      "X_cluster.shape:(70, 4)\n"
     ]
    },
    {
     "data": {
      "text/plain": "<Figure size 864x576 with 1 Axes>",
      "image/png": "[encoded data removed]"
     },
     "metadata": {
      "needs_background": "light"
     },
     "output_type": "display_data"
    }
   ],
   "source": [
    "#-----【問題8】エルボー法の実装-----\n",
    "\n",
    "elbow = {}\n",
    "for k in range(1,10):\n",
    "    model = ScratchKMeans(n_clusters=k,n_init=5,n_iter=100,verbose=False)\n",
    "    model.fit(X)\n",
    "    elbow[k] = model.best_sse\n",
    "\n",
    "fig = plt.subplots(figsize=(12,8))\n",
    "plt.rcParams[\"font.size\"] = 20\n",
    "plt.plot(list(elbow.keys()),list(elbow.values()),'rs--');\n"
   ],
   "metadata": {
    "collapsed": false,
    "pycharm": {
     "name": "#%%\n"
    }
   }
  },
  {
   "cell_type": "code",
   "execution_count": 513,
   "outputs": [],
   "source": [],
   "metadata": {
    "collapsed": false,
    "pycharm": {
     "name": "#%%\n"
    }
   }
  },
  {
   "cell_type": "markdown",
   "source": [
    "#-----【問題10】クラスタ数kの選択-----\n",
    "\n",
    "エルボ法からK＝６としました\n",
    "６つのデータの違いをさらに調べていきたいです。"
   ],
   "metadata": {
    "collapsed": false
   }
  },
  {
   "cell_type": "code",
   "execution_count": 514,
   "outputs": [],
   "source": [
    "#-----【問題11】既知のグループとの比較-----"
   ],
   "metadata": {
    "collapsed": false,
    "pycharm": {
     "name": "#%%\n"
    }
   }
  },
  {
   "cell_type": "code",
   "execution_count": 515,
   "outputs": [
    {
     "data": {
      "text/plain": "     Fresh   Milk  Grocery  Frozen  Detergents_Paper  Delicassen\n0    12669   9656     7561     214              2674        1338\n1     7057   9810     9568    1762              3293        1776\n2     6353   8808     7684    2405              3516        7844\n3    13265   1196     4221    6404               507        1788\n4    22615   5410     7198    3915              1777        5185\n..     ...    ...      ...     ...               ...         ...\n435  29703  12051    16027   13135               182        2204\n436  39228   1431      764    4510                93        2346\n437  14531  15488    30243     437             14841        1867\n438  10290   1981     2232    1038               168        2125\n439   2787   1698     2510      65               477          52\n\n[440 rows x 6 columns]",
      "text/html": "<div>\n<style scoped>\n    .dataframe tbody tr th:only-of-type {\n        vertical-align: middle;\n    }\n\n    .dataframe tbody tr th {\n        vertical-align: top;\n    }\n\n    .dataframe thead th {\n        text-align: right;\n    }\n</style>\n<table border=\"1\" class=\"dataframe\">\n  <thead>\n    <tr style=\"text-align: right;\">\n      <th></th>\n      <th>Fresh</th>\n      <th>Milk</th>\n      <th>Grocery</th>\n      <th>Frozen</th>\n      <th>Detergents_Paper</th>\n      <th>Delicassen</th>\n    </tr>\n  </thead>\n  <tbody>\n    <tr>\n      <th>0</th>\n      <td>12669</td>\n      <td>9656</td>\n      <td>7561</td>\n      <td>214</td>\n      <td>2674</td>\n      <td>1338</td>\n    </tr>\n    <tr>\n      <th>1</th>\n      <td>7057</td>\n      <td>9810</td>\n      <td>9568</td>\n      <td>1762</td>\n      <td>3293</td>\n      <td>1776</td>\n    </tr>\n    <tr>\n      <th>2</th>\n      <td>6353</td>\n      <td>8808</td>\n      <td>7684</td>\n      <td>2405</td>\n      <td>3516</td>\n      <td>7844</td>\n    </tr>\n    <tr>\n      <th>3</th>\n      <td>13265</td>\n      <td>1196</td>\n      <td>4221</td>\n      <td>6404</td>\n      <td>507</td>\n      <td>1788</td>\n    </tr>\n    <tr>\n      <th>4</th>\n      <td>22615</td>\n      <td>5410</td>\n      <td>7198</td>\n      <td>3915</td>\n      <td>1777</td>\n      <td>5185</td>\n    </tr>\n    <tr>\n      <th>...</th>\n      <td>...</td>\n      <td>...</td>\n      <td>...</td>\n      <td>...</td>\n      <td>...</td>\n      <td>...</td>\n    </tr>\n    <tr>\n      <th>435</th>\n      <td>29703</td>\n      <td>12051</td>\n      <td>16027</td>\n      <td>13135</td>\n      <td>182</td>\n      <td>2204</td>\n    </tr>\n    <tr>\n      <th>436</th>\n      <td>39228</td>\n      <td>1431</td>\n      <td>764</td>\n      <td>4510</td>\n      <td>93</td>\n      <td>2346</td>\n    </tr>\n    <tr>\n      <th>437</th>\n      <td>14531</td>\n      <td>15488</td>\n      <td>30243</td>\n      <td>437</td>\n      <td>14841</td>\n      <td>1867</td>\n    </tr>\n    <tr>\n      <th>438</th>\n      <td>10290</td>\n      <td>1981</td>\n      <td>2232</td>\n      <td>1038</td>\n      <td>168</td>\n      <td>2125</td>\n    </tr>\n    <tr>\n      <th>439</th>\n      <td>2787</td>\n      <td>1698</td>\n      <td>2510</td>\n      <td>65</td>\n      <td>477</td>\n      <td>52</td>\n    </tr>\n  </tbody>\n</table>\n<p>440 rows × 6 columns</p>\n</div>"
     },
     "metadata": {},
     "output_type": "display_data"
    },
    {
     "data": {
      "text/plain": "     Fresh   Milk\n0    12669   9656\n1     7057   9810\n2     6353   8808\n3    13265   1196\n4    22615   5410\n..     ...    ...\n435  29703  12051\n436  39228   1431\n437  14531  15488\n438  10290   1981\n439   2787   1698\n\n[440 rows x 2 columns]",
      "text/html": "<div>\n<style scoped>\n    .dataframe tbody tr th:only-of-type {\n        vertical-align: middle;\n    }\n\n    .dataframe tbody tr th {\n        vertical-align: top;\n    }\n\n    .dataframe thead th {\n        text-align: right;\n    }\n</style>\n<table border=\"1\" class=\"dataframe\">\n  <thead>\n    <tr style=\"text-align: right;\">\n      <th></th>\n      <th>Fresh</th>\n      <th>Milk</th>\n    </tr>\n  </thead>\n  <tbody>\n    <tr>\n      <th>0</th>\n      <td>12669</td>\n      <td>9656</td>\n    </tr>\n    <tr>\n      <th>1</th>\n      <td>7057</td>\n      <td>9810</td>\n    </tr>\n    <tr>\n      <th>2</th>\n      <td>6353</td>\n      <td>8808</td>\n    </tr>\n    <tr>\n      <th>3</th>\n      <td>13265</td>\n      <td>1196</td>\n    </tr>\n    <tr>\n      <th>4</th>\n      <td>22615</td>\n      <td>5410</td>\n    </tr>\n    <tr>\n      <th>...</th>\n      <td>...</td>\n      <td>...</td>\n    </tr>\n    <tr>\n      <th>435</th>\n      <td>29703</td>\n      <td>12051</td>\n    </tr>\n    <tr>\n      <th>436</th>\n      <td>39228</td>\n      <td>1431</td>\n    </tr>\n    <tr>\n      <th>437</th>\n      <td>14531</td>\n      <td>15488</td>\n    </tr>\n    <tr>\n      <th>438</th>\n      <td>10290</td>\n      <td>1981</td>\n    </tr>\n    <tr>\n      <th>439</th>\n      <td>2787</td>\n      <td>1698</td>\n    </tr>\n  </tbody>\n</table>\n<p>440 rows × 2 columns</p>\n</div>"
     },
     "metadata": {},
     "output_type": "display_data"
    },
    {
     "name": "stdout",
     "output_type": "stream",
     "text": [
      "myu.shape:(3, 2)\n",
      "myu:[[  660  8494]\n",
      " [39228  1431]\n",
      " [11170 10769]]\n",
      "len(myu):3\n",
      "X_cluster.shape:(440, 3)\n",
      "record_myu:[[ 4992  6019]\n",
      " [44622 12838]\n",
      " [19063  3566]]\n",
      "X:[[1.2669e+04 9.6560e+03 0.0000e+00]\n",
      " [7.0570e+03 9.8100e+03 0.0000e+00]\n",
      " [6.3530e+03 8.8080e+03 0.0000e+00]\n",
      " ...\n",
      " [1.4531e+04 1.5488e+04 2.0000e+00]\n",
      " [1.0290e+04 1.9810e+03 0.0000e+00]\n",
      " [2.7870e+03 1.6980e+03 0.0000e+00]]\n"
     ]
    },
    {
     "data": {
      "text/plain": "<Figure size 432x288 with 1 Axes>",
      "image/png": "[encoded data removed]"
     },
     "metadata": {
      "needs_background": "light"
     },
     "output_type": "display_data"
    }
   ],
   "source": [
    "#-----【問題12】卸売業者にとって有益な情報-----\n",
    "import numpy as np\n",
    "import pandas as pd\n",
    "\n",
    "#CSVをインポート\n",
    "targets_data = pd.read_csv(\"Wholesale customers data.csv\")\n",
    "\n",
    "#RegionとChannelを削除\n",
    "targets_data = targets_data.drop(targets_data.columns[[0, 1]], axis=1)\n",
    "display(targets_data)\n",
    "\n",
    "#FreshとMilkをスライス\n",
    "targets_data  = targets_data.loc[ :  ,  [ 'Fresh' ,  'Milk' ] ]\n",
    "display(targets_data)\n",
    "\n",
    "\n",
    "\n",
    "#----orosi　インスタンス化------\n",
    "\n",
    "orosi = ScratchKMeans(n_clusters=3,n_init=5,n_iter=15,verbose=True)\n",
    "\n",
    "record_myu,X = orosi.fit(targets_data.values)\n",
    "print(\"record_myu:{}\".format(record_myu)) #------検証中--------\n",
    "print(\"X:{}\".format(X)) #------検証中--------\n",
    "\n",
    "\n",
    "\n",
    "#----散布図の可視化------ここ色を勝手に増やすことはできますか？\n",
    "\n",
    "p = plt.subplot()\n",
    "\n",
    "p.scatter(X[X[:,2]==0, 0], X[X[:,2]==0, 1], c = 'red')\n",
    "p.scatter(X[X[:,2]==1, 0], X[X[:,2]==1, 1], c = 'blue')\n",
    "p.scatter(X[X[:,2]==2, 0], X[X[:,2]==2, 1], c = 'yellow')\n",
    "p.scatter(X[X[:,2]==3, 0], X[X[:,2]==3, 1], c = 'green')\n",
    "p.scatter(X[X[:,2]==4, 0], X[X[:,2]==4, 1], c = 'Cyan')\n",
    "p.scatter(X[X[:,2]==5, 0], X[X[:,2]==5, 1], c = 'Magenta')\n",
    "# 中心点\n",
    "p.scatter(record_myu[:, 0], record_myu[:, 1], color='black', marker='s')\n",
    "\n",
    "p.set_aspect('equal')\n",
    "\n",
    "plt.show()\n",
    "\n",
    "\n",
    "\n",
    "#卸売業者にとって有益な情報：FreshとMilkを比べるとFreshのほうがデータの幅が広くクラスタも３つに分かれているので\n",
    "#それぞれのクラスタごとに提案する商品や広告を変えると良い\n",
    "\n",
    "\n"
   ],
   "metadata": {
    "collapsed": false,
    "pycharm": {
     "name": "#%%\n"
    }
   }
  },
  {
   "cell_type": "markdown",
   "source": [
    "つまずいたところ\n",
    "問題のイメージがわかない\n",
    "やりたいことがわからない\n",
    "コードからやりたいことを読み解こうとしたがわからない\n",
    "何を描けばいいのかわからない\n",
    "\n",
    "流れを理解するのと、忘れないためにどうすればいいか\n",
    "defの上と、リターンの後ろに何をしているのかコメントを書く\n",
    "\n",
    "関数の目的を理解していない、どこで使えばいいのか"
   ],
   "metadata": {
    "collapsed": false
   }
  },
  {
   "cell_type": "code",
   "execution_count": 516,
   "outputs": [
    {
     "name": "stdout",
     "output_type": "stream",
     "text": [
      "[[100   0]\n",
      " [200   1]\n",
      " [100   0]\n",
      " [100   0]\n",
      " [100   0]\n",
      " [200   0]]\n"
     ]
    }
   ],
   "source": [
    "\n",
    "x = np.array([[100,0],[200,1],[100,0],[100,0],[100,0],[200,0]])\n",
    "print(x)"
   ],
   "metadata": {
    "collapsed": false,
    "pycharm": {
     "name": "#%%\n"
    }
   }
  },
  {
   "cell_type": "code",
   "execution_count": 517,
   "outputs": [
    {
     "name": "stdout",
     "output_type": "stream",
     "text": [
      "[ True False  True  True  True  True]\n"
     ]
    }
   ],
   "source": [
    "_bool = x[:,-1]==0\n",
    "print(_bool)"
   ],
   "metadata": {
    "collapsed": false,
    "pycharm": {
     "name": "#%%\n"
    }
   }
  },
  {
   "cell_type": "code",
   "execution_count": 518,
   "outputs": [
    {
     "data": {
      "text/plain": "array([[100,   0],\n       [100,   0],\n       [100,   0],\n       [100,   0],\n       [200,   0]])"
     },
     "execution_count": 518,
     "metadata": {},
     "output_type": "execute_result"
    }
   ],
   "source": [
    "x[_bool]\n",
    "\n"
   ],
   "metadata": {
    "collapsed": false,
    "pycharm": {
     "name": "#%%\n"
    }
   }
  },
  {
   "cell_type": "code",
   "execution_count": 518,
   "outputs": [],
   "source": [],
   "metadata": {
    "collapsed": false,
    "pycharm": {
     "name": "#%%\n"
    }
   }
  }
 ]
}