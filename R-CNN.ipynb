{
 "cells": [
  {
   "cell_type": "code",
   "execution_count": null,
   "metadata": {
    "collapsed": true
   },
   "outputs": [],
   "source": [
    "import tensorflow as tf\n",
    "import matplotlib as mpl\n",
    "import matplotlib.pyplot as plt\n",
    "import numpy as np\n",
    "import os\n",
    "import pandas as pd\n",
    "from keras import backend as K\n",
    "from sklearn.model_selection import train_test_split\n",
    "from sklearn.preprocessing import StandardScaler\n",
    "from keras.optimizers import adam_v2\n",
    "optimizer=adam_v2.Adam(lr=0.01)\n",
    "\n",
    "from sklearn.datasets import load_iris\n",
    "from sklearn.preprocessing import OneHotEncoder\n",
    "from keras.datasets import mnist\n",
    "\n",
    "###################\n",
    "# 問題1\n",
    "###################\n",
    "\n",
    "!python train.py -p annotation.txt\n",
    "!python predict.py -i kaggle_simpson_testset/kaggle_simpson_testset -c ./save/train_20210830-170538_config.pickle\n"
   ]
  },
  {
   "cell_type": "markdown",
   "source": [
    "###################\n",
    "# 問題2\n",
    "###################\n",
    "\n",
    "\n",
    "①RPNは、`resnet.py`の下記で実装されている。\n",
    "\n",
    "```def rpn(base_layers,num_anchors)```\n",
    "\n",
    "②ROIプーリングは、`RoiPoolingConv.py`の下記で実装されている。\n",
    "\n",
    "```class RoiPoolingConv(Layer)```\n",
    "\n",
    "③各種損失計算は、`losses.py`の下記で実装されている。\n",
    "\n",
    "```\n",
    "def rpn_loss_regr(num_anchors)\n",
    "def rpn_loss_cls(num_anchors)\n",
    "def class_loss_regr(num_classes)\n",
    "def class_loss_cls(y_true, y_pred)\n",
    "```"
   ],
   "metadata": {
    "collapsed": false
   }
  },
  {
   "cell_type": "code",
   "execution_count": null,
   "outputs": [],
   "source": [
    "###################\n",
    "# 問題3　学習済みの重みによる推定\n",
    "###################\n",
    "\n",
    "!python yolo_video.py --image\n"
   ],
   "metadata": {
    "collapsed": false,
    "pycharm": {
     "name": "#%%\n"
    }
   }
  },
  {
   "cell_type": "code",
   "execution_count": null,
   "outputs": [],
   "source": [
    "###################\n",
    "# 問題4　学習のためのファイルを作成\n",
    "###################\n",
    "\n",
    "# ライブラリのimport\n",
    "import pandas as pd\n",
    "from sklearn.preprocessing import LabelEncoder"
   ],
   "metadata": {
    "collapsed": false,
    "pycharm": {
     "name": "#%%\n"
    }
   }
  },
  {
   "cell_type": "code",
   "execution_count": null,
   "outputs": [],
   "source": [
    "# 読み込みと確認\n",
    "annotation_df = pd.read_csv('annotation_rcnn.txt',header=None)\n",
    "n_sample, n_col = annotation_df.shape\n",
    "annotation_df.head()"
   ],
   "metadata": {
    "collapsed": false,
    "pycharm": {
     "name": "#%%\n"
    }
   }
  },
  {
   "cell_type": "code",
   "execution_count": null,
   "outputs": [],
   "source": [
    "# キャラクター名を数値（クラス・ラベル）に変更する\n",
    "le = LabelEncoder()\n",
    "annotation_df.iloc[:,5] = le.fit_transform(annotation_df.iloc[:,5])\n",
    "annotation_df.head()"
   ],
   "metadata": {
    "collapsed": false,
    "pycharm": {
     "name": "#%%\n"
    }
   }
  },
  {
   "cell_type": "code",
   "execution_count": null,
   "outputs": [],
   "source": [
    "rcnn_path = 'annotation_rcnn.txt'\n",
    "yolo_path = 'annotation.txt'\n",
    "\n",
    "# rcnnの方のannotation.txtを開く\n",
    "with open(rcnn_path) as f:\n",
    "    # データを読み込む\n",
    "    lines = f.readline()\n",
    "    # データ数（行数）でループ\n",
    "    for i in range(n_sample):\n",
    "        # カンマ区切りのデータをリストに変換\n",
    "        split_line = lines.split(',')\n",
    "        # 画像のパスは一番前に格納されているので取得\n",
    "        image_path = split_line[0]\n",
    "        # パス変更\n",
    "        split_line[0] = './' + image_path\n",
    "        # 末尾をキャラクター名から数値（クラス・ラベル）に変更→改行コード加える\n",
    "        split_line[-1] = str(annotation_df.iloc[i,5]) + '\\n'\n",
    "        # yoloの方のannotation.txtを開き保存\n",
    "        with open(yolo_path, mode='a') as out_f:\n",
    "            join_line = ','.join(split_line)\n",
    "            join_line = join_line.replace('.jpg,','.jpg ')\n",
    "            out_f.write(join_line)\n"
   ],
   "metadata": {
    "collapsed": false,
    "pycharm": {
     "name": "#%%\n"
    }
   }
  },
  {
   "cell_type": "code",
   "execution_count": null,
   "outputs": [],
   "source": [
    "###################\n",
    "# 問題5 学習が行えることの確認\n",
    "###################"
   ],
   "metadata": {
    "collapsed": false,
    "pycharm": {
     "name": "#%%\n"
    }
   }
  }
 ],
 "metadata": {
  "kernelspec": {
   "display_name": "Python 3",
   "language": "python",
   "name": "python3"
  },
  "language_info": {
   "codemirror_mode": {
    "name": "ipython",
    "version": 2
   },
   "file_extension": ".py",
   "mimetype": "text/x-python",
   "name": "python",
   "nbconvert_exporter": "python",
   "pygments_lexer": "ipython2",
   "version": "2.7.6"
  }
 },
 "nbformat": 4,
 "nbformat_minor": 0
}