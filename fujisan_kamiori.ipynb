{
 "cells": [
  {
   "cell_type": "markdown",
   "metadata": {},
   "source": [
    "【問題1】何回折ったら富士山を超えるか"
   ]
  },
  {
   "cell_type": "code",
   "execution_count": 29,
   "metadata": {},
   "outputs": [
    {
     "name": "stdout",
     "output_type": "stream",
     "text": [
      "厚さが目標の高さを超えるのは『26』回折った時です。\n"
     ]
    }
   ],
   "source": [
    "\"\"\"\n",
    "定数、変数、入力、出力にていて\n",
    "紙の厚さ：THICKNESS = float(0.00008)\n",
    "折る回数：Folds_number\n",
    "ｎ回折った紙の高さ:Folded_thickness\n",
    "目標の高さ（富士山など）：Target_height\n",
    "\"\"\"\n",
    "\n",
    "THICKNESS = float(0.00008) #紙の厚さ0.00008メートル\n",
    "Folds_number_list = [] #折った後の紙の厚さを格納するリスト\n",
    "\n",
    "###------------------------------\n",
    "def Paper_height_and_Folds_number(Target_height): #目的の紙の厚さまで何回折ればいいか算出する関数\n",
    "    Folded_thickness = THICKNESS #紙の厚さを入力\n",
    "    while Target_height >= Folded_thickness: #目的の紙の厚さより、折った紙の厚さが小さい限り繰り返す\n",
    "        Folded_thickness = Folded_thickness * 2 #２倍にしてもう一回折る\n",
    "        Folds_number_list.append(Folded_thickness) #折った後の厚さをリストに入れる\n",
    "    #print(Folds_number_list)\n",
    "    #print(len(Folds_number_list))\n",
    "    print(\"厚さが目標の高さを超えるのは『{0}』回折った時です。\".format(len(Folds_number_list)))\n",
    "    return\n",
    "###------------------------------\n",
    "\n",
    "Paper_height_and_Folds_number(int(3776))\n",
    "\n"
   ]
  },
  {
   "cell_type": "markdown",
   "metadata": {},
   "source": [
    "【問題2】任意の厚さに対応した関数"
   ]
  },
  {
   "cell_type": "code",
   "execution_count": 65,
   "metadata": {},
   "outputs": [
    {
     "name": "stdout",
     "output_type": "stream",
     "text": [
      "厚さが目標の高さを超えるのは『69』回折った時です。\n"
     ]
    }
   ],
   "source": [
    "\"\"\"問題１で作った物を代用します\n",
    "折る前の厚さ：THICKNESS\n",
    "\"\"\"\n",
    "\n",
    "Folds_number_list = [] #折った後の紙の厚さを格納するリスト\n",
    "\n",
    "###------------------------------\n",
    "def Paper_height_and_Folds_number(Target_height,THICKNESS): #目的の紙の厚さまで何回折ればいいか算出する関数\n",
    "    Folded_thickness = THICKNESS #紙の厚さを入力\n",
    "    while Target_height >= Folded_thickness: #目的の紙の厚さより、折った紙の厚さが小さい限り繰り返す\n",
    "        Folded_thickness = Folded_thickness * 2 #２倍にしてもう一回折る\n",
    "        Folds_number_list.append(Folded_thickness) #折った後の厚さをリストに入れる\n",
    "    #print(Folds_number_list)\n",
    "    #print(len(Folds_number_list))\n",
    "    print(\"厚さが目標の高さを超えるのは『{0}』回折った時です。\".format(len(Folds_number_list)))\n",
    "    return\n",
    "###------------------------------\n",
    "\n",
    "#「プロキシマ・ケンタウリ」4.0175e+16メートルまで必要な折る回数を算出します。\n",
    "Paper_height_and_Folds_number(int(4.0175 * 10 ** 16),float(0.00008))\n",
    "\n",
    "#「月」4.0175e+16メートルまで必要な折る回数を算出します。\n",
    "#Paper_height_and_Folds_number(int(3.844e+8),float(0.00008))\n"
   ]
  },
  {
   "cell_type": "markdown",
   "metadata": {},
   "source": [
    "【問題3】必要な紙の長さ"
   ]
  },
  {
   "cell_type": "code",
   "execution_count": 79,
   "metadata": {},
   "outputs": [
    {
     "name": "stdout",
     "output_type": "stream",
     "text": [
      "月に届くためには：厚さ8e-05の紙を43回折るために必要な紙の長さは3.240919444170781e+21メートルです。\n",
      "\n",
      "\n",
      "富士山に届くためには：厚さ8e-05の紙を26回折るために必要な紙の長さは188646348487.24017メートルです。\n",
      "\n",
      "\n",
      "最も近い太陽以外の恒星に届くためには：厚さ8e-05の紙を69回折るために必要な紙の長さは1.4595803601100348e+37メートルです。\n",
      "\n",
      "\n"
     ]
    }
   ],
   "source": [
    "import math\n",
    "\"\"\"\n",
    "厚さt0の紙をn回折るために必要な紙の長さLを求める公式\n",
    "L = (math.pi * t / int(6))*(2**n + 4)*(2**n - 1)\n",
    "を使います。\n",
    "\"\"\"\n",
    "\n",
    "###------------------------------\n",
    "def Required_paper_length(goal , t0 , n):\n",
    "    L = (float(math.pi) * t0 / int(6))*(int(2) ** int(n) + int(4))*(int(2) ** int(n) - int(1))\n",
    "    print(\"{0}に届くためには：厚さ{1}の紙を{2}回折るために必要な紙の長さは{3}メートルです。\".format(goal , t0 , n , L))\n",
    "    print(\"\\n\")\n",
    "    return\n",
    "###------------------------------\n",
    "\n",
    "#①「月」に届くために必要な長さ、月には【43】回折る必要があるので\n",
    "Required_paper_length(str(\"月\") , float(0.00008) , int(43))\n",
    "\n",
    "#②「富士山」に届くために必要な長さ、月には【26】回折る必要があるので\n",
    "Required_paper_length(str(\"富士山\") , float(0.00008) , int(26))\n",
    "\n",
    "#③「最も近い太陽以外の恒星」に届くために必要な長さ、月には【69】回折る必要があるので\n",
    "Required_paper_length(str(\"最も近い太陽以外の恒星\") , float(0.00008) , int(69))\n",
    "\n",
    "\n"
   ]
  },
  {
   "cell_type": "code",
   "execution_count": null,
   "metadata": {},
   "outputs": [],
   "source": []
  },
  {
   "cell_type": "code",
   "execution_count": null,
   "metadata": {},
   "outputs": [],
   "source": []
  }
 ],
 "metadata": {
  "kernelspec": {
   "display_name": "Python 3",
   "language": "python",
   "name": "python3"
  },
  "language_info": {
   "codemirror_mode": {
    "name": "ipython",
    "version": 3
   },
   "file_extension": ".py",
   "mimetype": "text/x-python",
   "name": "python",
   "nbconvert_exporter": "python",
   "pygments_lexer": "ipython3",
   "version": "3.8.5"
  }
 },
 "nbformat": 4,
 "nbformat_minor": 4
}
