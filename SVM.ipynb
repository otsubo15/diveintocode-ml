{
 "cells": [
  {
   "cell_type": "code",
   "execution_count": 39,
   "metadata": {
    "pycharm": {
     "name": "#%%\n"
    }
   },
   "outputs": [],
   "source": [
    "#-------------SVMスクラッチ-----------\n",
    "\n",
    "class ScratchSVMClassifier:\n",
    "    \n",
    "    \"\"\"\n",
    "    SVM分類器のスクラッチ実装\n",
    "    Parameters\n",
    "    ----------\n",
    "    num_iter : int\n",
    "      イテレーション数\n",
    "    alfa : float\n",
    "      学習率\n",
    "    kernel : str\n",
    "      カーネルの種類。線形カーネル（linear）か多項式カーネル（polly）\n",
    "    threshold : float\n",
    "      サポートベクターを選ぶための閾値\n",
    "    verbose : bool\n",
    "      学習過程を出力する場合はTrue\n",
    "    Attributes\n",
    "    ----------\n",
    "    self.n_support_vectors : int\n",
    "      サポートベクターの数\n",
    "    self.index_support_vectors : 次の形のndarray, shape (n_support_vectors,)\n",
    "      サポートベクターのインデックス\n",
    "    self.X_sv :  次の形のndarray, shape(n_support_vectors, n_features)\n",
    "      サポートベクターの特徴量\n",
    "    self.lam_sv :  次の形のndarray, shape(n_support_vectors, 1)\n",
    "      サポートベクターの未定乗数\n",
    "    self.S :  次の形のndarray, shape(n_support_vectors, 1)\n",
    "      サポートベクターの配列\n",
    "    self.y_hat :  次の形のndarray, shape(n_support_vectors, 1)\n",
    "\n",
    "    \"\"\"\n",
    "    def __init__(self, num_iter, alfa, kernel='linear', threshold=1e-5, verbose=False):\n",
    "        # ハイパーパラメータを属性として記録\n",
    "        self.iter = num_iter\n",
    "        self.alfa = alfa\n",
    "        self.kernel = kernel\n",
    "        self.threshold = threshold\n",
    "        self.verbose = verbose\n",
    "        \n",
    "        # 目的関数の値を記録する配列を用意\n",
    "        self.s = np.array([])                     #サポートベクターの配列\n",
    "        self.index_support_vectors = np.array([]) #サポートベクターのラベル(yの値)\n",
    "        self.n_support_vectors = np.array([])     #サポートベクターの要素数\n",
    "        self.lam_sv = np.array([])                #ラムダ(サポートベクターの未定乗数)\n",
    "        self.X_sv = np.array([])                  #サポートベクター\n",
    "\n",
    "\n",
    "    #ラグランジュの未定乗数法による最急降下    \n",
    "    def fit(self, X, y, X_val=None, y_val=None):\n",
    "        \"\"\"\n",
    "        SVM分類器を学習する。検証データが入力された場合はそれに対する精度もイテレーションごとに計算する。\n",
    "        Parameters\n",
    "        ----------\n",
    "        X : 次の形のndarray, shape (n_samples, n_features)\n",
    "            訓練データの特徴量\n",
    "        y : 次の形のndarray, shape (n_samples, )\n",
    "            訓練データの正解値\n",
    "        X_val : 次の形のndarray, shape (n_samples, n_features)\n",
    "            検証データの特徴量\n",
    "        y_val : 次の形のndarray, shape (n_samples, )\n",
    "            検証データの正解値\n",
    "        \"\"\"\n",
    "\n",
    "        #①テストデータでラグランジュ乗数λを計算\n",
    "        self.lam_sv = Lagrange(self,X,y)\n",
    "\n",
    "        #②テストデータでサポートベクターの決定\n",
    "        self.s, self.index_support_vectors = suport_victor()\n",
    "\n",
    "\n",
    "    #ラグランジュ乗数λの計算部分\n",
    "    def Lagrange(self,X,y):\n",
    "\n",
    "        #self.lam_svをXのデータ数分のゼロ配列と定義\n",
    "        self.lam_sv = np.zeros(X.shape[0])\n",
    "\n",
    "        sum_siguma = 0 #初期値の定義\n",
    "\n",
    "        #データの数\n",
    "        n =  X.shape[0]\n",
    "\n",
    "        #ダイバーのラグランジュの未定乗数法の公式\n",
    "        for i in range( n ):\n",
    "\n",
    "            for j in range( n ):\n",
    "                siguma = self.lam_sv[i] * y[i] * y[j] * X[i,:].T @ X[j,:]\n",
    "                sum_siguma += siguma\n",
    "\n",
    "                self.lam_sv[i] = self.lam_sv[i] + self.alfa * (1 - sum_siguma)\n",
    "\n",
    "        return self.lam_sv\n",
    "\n",
    "    #サポートベクターの決定\n",
    "    def suport_victor(self):\n",
    "        \"\"\"\n",
    "        Parameters\n",
    "        ----------\n",
    "        self.lam_sv: ラグランジュ乗数λ（ndarray）\n",
    "        be-ta : ハイパーパラメータ（float）\n",
    "\n",
    "        Attributes\n",
    "        ----------\n",
    "        self.s : サポートベクター（ndarray）\n",
    "        self.index_support_vectors : サポートベクターの要素に対応したｙ（ndarray）\n",
    "        \"\"\"\n",
    "\n",
    "        #サポートベクターの要素番号の配列 (Xの中のハイパーパラメータより大きい要素No)\n",
    "        s_num = np.where(self.lam_sv > 0.005 ) #(array([0, 1, 5], dtype=int64),)\n",
    "\n",
    "        #s_numhaは配列とタイプのタプルで出力されるのでarrayのみ指定した。\n",
    "        s_num = s_num[0]\n",
    "\n",
    "        #空のサポートベクターの要素数を定義\n",
    "        self.n_support_vectors = len(s_num)\n",
    "\n",
    "        #サポートベクターの配列\n",
    "        self.s = X[s_num]\n",
    "        print(\"self.s:{}\".format(self.s)) #------検証中--------\n",
    "\n",
    "        #サポートベクターのインデックス\n",
    "        self.index_support_vectors = y[s_num]\n",
    "        print(\"self.index_support_vectors:{}\".format(self.index_support_vectors)) #------検証中--------\n",
    "\n",
    "        return self.s, self.index_support_vectors\n",
    "\n",
    "    #予測値の推定\n",
    "    def predict(self,X):\n",
    "\n",
    "        for n in range(self.n_support_vectors):\n",
    "            y_hat = self.lam_sv[n] * self.index_support_vectors[n] * X.T @ self.s[n,:]\n",
    "        return y_hat\n"
   ]
  },
  {
   "cell_type": "code",
   "execution_count": 40,
   "metadata": {},
   "outputs": [],
   "source": [
    "#-----------検証用データ-----------\n",
    "\n",
    "import numpy as np\n",
    "np.random.seed(seed=0)\n",
    "n_samples = 10\n",
    "f0 = [-1, 2]\n",
    "f1 = [2, -1]\n",
    "cov = [[1.0,0.8], [0.8, 1.0]]\n",
    "f0 = np.random.multivariate_normal(f0, cov, n_samples // 2)\n",
    "f1 = np.random.multivariate_normal(f1, cov, n_samples // 2)\n",
    "X = np.concatenate([f0, f1])\n",
    "y = np.concatenate([\n",
    "    np.full(n_samples // 2, 1),\n",
    "    np.full(n_samples // 2, -1)\n",
    "])"
   ]
  },
  {
   "cell_type": "code",
   "execution_count": 41,
   "outputs": [],
   "source": [
    "#-------------訓練データと検証データに分割-----------\n",
    "\n",
    "from sklearn.model_selection import train_test_split\n",
    "X_train, X_test, y_train, y_test = train_test_split(X, y, test_size=0.3, random_state=0, shuffle=True)\n"
   ],
   "metadata": {
    "collapsed": false,
    "pycharm": {
     "name": "#%%\n"
    }
   }
  },
  {
   "cell_type": "code",
   "execution_count": 42,
   "outputs": [
    {
     "name": "stdout",
     "output_type": "stream",
     "text": [
      "[-9.71829031e-02 -5.66569783e-04 -1.26660615e-02  4.64724595e-03\n",
      " -1.75503636e-03  2.92068392e-04  6.46789974e-05]\n",
      "self.s:[]\n",
      "self.index_support_vectors:[]\n"
     ]
    },
    {
     "ename": "UnboundLocalError",
     "evalue": "local variable 'y_hat' referenced before assignment",
     "output_type": "error",
     "traceback": [
      "\u001B[1;31m---------------------------------------------------------------------------\u001B[0m",
      "\u001B[1;31mUnboundLocalError\u001B[0m                         Traceback (most recent call last)",
      "\u001B[1;32m<ipython-input-42-5b878f236c5b>\u001B[0m in \u001B[0;36m<module>\u001B[1;34m\u001B[0m\n\u001B[0;32m     12\u001B[0m \u001B[0msample1\u001B[0m\u001B[1;33m.\u001B[0m\u001B[0msuport_victor\u001B[0m\u001B[1;33m(\u001B[0m\u001B[1;33m)\u001B[0m\u001B[1;33m\u001B[0m\u001B[1;33m\u001B[0m\u001B[0m\n\u001B[0;32m     13\u001B[0m \u001B[1;33m\u001B[0m\u001B[0m\n\u001B[1;32m---> 14\u001B[1;33m \u001B[0msample1\u001B[0m\u001B[1;33m.\u001B[0m\u001B[0mpredict\u001B[0m\u001B[1;33m(\u001B[0m\u001B[0mX_test\u001B[0m\u001B[1;33m)\u001B[0m\u001B[1;33m\u001B[0m\u001B[1;33m\u001B[0m\u001B[0m\n\u001B[0m\u001B[0;32m     15\u001B[0m \u001B[1;33m\u001B[0m\u001B[0m\n\u001B[0;32m     16\u001B[0m \u001B[1;33m\u001B[0m\u001B[0m\n",
      "\u001B[1;32m<ipython-input-39-6978b33dcccf>\u001B[0m in \u001B[0;36mpredict\u001B[1;34m(self, X)\u001B[0m\n\u001B[0;32m    131\u001B[0m         \u001B[1;32mfor\u001B[0m \u001B[0mn\u001B[0m \u001B[1;32min\u001B[0m \u001B[0mrange\u001B[0m\u001B[1;33m(\u001B[0m\u001B[0mself\u001B[0m\u001B[1;33m.\u001B[0m\u001B[0mn_support_vectors\u001B[0m\u001B[1;33m)\u001B[0m\u001B[1;33m:\u001B[0m\u001B[1;33m\u001B[0m\u001B[1;33m\u001B[0m\u001B[0m\n\u001B[0;32m    132\u001B[0m             \u001B[0my_hat\u001B[0m \u001B[1;33m=\u001B[0m \u001B[0mself\u001B[0m\u001B[1;33m.\u001B[0m\u001B[0mlam_sv\u001B[0m\u001B[1;33m[\u001B[0m\u001B[0mn\u001B[0m\u001B[1;33m]\u001B[0m \u001B[1;33m*\u001B[0m \u001B[0mself\u001B[0m\u001B[1;33m.\u001B[0m\u001B[0mindex_support_vectors\u001B[0m\u001B[1;33m[\u001B[0m\u001B[0mn\u001B[0m\u001B[1;33m]\u001B[0m \u001B[1;33m*\u001B[0m \u001B[0mX\u001B[0m\u001B[1;33m.\u001B[0m\u001B[0mT\u001B[0m \u001B[1;33m@\u001B[0m \u001B[0mself\u001B[0m\u001B[1;33m.\u001B[0m\u001B[0ms\u001B[0m\u001B[1;33m[\u001B[0m\u001B[0mn\u001B[0m\u001B[1;33m,\u001B[0m\u001B[1;33m:\u001B[0m\u001B[1;33m]\u001B[0m\u001B[1;33m\u001B[0m\u001B[1;33m\u001B[0m\u001B[0m\n\u001B[1;32m--> 133\u001B[1;33m         \u001B[1;32mreturn\u001B[0m \u001B[0my_hat\u001B[0m\u001B[1;33m\u001B[0m\u001B[1;33m\u001B[0m\u001B[0m\n\u001B[0m\u001B[0;32m    134\u001B[0m \u001B[1;33m\u001B[0m\u001B[0m\n\u001B[0;32m    135\u001B[0m \u001B[1;33m\u001B[0m\u001B[0m\n",
      "\u001B[1;31mUnboundLocalError\u001B[0m: local variable 'y_hat' referenced before assignment"
     ]
    }
   ],
   "source": [
    "#-------------学習と推定-----------\n",
    "\n",
    "#ScratchSVMClassifierをsample1でインスタンス化\n",
    "sample1 = ScratchSVMClassifier(num_iter = 10, alfa = 0.1, kernel='linear', threshold=1e-5, verbose=False)\n",
    "\n",
    "#sample1でfitメソッドを呼び出し\n",
    "lam_sv = sample1.Lagrange(X_train,y_train)\n",
    "\n",
    "print(lam_sv)\n",
    "\n",
    "#サポートベクターの決定を呼び出し\n",
    "sample1.suport_victor()\n",
    "\n",
    "y_hat = sample1.predict(X_test)\n"
   ],
   "metadata": {
    "collapsed": false,
    "pycharm": {
     "name": "#%%\n"
    }
   }
  },
  {
   "cell_type": "markdown",
   "metadata": {
    "pycharm": {
     "name": "#%% md\n"
    }
   },
   "source": [
    "-------------エラーが出た項目-----------\n",
    "\n",
    "●AttributeError: 'numpy.ndarray' object has no attribute 'lam_sv'\n",
    "lam_svを空のndarrayとして定義せず使った\n",
    "⇒self.lam_sv = np.array([])とすることで解決した。設計図に落とし込めていない\n",
    "\n",
    "●TypeError: Lagrange() missing 1 required positional argument: 'y'\n",
    "クラス内のメソッド\n",
    "def Lagrange(self,X,y):\n",
    "をクラスの外で\n",
    "self.lam_sv = sample1.Lagrange(X,y)\n",
    "と呼びだしたら引数ｙが足りないとエラー\n",
    "⇒クラスの呼び出しの最後に（）を付けてない。クラスの呼び出しの（）の中身が__init__の（）と同期している事を忘れていた。\n",
    "\n",
    "●TypeError: 'int' object is not iterable\n",
    "for i in self.n_support_vectors: としたが上記エラーになる。self.n_support_vectorsはintで数字は3なのにできない.\n",
    "⇒rangeを付けるのを忘れていた。また[0.1.5]の要素をforで取り出そうとしたがX[0.1.5]で取れることが分かり\n",
    "ndarrayの操作の基礎ができてない事が分かった。\n",
    "\n",
    "●メソッドを呼び出すときに\n",
    "インスタンス名.メソッド名なのにdef メソッド名()としてしまった。"
   ],
   "outputs": [
    {
     "ename": "SyntaxError",
     "evalue": "invalid syntax (<ipython-input-17-85fdab19120b>, line 1)",
     "output_type": "error",
     "traceback": [
      "\u001B[1;36m  File \u001B[1;32m\"<ipython-input-17-85fdab19120b>\"\u001B[1;36m, line \u001B[1;32m1\u001B[0m\n\u001B[1;33m    -------------エラーが出た項目-----------\u001B[0m\n\u001B[1;37m                                    ^\u001B[0m\n\u001B[1;31mSyntaxError\u001B[0m\u001B[1;31m:\u001B[0m invalid syntax\n"
     ]
    }
   ],
   "execution_count": 17
  },
  {
   "cell_type": "code",
   "execution_count": null,
   "outputs": [],
   "source": [],
   "metadata": {
    "collapsed": false,
    "pycharm": {
     "name": "#%%\n"
    }
   }
  },
  {
   "cell_type": "code",
   "execution_count": null,
   "outputs": [],
   "source": [],
   "metadata": {
    "collapsed": false,
    "pycharm": {
     "name": "#%%\n"
    }
   }
  }
 ],
 "metadata": {
  "kernelspec": {
   "display_name": "Python 3",
   "language": "python",
   "name": "python3"
  },
  "language_info": {
   "codemirror_mode": {
    "name": "ipython",
    "version": 3
   },
   "file_extension": ".py",
   "mimetype": "text/x-python",
   "name": "python",
   "nbconvert_exporter": "python",
   "pygments_lexer": "ipython3",
   "version": "3.8.5"
  }
 },
 "nbformat": 4,
 "nbformat_minor": 4
}